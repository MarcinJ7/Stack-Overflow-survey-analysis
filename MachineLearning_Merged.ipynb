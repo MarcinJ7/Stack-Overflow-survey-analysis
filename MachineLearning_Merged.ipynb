{
 "cells": [
  {
   "cell_type": "code",
   "execution_count": 1,
   "id": "227f2552",
   "metadata": {},
   "outputs": [],
   "source": [
    "# Import packages"
   ]
  },
  {
   "cell_type": "code",
   "execution_count": 2,
   "id": "b87cdeba",
   "metadata": {},
   "outputs": [],
   "source": [
    "import pandas as pd\n",
    "import numpy as np"
   ]
  },
  {
   "cell_type": "code",
   "execution_count": 3,
   "id": "1412bc48",
   "metadata": {},
   "outputs": [],
   "source": [
    "# Load clean data from csv file "
   ]
  },
  {
   "cell_type": "code",
   "execution_count": 4,
   "id": "3d56e1c0",
   "metadata": {},
   "outputs": [],
   "source": [
    "df = pd.read_csv('clear_data.csv', sep = ';').drop(columns = ['Unnamed: 0'])"
   ]
  },
  {
   "cell_type": "code",
   "execution_count": 5,
   "id": "4da78ba4",
   "metadata": {
    "scrolled": false
   },
   "outputs": [
    {
     "data": {
      "text/html": [
       "<div>\n",
       "<style scoped>\n",
       "    .dataframe tbody tr th:only-of-type {\n",
       "        vertical-align: middle;\n",
       "    }\n",
       "\n",
       "    .dataframe tbody tr th {\n",
       "        vertical-align: top;\n",
       "    }\n",
       "\n",
       "    .dataframe thead th {\n",
       "        text-align: right;\n",
       "    }\n",
       "</style>\n",
       "<table border=\"1\" class=\"dataframe\">\n",
       "  <thead>\n",
       "    <tr style=\"text-align: right;\">\n",
       "      <th></th>\n",
       "      <th>YearsCode</th>\n",
       "      <th>Age1stCode</th>\n",
       "      <th>YearsCodePro</th>\n",
       "      <th>JobSeek</th>\n",
       "      <th>WorkWeekHrs</th>\n",
       "      <th>Age</th>\n",
       "      <th>MainBranch_I am a developer by profession</th>\n",
       "      <th>MainBranch_I am a student who is learning to code</th>\n",
       "      <th>MainBranch_I am not primarily a developer, but I write code sometimes as part of my work</th>\n",
       "      <th>MainBranch_I code primarily as a hobby</th>\n",
       "      <th>...</th>\n",
       "      <th>Sexuality_Bisexual</th>\n",
       "      <th>Sexuality_Gay or Lesbian</th>\n",
       "      <th>Sexuality_Queer</th>\n",
       "      <th>Sexuality_Straight / Heterosexual</th>\n",
       "      <th>SurveyLength_Appropriate in length</th>\n",
       "      <th>SurveyLength_Too long</th>\n",
       "      <th>SurveyLength_Too short</th>\n",
       "      <th>SurveyEase_Difficult</th>\n",
       "      <th>SurveyEase_Easy</th>\n",
       "      <th>SurveyEase_Neither easy nor difficult</th>\n",
       "    </tr>\n",
       "  </thead>\n",
       "  <tbody>\n",
       "    <tr>\n",
       "      <th>0</th>\n",
       "      <td>3.0</td>\n",
       "      <td>22.0</td>\n",
       "      <td>1.0</td>\n",
       "      <td>I’m not actively looking, but I am open to new...</td>\n",
       "      <td>40.0</td>\n",
       "      <td>28.0</td>\n",
       "      <td>0</td>\n",
       "      <td>0</td>\n",
       "      <td>1</td>\n",
       "      <td>0</td>\n",
       "      <td>...</td>\n",
       "      <td>0</td>\n",
       "      <td>0</td>\n",
       "      <td>0</td>\n",
       "      <td>1</td>\n",
       "      <td>1</td>\n",
       "      <td>0</td>\n",
       "      <td>0</td>\n",
       "      <td>0</td>\n",
       "      <td>0</td>\n",
       "      <td>1</td>\n",
       "    </tr>\n",
       "    <tr>\n",
       "      <th>1</th>\n",
       "      <td>3.0</td>\n",
       "      <td>16.0</td>\n",
       "      <td>0.5</td>\n",
       "      <td>I am not interested in new job opportunities</td>\n",
       "      <td>80.0</td>\n",
       "      <td>22.0</td>\n",
       "      <td>1</td>\n",
       "      <td>0</td>\n",
       "      <td>0</td>\n",
       "      <td>0</td>\n",
       "      <td>...</td>\n",
       "      <td>0</td>\n",
       "      <td>0</td>\n",
       "      <td>0</td>\n",
       "      <td>1</td>\n",
       "      <td>1</td>\n",
       "      <td>0</td>\n",
       "      <td>0</td>\n",
       "      <td>0</td>\n",
       "      <td>1</td>\n",
       "      <td>0</td>\n",
       "    </tr>\n",
       "    <tr>\n",
       "      <th>2</th>\n",
       "      <td>16.0</td>\n",
       "      <td>14.0</td>\n",
       "      <td>9.0</td>\n",
       "      <td>I am not interested in new job opportunities</td>\n",
       "      <td>55.0</td>\n",
       "      <td>30.0</td>\n",
       "      <td>1</td>\n",
       "      <td>0</td>\n",
       "      <td>0</td>\n",
       "      <td>0</td>\n",
       "      <td>...</td>\n",
       "      <td>0</td>\n",
       "      <td>0</td>\n",
       "      <td>0</td>\n",
       "      <td>1</td>\n",
       "      <td>1</td>\n",
       "      <td>0</td>\n",
       "      <td>0</td>\n",
       "      <td>0</td>\n",
       "      <td>1</td>\n",
       "      <td>0</td>\n",
       "    </tr>\n",
       "    <tr>\n",
       "      <th>3</th>\n",
       "      <td>13.0</td>\n",
       "      <td>15.0</td>\n",
       "      <td>3.0</td>\n",
       "      <td>I am not interested in new job opportunities</td>\n",
       "      <td>15.0</td>\n",
       "      <td>28.0</td>\n",
       "      <td>0</td>\n",
       "      <td>0</td>\n",
       "      <td>1</td>\n",
       "      <td>0</td>\n",
       "      <td>...</td>\n",
       "      <td>0</td>\n",
       "      <td>0</td>\n",
       "      <td>0</td>\n",
       "      <td>1</td>\n",
       "      <td>0</td>\n",
       "      <td>1</td>\n",
       "      <td>0</td>\n",
       "      <td>0</td>\n",
       "      <td>0</td>\n",
       "      <td>1</td>\n",
       "    </tr>\n",
       "    <tr>\n",
       "      <th>4</th>\n",
       "      <td>6.0</td>\n",
       "      <td>17.0</td>\n",
       "      <td>4.0</td>\n",
       "      <td>I’m not actively looking, but I am open to new...</td>\n",
       "      <td>32.0</td>\n",
       "      <td>42.0</td>\n",
       "      <td>1</td>\n",
       "      <td>0</td>\n",
       "      <td>0</td>\n",
       "      <td>0</td>\n",
       "      <td>...</td>\n",
       "      <td>0</td>\n",
       "      <td>0</td>\n",
       "      <td>0</td>\n",
       "      <td>1</td>\n",
       "      <td>1</td>\n",
       "      <td>0</td>\n",
       "      <td>0</td>\n",
       "      <td>0</td>\n",
       "      <td>0</td>\n",
       "      <td>1</td>\n",
       "    </tr>\n",
       "  </tbody>\n",
       "</table>\n",
       "<p>5 rows × 585 columns</p>\n",
       "</div>"
      ],
      "text/plain": [
       "   YearsCode  Age1stCode  YearsCodePro  \\\n",
       "0        3.0        22.0           1.0   \n",
       "1        3.0        16.0           0.5   \n",
       "2       16.0        14.0           9.0   \n",
       "3       13.0        15.0           3.0   \n",
       "4        6.0        17.0           4.0   \n",
       "\n",
       "                                             JobSeek  WorkWeekHrs   Age  \\\n",
       "0  I’m not actively looking, but I am open to new...         40.0  28.0   \n",
       "1       I am not interested in new job opportunities         80.0  22.0   \n",
       "2       I am not interested in new job opportunities         55.0  30.0   \n",
       "3       I am not interested in new job opportunities         15.0  28.0   \n",
       "4  I’m not actively looking, but I am open to new...         32.0  42.0   \n",
       "\n",
       "   MainBranch_I am a developer by profession  \\\n",
       "0                                          0   \n",
       "1                                          1   \n",
       "2                                          1   \n",
       "3                                          0   \n",
       "4                                          1   \n",
       "\n",
       "   MainBranch_I am a student who is learning to code  \\\n",
       "0                                                  0   \n",
       "1                                                  0   \n",
       "2                                                  0   \n",
       "3                                                  0   \n",
       "4                                                  0   \n",
       "\n",
       "   MainBranch_I am not primarily a developer, but I write code sometimes as part of my work  \\\n",
       "0                                                  1                                          \n",
       "1                                                  0                                          \n",
       "2                                                  0                                          \n",
       "3                                                  1                                          \n",
       "4                                                  0                                          \n",
       "\n",
       "   MainBranch_I code primarily as a hobby  ...  Sexuality_Bisexual  \\\n",
       "0                                       0  ...                   0   \n",
       "1                                       0  ...                   0   \n",
       "2                                       0  ...                   0   \n",
       "3                                       0  ...                   0   \n",
       "4                                       0  ...                   0   \n",
       "\n",
       "   Sexuality_Gay or Lesbian  Sexuality_Queer  \\\n",
       "0                         0                0   \n",
       "1                         0                0   \n",
       "2                         0                0   \n",
       "3                         0                0   \n",
       "4                         0                0   \n",
       "\n",
       "   Sexuality_Straight / Heterosexual  SurveyLength_Appropriate in length  \\\n",
       "0                                  1                                   1   \n",
       "1                                  1                                   1   \n",
       "2                                  1                                   1   \n",
       "3                                  1                                   0   \n",
       "4                                  1                                   1   \n",
       "\n",
       "   SurveyLength_Too long  SurveyLength_Too short  SurveyEase_Difficult  \\\n",
       "0                      0                       0                     0   \n",
       "1                      0                       0                     0   \n",
       "2                      0                       0                     0   \n",
       "3                      1                       0                     0   \n",
       "4                      0                       0                     0   \n",
       "\n",
       "   SurveyEase_Easy  SurveyEase_Neither easy nor difficult  \n",
       "0                0                                      1  \n",
       "1                1                                      0  \n",
       "2                1                                      0  \n",
       "3                0                                      1  \n",
       "4                0                                      1  \n",
       "\n",
       "[5 rows x 585 columns]"
      ]
     },
     "execution_count": 5,
     "metadata": {},
     "output_type": "execute_result"
    }
   ],
   "source": [
    "df.head()"
   ]
  },
  {
   "cell_type": "code",
   "execution_count": 7,
   "id": "e044eef5",
   "metadata": {},
   "outputs": [
    {
     "data": {
      "text/plain": [
       "I’m not actively looking, but I am open to new opportunities    76248\n",
       "I am not interested in new job opportunities                    33871\n",
       "I am actively looking for a job                                 20775\n",
       "Name: JobSeek, dtype: int64"
      ]
     },
     "execution_count": 7,
     "metadata": {},
     "output_type": "execute_result"
    }
   ],
   "source": [
    "df['JobSeek'].value_counts()"
   ]
  },
  {
   "cell_type": "code",
   "execution_count": 6,
   "id": "c4ecceca",
   "metadata": {},
   "outputs": [],
   "source": [
    "# Devide data into input and target varbiables"
   ]
  },
  {
   "cell_type": "code",
   "execution_count": 179,
   "id": "7d28f2fa",
   "metadata": {},
   "outputs": [],
   "source": [
    "df = df[df['JobSeek'] != 'I’m not actively looking, but I am open to new opportunities']"
   ]
  },
  {
   "cell_type": "code",
   "execution_count": 9,
   "id": "ef30a3af",
   "metadata": {},
   "outputs": [],
   "source": [
    "# Keep class balances\n",
    "df_not_interested = df[df['JobSeek'] == \"I am not interested in new job opportunities\"].sample(n=20775, random_state=123)\n",
    "df_actively = df[df['JobSeek'] == \"I am actively looking for a job\"]"
   ]
  },
  {
   "cell_type": "code",
   "execution_count": 10,
   "id": "120e99fa",
   "metadata": {},
   "outputs": [],
   "source": [
    "# Join two balanced dataframes into one dataframe\n",
    "df = pd.concat([df_not_interested, df_actively])"
   ]
  },
  {
   "cell_type": "code",
   "execution_count": 27,
   "id": "7056d004",
   "metadata": {},
   "outputs": [],
   "source": [
    "df = df.sample(frac=1)"
   ]
  },
  {
   "cell_type": "code",
   "execution_count": 28,
   "id": "bce52b32",
   "metadata": {},
   "outputs": [
    {
     "data": {
      "text/html": [
       "<div>\n",
       "<style scoped>\n",
       "    .dataframe tbody tr th:only-of-type {\n",
       "        vertical-align: middle;\n",
       "    }\n",
       "\n",
       "    .dataframe tbody tr th {\n",
       "        vertical-align: top;\n",
       "    }\n",
       "\n",
       "    .dataframe thead th {\n",
       "        text-align: right;\n",
       "    }\n",
       "</style>\n",
       "<table border=\"1\" class=\"dataframe\">\n",
       "  <thead>\n",
       "    <tr style=\"text-align: right;\">\n",
       "      <th></th>\n",
       "      <th>YearsCode</th>\n",
       "      <th>Age1stCode</th>\n",
       "      <th>YearsCodePro</th>\n",
       "      <th>JobSeek</th>\n",
       "      <th>WorkWeekHrs</th>\n",
       "      <th>Age</th>\n",
       "      <th>MainBranch_I am a developer by profession</th>\n",
       "      <th>MainBranch_I am a student who is learning to code</th>\n",
       "      <th>MainBranch_I am not primarily a developer, but I write code sometimes as part of my work</th>\n",
       "      <th>MainBranch_I code primarily as a hobby</th>\n",
       "      <th>...</th>\n",
       "      <th>Sexuality_Bisexual</th>\n",
       "      <th>Sexuality_Gay or Lesbian</th>\n",
       "      <th>Sexuality_Queer</th>\n",
       "      <th>Sexuality_Straight / Heterosexual</th>\n",
       "      <th>SurveyLength_Appropriate in length</th>\n",
       "      <th>SurveyLength_Too long</th>\n",
       "      <th>SurveyLength_Too short</th>\n",
       "      <th>SurveyEase_Difficult</th>\n",
       "      <th>SurveyEase_Easy</th>\n",
       "      <th>SurveyEase_Neither easy nor difficult</th>\n",
       "    </tr>\n",
       "  </thead>\n",
       "  <tbody>\n",
       "    <tr>\n",
       "      <th>104144</th>\n",
       "      <td>12.0</td>\n",
       "      <td>14.0</td>\n",
       "      <td>3.0</td>\n",
       "      <td>I am not interested in new job opportunities</td>\n",
       "      <td>40.0</td>\n",
       "      <td>39.0</td>\n",
       "      <td>1</td>\n",
       "      <td>0</td>\n",
       "      <td>0</td>\n",
       "      <td>0</td>\n",
       "      <td>...</td>\n",
       "      <td>0</td>\n",
       "      <td>0</td>\n",
       "      <td>0</td>\n",
       "      <td>1</td>\n",
       "      <td>0</td>\n",
       "      <td>1</td>\n",
       "      <td>0</td>\n",
       "      <td>0</td>\n",
       "      <td>1</td>\n",
       "      <td>0</td>\n",
       "    </tr>\n",
       "    <tr>\n",
       "      <th>120953</th>\n",
       "      <td>5.0</td>\n",
       "      <td>12.0</td>\n",
       "      <td>1.0</td>\n",
       "      <td>I am not interested in new job opportunities</td>\n",
       "      <td>50.0</td>\n",
       "      <td>24.0</td>\n",
       "      <td>1</td>\n",
       "      <td>0</td>\n",
       "      <td>0</td>\n",
       "      <td>0</td>\n",
       "      <td>...</td>\n",
       "      <td>0</td>\n",
       "      <td>0</td>\n",
       "      <td>0</td>\n",
       "      <td>1</td>\n",
       "      <td>1</td>\n",
       "      <td>0</td>\n",
       "      <td>0</td>\n",
       "      <td>0</td>\n",
       "      <td>1</td>\n",
       "      <td>0</td>\n",
       "    </tr>\n",
       "    <tr>\n",
       "      <th>80921</th>\n",
       "      <td>40.0</td>\n",
       "      <td>15.0</td>\n",
       "      <td>33.0</td>\n",
       "      <td>I am actively looking for a job</td>\n",
       "      <td>45.0</td>\n",
       "      <td>56.0</td>\n",
       "      <td>1</td>\n",
       "      <td>0</td>\n",
       "      <td>0</td>\n",
       "      <td>0</td>\n",
       "      <td>...</td>\n",
       "      <td>0</td>\n",
       "      <td>0</td>\n",
       "      <td>0</td>\n",
       "      <td>1</td>\n",
       "      <td>1</td>\n",
       "      <td>0</td>\n",
       "      <td>0</td>\n",
       "      <td>0</td>\n",
       "      <td>1</td>\n",
       "      <td>0</td>\n",
       "    </tr>\n",
       "    <tr>\n",
       "      <th>26036</th>\n",
       "      <td>8.0</td>\n",
       "      <td>12.0</td>\n",
       "      <td>6.0</td>\n",
       "      <td>I am not interested in new job opportunities</td>\n",
       "      <td>35.0</td>\n",
       "      <td>28.0</td>\n",
       "      <td>1</td>\n",
       "      <td>0</td>\n",
       "      <td>0</td>\n",
       "      <td>0</td>\n",
       "      <td>...</td>\n",
       "      <td>0</td>\n",
       "      <td>0</td>\n",
       "      <td>0</td>\n",
       "      <td>1</td>\n",
       "      <td>1</td>\n",
       "      <td>0</td>\n",
       "      <td>0</td>\n",
       "      <td>0</td>\n",
       "      <td>1</td>\n",
       "      <td>0</td>\n",
       "    </tr>\n",
       "    <tr>\n",
       "      <th>104228</th>\n",
       "      <td>9.0</td>\n",
       "      <td>14.0</td>\n",
       "      <td>5.0</td>\n",
       "      <td>I am not interested in new job opportunities</td>\n",
       "      <td>40.0</td>\n",
       "      <td>26.0</td>\n",
       "      <td>1</td>\n",
       "      <td>0</td>\n",
       "      <td>0</td>\n",
       "      <td>0</td>\n",
       "      <td>...</td>\n",
       "      <td>0</td>\n",
       "      <td>0</td>\n",
       "      <td>0</td>\n",
       "      <td>1</td>\n",
       "      <td>1</td>\n",
       "      <td>0</td>\n",
       "      <td>0</td>\n",
       "      <td>0</td>\n",
       "      <td>1</td>\n",
       "      <td>0</td>\n",
       "    </tr>\n",
       "    <tr>\n",
       "      <th>...</th>\n",
       "      <td>...</td>\n",
       "      <td>...</td>\n",
       "      <td>...</td>\n",
       "      <td>...</td>\n",
       "      <td>...</td>\n",
       "      <td>...</td>\n",
       "      <td>...</td>\n",
       "      <td>...</td>\n",
       "      <td>...</td>\n",
       "      <td>...</td>\n",
       "      <td>...</td>\n",
       "      <td>...</td>\n",
       "      <td>...</td>\n",
       "      <td>...</td>\n",
       "      <td>...</td>\n",
       "      <td>...</td>\n",
       "      <td>...</td>\n",
       "      <td>...</td>\n",
       "      <td>...</td>\n",
       "      <td>...</td>\n",
       "      <td>...</td>\n",
       "    </tr>\n",
       "    <tr>\n",
       "      <th>122686</th>\n",
       "      <td>17.0</td>\n",
       "      <td>20.0</td>\n",
       "      <td>13.0</td>\n",
       "      <td>I am not interested in new job opportunities</td>\n",
       "      <td>40.0</td>\n",
       "      <td>37.0</td>\n",
       "      <td>1</td>\n",
       "      <td>0</td>\n",
       "      <td>0</td>\n",
       "      <td>0</td>\n",
       "      <td>...</td>\n",
       "      <td>0</td>\n",
       "      <td>0</td>\n",
       "      <td>0</td>\n",
       "      <td>1</td>\n",
       "      <td>1</td>\n",
       "      <td>0</td>\n",
       "      <td>0</td>\n",
       "      <td>0</td>\n",
       "      <td>1</td>\n",
       "      <td>0</td>\n",
       "    </tr>\n",
       "    <tr>\n",
       "      <th>7024</th>\n",
       "      <td>8.0</td>\n",
       "      <td>11.0</td>\n",
       "      <td>5.0</td>\n",
       "      <td>I am not interested in new job opportunities</td>\n",
       "      <td>40.0</td>\n",
       "      <td>25.0</td>\n",
       "      <td>1</td>\n",
       "      <td>0</td>\n",
       "      <td>0</td>\n",
       "      <td>0</td>\n",
       "      <td>...</td>\n",
       "      <td>0</td>\n",
       "      <td>0</td>\n",
       "      <td>0</td>\n",
       "      <td>1</td>\n",
       "      <td>0</td>\n",
       "      <td>1</td>\n",
       "      <td>0</td>\n",
       "      <td>0</td>\n",
       "      <td>1</td>\n",
       "      <td>0</td>\n",
       "    </tr>\n",
       "    <tr>\n",
       "      <th>21827</th>\n",
       "      <td>20.0</td>\n",
       "      <td>8.0</td>\n",
       "      <td>13.0</td>\n",
       "      <td>I am actively looking for a job</td>\n",
       "      <td>50.0</td>\n",
       "      <td>30.0</td>\n",
       "      <td>1</td>\n",
       "      <td>0</td>\n",
       "      <td>0</td>\n",
       "      <td>0</td>\n",
       "      <td>...</td>\n",
       "      <td>0</td>\n",
       "      <td>1</td>\n",
       "      <td>0</td>\n",
       "      <td>0</td>\n",
       "      <td>1</td>\n",
       "      <td>0</td>\n",
       "      <td>0</td>\n",
       "      <td>0</td>\n",
       "      <td>1</td>\n",
       "      <td>0</td>\n",
       "    </tr>\n",
       "    <tr>\n",
       "      <th>91643</th>\n",
       "      <td>22.0</td>\n",
       "      <td>14.0</td>\n",
       "      <td>5.0</td>\n",
       "      <td>I am not interested in new job opportunities</td>\n",
       "      <td>40.0</td>\n",
       "      <td>26.0</td>\n",
       "      <td>0</td>\n",
       "      <td>0</td>\n",
       "      <td>1</td>\n",
       "      <td>0</td>\n",
       "      <td>...</td>\n",
       "      <td>0</td>\n",
       "      <td>0</td>\n",
       "      <td>0</td>\n",
       "      <td>1</td>\n",
       "      <td>1</td>\n",
       "      <td>0</td>\n",
       "      <td>0</td>\n",
       "      <td>0</td>\n",
       "      <td>0</td>\n",
       "      <td>1</td>\n",
       "    </tr>\n",
       "    <tr>\n",
       "      <th>60523</th>\n",
       "      <td>5.0</td>\n",
       "      <td>24.0</td>\n",
       "      <td>3.0</td>\n",
       "      <td>I am actively looking for a job</td>\n",
       "      <td>45.0</td>\n",
       "      <td>40.0</td>\n",
       "      <td>0</td>\n",
       "      <td>0</td>\n",
       "      <td>1</td>\n",
       "      <td>0</td>\n",
       "      <td>...</td>\n",
       "      <td>0</td>\n",
       "      <td>0</td>\n",
       "      <td>0</td>\n",
       "      <td>1</td>\n",
       "      <td>0</td>\n",
       "      <td>1</td>\n",
       "      <td>0</td>\n",
       "      <td>0</td>\n",
       "      <td>1</td>\n",
       "      <td>0</td>\n",
       "    </tr>\n",
       "  </tbody>\n",
       "</table>\n",
       "<p>41550 rows × 585 columns</p>\n",
       "</div>"
      ],
      "text/plain": [
       "        YearsCode  Age1stCode  YearsCodePro  \\\n",
       "104144       12.0        14.0           3.0   \n",
       "120953        5.0        12.0           1.0   \n",
       "80921        40.0        15.0          33.0   \n",
       "26036         8.0        12.0           6.0   \n",
       "104228        9.0        14.0           5.0   \n",
       "...           ...         ...           ...   \n",
       "122686       17.0        20.0          13.0   \n",
       "7024          8.0        11.0           5.0   \n",
       "21827        20.0         8.0          13.0   \n",
       "91643        22.0        14.0           5.0   \n",
       "60523         5.0        24.0           3.0   \n",
       "\n",
       "                                             JobSeek  WorkWeekHrs   Age  \\\n",
       "104144  I am not interested in new job opportunities         40.0  39.0   \n",
       "120953  I am not interested in new job opportunities         50.0  24.0   \n",
       "80921                I am actively looking for a job         45.0  56.0   \n",
       "26036   I am not interested in new job opportunities         35.0  28.0   \n",
       "104228  I am not interested in new job opportunities         40.0  26.0   \n",
       "...                                              ...          ...   ...   \n",
       "122686  I am not interested in new job opportunities         40.0  37.0   \n",
       "7024    I am not interested in new job opportunities         40.0  25.0   \n",
       "21827                I am actively looking for a job         50.0  30.0   \n",
       "91643   I am not interested in new job opportunities         40.0  26.0   \n",
       "60523                I am actively looking for a job         45.0  40.0   \n",
       "\n",
       "        MainBranch_I am a developer by profession  \\\n",
       "104144                                          1   \n",
       "120953                                          1   \n",
       "80921                                           1   \n",
       "26036                                           1   \n",
       "104228                                          1   \n",
       "...                                           ...   \n",
       "122686                                          1   \n",
       "7024                                            1   \n",
       "21827                                           1   \n",
       "91643                                           0   \n",
       "60523                                           0   \n",
       "\n",
       "        MainBranch_I am a student who is learning to code  \\\n",
       "104144                                                  0   \n",
       "120953                                                  0   \n",
       "80921                                                   0   \n",
       "26036                                                   0   \n",
       "104228                                                  0   \n",
       "...                                                   ...   \n",
       "122686                                                  0   \n",
       "7024                                                    0   \n",
       "21827                                                   0   \n",
       "91643                                                   0   \n",
       "60523                                                   0   \n",
       "\n",
       "        MainBranch_I am not primarily a developer, but I write code sometimes as part of my work  \\\n",
       "104144                                                  0                                          \n",
       "120953                                                  0                                          \n",
       "80921                                                   0                                          \n",
       "26036                                                   0                                          \n",
       "104228                                                  0                                          \n",
       "...                                                   ...                                          \n",
       "122686                                                  0                                          \n",
       "7024                                                    0                                          \n",
       "21827                                                   0                                          \n",
       "91643                                                   1                                          \n",
       "60523                                                   1                                          \n",
       "\n",
       "        MainBranch_I code primarily as a hobby  ...  Sexuality_Bisexual  \\\n",
       "104144                                       0  ...                   0   \n",
       "120953                                       0  ...                   0   \n",
       "80921                                        0  ...                   0   \n",
       "26036                                        0  ...                   0   \n",
       "104228                                       0  ...                   0   \n",
       "...                                        ...  ...                 ...   \n",
       "122686                                       0  ...                   0   \n",
       "7024                                         0  ...                   0   \n",
       "21827                                        0  ...                   0   \n",
       "91643                                        0  ...                   0   \n",
       "60523                                        0  ...                   0   \n",
       "\n",
       "        Sexuality_Gay or Lesbian  Sexuality_Queer  \\\n",
       "104144                         0                0   \n",
       "120953                         0                0   \n",
       "80921                          0                0   \n",
       "26036                          0                0   \n",
       "104228                         0                0   \n",
       "...                          ...              ...   \n",
       "122686                         0                0   \n",
       "7024                           0                0   \n",
       "21827                          1                0   \n",
       "91643                          0                0   \n",
       "60523                          0                0   \n",
       "\n",
       "        Sexuality_Straight / Heterosexual  SurveyLength_Appropriate in length  \\\n",
       "104144                                  1                                   0   \n",
       "120953                                  1                                   1   \n",
       "80921                                   1                                   1   \n",
       "26036                                   1                                   1   \n",
       "104228                                  1                                   1   \n",
       "...                                   ...                                 ...   \n",
       "122686                                  1                                   1   \n",
       "7024                                    1                                   0   \n",
       "21827                                   0                                   1   \n",
       "91643                                   1                                   1   \n",
       "60523                                   1                                   0   \n",
       "\n",
       "        SurveyLength_Too long  SurveyLength_Too short  SurveyEase_Difficult  \\\n",
       "104144                      1                       0                     0   \n",
       "120953                      0                       0                     0   \n",
       "80921                       0                       0                     0   \n",
       "26036                       0                       0                     0   \n",
       "104228                      0                       0                     0   \n",
       "...                       ...                     ...                   ...   \n",
       "122686                      0                       0                     0   \n",
       "7024                        1                       0                     0   \n",
       "21827                       0                       0                     0   \n",
       "91643                       0                       0                     0   \n",
       "60523                       1                       0                     0   \n",
       "\n",
       "        SurveyEase_Easy  SurveyEase_Neither easy nor difficult  \n",
       "104144                1                                      0  \n",
       "120953                1                                      0  \n",
       "80921                 1                                      0  \n",
       "26036                 1                                      0  \n",
       "104228                1                                      0  \n",
       "...                 ...                                    ...  \n",
       "122686                1                                      0  \n",
       "7024                  1                                      0  \n",
       "21827                 1                                      0  \n",
       "91643                 0                                      1  \n",
       "60523                 1                                      0  \n",
       "\n",
       "[41550 rows x 585 columns]"
      ]
     },
     "execution_count": 28,
     "metadata": {},
     "output_type": "execute_result"
    }
   ],
   "source": [
    "df"
   ]
  },
  {
   "cell_type": "code",
   "execution_count": 29,
   "id": "8d86678a",
   "metadata": {},
   "outputs": [
    {
     "data": {
      "text/plain": [
       "I am not interested in new job opportunities    20775\n",
       "I am actively looking for a job                 20775\n",
       "Name: JobSeek, dtype: int64"
      ]
     },
     "execution_count": 29,
     "metadata": {},
     "output_type": "execute_result"
    }
   ],
   "source": [
    "df['JobSeek'].value_counts()"
   ]
  },
  {
   "cell_type": "code",
   "execution_count": 30,
   "id": "b18b81aa",
   "metadata": {},
   "outputs": [],
   "source": [
    "X = df.drop(columns = ['JobSeek'])"
   ]
  },
  {
   "cell_type": "code",
   "execution_count": 31,
   "id": "cc58453f",
   "metadata": {},
   "outputs": [],
   "source": [
    "Y = df.JobSeek"
   ]
  },
  {
   "cell_type": "code",
   "execution_count": 32,
   "id": "f4c4ef63",
   "metadata": {},
   "outputs": [],
   "source": [
    "# We have to transform string data into numerical"
   ]
  },
  {
   "cell_type": "code",
   "execution_count": 33,
   "id": "a0227172",
   "metadata": {},
   "outputs": [
    {
     "data": {
      "text/plain": [
       "I am not interested in new job opportunities    20775\n",
       "I am actively looking for a job                 20775\n",
       "Name: JobSeek, dtype: int64"
      ]
     },
     "execution_count": 33,
     "metadata": {},
     "output_type": "execute_result"
    }
   ],
   "source": [
    "Y.value_counts()"
   ]
  },
  {
   "cell_type": "code",
   "execution_count": 34,
   "id": "22256f59",
   "metadata": {},
   "outputs": [],
   "source": [
    "# Now, we've got 2 classes"
   ]
  },
  {
   "cell_type": "code",
   "execution_count": 35,
   "id": "17907c3c",
   "metadata": {},
   "outputs": [],
   "source": [
    "from sklearn.preprocessing import LabelEncoder"
   ]
  },
  {
   "cell_type": "code",
   "execution_count": 36,
   "id": "b8906ac2",
   "metadata": {},
   "outputs": [],
   "source": [
    "encoder = LabelEncoder()"
   ]
  },
  {
   "cell_type": "code",
   "execution_count": 37,
   "id": "7af56816",
   "metadata": {},
   "outputs": [],
   "source": [
    "y = encoder.fit_transform(Y)"
   ]
  },
  {
   "cell_type": "code",
   "execution_count": 38,
   "id": "03e57989",
   "metadata": {},
   "outputs": [
    {
     "data": {
      "text/plain": [
       "array([1, 1, 0, ..., 0, 1, 0])"
      ]
     },
     "execution_count": 38,
     "metadata": {},
     "output_type": "execute_result"
    }
   ],
   "source": [
    "y"
   ]
  },
  {
   "cell_type": "code",
   "execution_count": 39,
   "id": "db4a80bd",
   "metadata": {},
   "outputs": [],
   "source": [
    "# Now we have numerical target variable"
   ]
  },
  {
   "cell_type": "code",
   "execution_count": 40,
   "id": "c8bc97b7",
   "metadata": {},
   "outputs": [],
   "source": [
    "# Of course, we can transform it into string with our encoder"
   ]
  },
  {
   "cell_type": "code",
   "execution_count": 41,
   "id": "2d94e558",
   "metadata": {},
   "outputs": [
    {
     "data": {
      "text/plain": [
       "array([1, 1, 0, 1, 1, 0, 0, 1, 1, 1])"
      ]
     },
     "execution_count": 41,
     "metadata": {},
     "output_type": "execute_result"
    }
   ],
   "source": [
    "y[0:10]"
   ]
  },
  {
   "cell_type": "code",
   "execution_count": 42,
   "id": "8ed4ace7",
   "metadata": {
    "scrolled": true
   },
   "outputs": [
    {
     "data": {
      "text/plain": [
       "array(['I am not interested in new job opportunities',\n",
       "       'I am not interested in new job opportunities',\n",
       "       'I am actively looking for a job',\n",
       "       'I am not interested in new job opportunities',\n",
       "       'I am not interested in new job opportunities',\n",
       "       'I am actively looking for a job',\n",
       "       'I am actively looking for a job',\n",
       "       'I am not interested in new job opportunities',\n",
       "       'I am not interested in new job opportunities',\n",
       "       'I am not interested in new job opportunities',\n",
       "       'I am actively looking for a job',\n",
       "       'I am actively looking for a job',\n",
       "       'I am actively looking for a job',\n",
       "       'I am not interested in new job opportunities',\n",
       "       'I am actively looking for a job',\n",
       "       'I am not interested in new job opportunities',\n",
       "       'I am not interested in new job opportunities',\n",
       "       'I am actively looking for a job',\n",
       "       'I am not interested in new job opportunities',\n",
       "       'I am actively looking for a job'], dtype=object)"
      ]
     },
     "execution_count": 42,
     "metadata": {},
     "output_type": "execute_result"
    }
   ],
   "source": [
    "# Example:\n",
    "encoder.inverse_transform(y[0:20])"
   ]
  },
  {
   "cell_type": "code",
   "execution_count": 43,
   "id": "cc57837a",
   "metadata": {},
   "outputs": [],
   "source": [
    "# Correlation analysis"
   ]
  },
  {
   "cell_type": "code",
   "execution_count": 44,
   "id": "bf6513fa",
   "metadata": {},
   "outputs": [],
   "source": [
    "corr_matrix = X.corr()"
   ]
  },
  {
   "cell_type": "code",
   "execution_count": 45,
   "id": "9ea42d79",
   "metadata": {},
   "outputs": [
    {
     "data": {
      "text/html": [
       "<div>\n",
       "<style scoped>\n",
       "    .dataframe tbody tr th:only-of-type {\n",
       "        vertical-align: middle;\n",
       "    }\n",
       "\n",
       "    .dataframe tbody tr th {\n",
       "        vertical-align: top;\n",
       "    }\n",
       "\n",
       "    .dataframe thead th {\n",
       "        text-align: right;\n",
       "    }\n",
       "</style>\n",
       "<table border=\"1\" class=\"dataframe\">\n",
       "  <thead>\n",
       "    <tr style=\"text-align: right;\">\n",
       "      <th></th>\n",
       "      <th>YearsCode</th>\n",
       "      <th>Age1stCode</th>\n",
       "      <th>YearsCodePro</th>\n",
       "      <th>WorkWeekHrs</th>\n",
       "      <th>Age</th>\n",
       "      <th>MainBranch_I am a developer by profession</th>\n",
       "      <th>MainBranch_I am a student who is learning to code</th>\n",
       "      <th>MainBranch_I am not primarily a developer, but I write code sometimes as part of my work</th>\n",
       "      <th>MainBranch_I code primarily as a hobby</th>\n",
       "      <th>MainBranch_I used to be a developer by profession, but no longer am</th>\n",
       "      <th>...</th>\n",
       "      <th>Sexuality_Bisexual</th>\n",
       "      <th>Sexuality_Gay or Lesbian</th>\n",
       "      <th>Sexuality_Queer</th>\n",
       "      <th>Sexuality_Straight / Heterosexual</th>\n",
       "      <th>SurveyLength_Appropriate in length</th>\n",
       "      <th>SurveyLength_Too long</th>\n",
       "      <th>SurveyLength_Too short</th>\n",
       "      <th>SurveyEase_Difficult</th>\n",
       "      <th>SurveyEase_Easy</th>\n",
       "      <th>SurveyEase_Neither easy nor difficult</th>\n",
       "    </tr>\n",
       "  </thead>\n",
       "  <tbody>\n",
       "    <tr>\n",
       "      <th>YearsCode</th>\n",
       "      <td>1.000000</td>\n",
       "      <td>-0.298508</td>\n",
       "      <td>0.723345</td>\n",
       "      <td>0.020197</td>\n",
       "      <td>0.662355</td>\n",
       "      <td>0.231078</td>\n",
       "      <td>-0.323998</td>\n",
       "      <td>0.054936</td>\n",
       "      <td>NaN</td>\n",
       "      <td>NaN</td>\n",
       "      <td>...</td>\n",
       "      <td>-0.038954</td>\n",
       "      <td>-0.001740</td>\n",
       "      <td>-0.005198</td>\n",
       "      <td>0.087547</td>\n",
       "      <td>0.058922</td>\n",
       "      <td>-0.036056</td>\n",
       "      <td>-0.024127</td>\n",
       "      <td>-0.034541</td>\n",
       "      <td>0.066213</td>\n",
       "      <td>-0.041351</td>\n",
       "    </tr>\n",
       "    <tr>\n",
       "      <th>Age1stCode</th>\n",
       "      <td>-0.298508</td>\n",
       "      <td>1.000000</td>\n",
       "      <td>-0.122467</td>\n",
       "      <td>-0.004925</td>\n",
       "      <td>0.029746</td>\n",
       "      <td>-0.080817</td>\n",
       "      <td>0.078135</td>\n",
       "      <td>0.023903</td>\n",
       "      <td>NaN</td>\n",
       "      <td>NaN</td>\n",
       "      <td>...</td>\n",
       "      <td>-0.026862</td>\n",
       "      <td>-0.038059</td>\n",
       "      <td>-0.014675</td>\n",
       "      <td>-0.027082</td>\n",
       "      <td>-0.065193</td>\n",
       "      <td>0.071900</td>\n",
       "      <td>-0.035460</td>\n",
       "      <td>0.020427</td>\n",
       "      <td>-0.059342</td>\n",
       "      <td>0.043856</td>\n",
       "    </tr>\n",
       "    <tr>\n",
       "      <th>YearsCodePro</th>\n",
       "      <td>0.723345</td>\n",
       "      <td>-0.122467</td>\n",
       "      <td>1.000000</td>\n",
       "      <td>0.021074</td>\n",
       "      <td>0.581734</td>\n",
       "      <td>-0.004761</td>\n",
       "      <td>0.007039</td>\n",
       "      <td>-0.001578</td>\n",
       "      <td>NaN</td>\n",
       "      <td>NaN</td>\n",
       "      <td>...</td>\n",
       "      <td>-0.035299</td>\n",
       "      <td>-0.016166</td>\n",
       "      <td>-0.012201</td>\n",
       "      <td>0.033538</td>\n",
       "      <td>0.018950</td>\n",
       "      <td>-0.009276</td>\n",
       "      <td>-0.015618</td>\n",
       "      <td>-0.009146</td>\n",
       "      <td>0.025861</td>\n",
       "      <td>-0.018412</td>\n",
       "    </tr>\n",
       "    <tr>\n",
       "      <th>WorkWeekHrs</th>\n",
       "      <td>0.020197</td>\n",
       "      <td>-0.004925</td>\n",
       "      <td>0.021074</td>\n",
       "      <td>1.000000</td>\n",
       "      <td>0.015170</td>\n",
       "      <td>0.000468</td>\n",
       "      <td>-0.001295</td>\n",
       "      <td>0.000894</td>\n",
       "      <td>NaN</td>\n",
       "      <td>NaN</td>\n",
       "      <td>...</td>\n",
       "      <td>-0.001447</td>\n",
       "      <td>-0.007765</td>\n",
       "      <td>-0.005282</td>\n",
       "      <td>0.011471</td>\n",
       "      <td>0.000850</td>\n",
       "      <td>0.000307</td>\n",
       "      <td>0.001136</td>\n",
       "      <td>0.000109</td>\n",
       "      <td>0.008814</td>\n",
       "      <td>-0.008272</td>\n",
       "    </tr>\n",
       "    <tr>\n",
       "      <th>Age</th>\n",
       "      <td>0.662355</td>\n",
       "      <td>0.029746</td>\n",
       "      <td>0.581734</td>\n",
       "      <td>0.015170</td>\n",
       "      <td>1.000000</td>\n",
       "      <td>0.146278</td>\n",
       "      <td>-0.263820</td>\n",
       "      <td>0.106745</td>\n",
       "      <td>NaN</td>\n",
       "      <td>NaN</td>\n",
       "      <td>...</td>\n",
       "      <td>-0.054674</td>\n",
       "      <td>-0.017910</td>\n",
       "      <td>-0.009296</td>\n",
       "      <td>0.061199</td>\n",
       "      <td>0.009991</td>\n",
       "      <td>0.005743</td>\n",
       "      <td>-0.034948</td>\n",
       "      <td>-0.014834</td>\n",
       "      <td>0.024431</td>\n",
       "      <td>-0.016918</td>\n",
       "    </tr>\n",
       "    <tr>\n",
       "      <th>...</th>\n",
       "      <td>...</td>\n",
       "      <td>...</td>\n",
       "      <td>...</td>\n",
       "      <td>...</td>\n",
       "      <td>...</td>\n",
       "      <td>...</td>\n",
       "      <td>...</td>\n",
       "      <td>...</td>\n",
       "      <td>...</td>\n",
       "      <td>...</td>\n",
       "      <td>...</td>\n",
       "      <td>...</td>\n",
       "      <td>...</td>\n",
       "      <td>...</td>\n",
       "      <td>...</td>\n",
       "      <td>...</td>\n",
       "      <td>...</td>\n",
       "      <td>...</td>\n",
       "      <td>...</td>\n",
       "      <td>...</td>\n",
       "      <td>...</td>\n",
       "    </tr>\n",
       "    <tr>\n",
       "      <th>SurveyLength_Too long</th>\n",
       "      <td>-0.036056</td>\n",
       "      <td>0.071900</td>\n",
       "      <td>-0.009276</td>\n",
       "      <td>0.000307</td>\n",
       "      <td>0.005743</td>\n",
       "      <td>0.005206</td>\n",
       "      <td>-0.022675</td>\n",
       "      <td>0.020081</td>\n",
       "      <td>NaN</td>\n",
       "      <td>NaN</td>\n",
       "      <td>...</td>\n",
       "      <td>-0.031227</td>\n",
       "      <td>-0.039152</td>\n",
       "      <td>-0.021294</td>\n",
       "      <td>-0.036615</td>\n",
       "      <td>-0.851216</td>\n",
       "      <td>1.000000</td>\n",
       "      <td>-0.104210</td>\n",
       "      <td>0.162818</td>\n",
       "      <td>-0.162639</td>\n",
       "      <td>0.160879</td>\n",
       "    </tr>\n",
       "    <tr>\n",
       "      <th>SurveyLength_Too short</th>\n",
       "      <td>-0.024127</td>\n",
       "      <td>-0.035460</td>\n",
       "      <td>-0.015618</td>\n",
       "      <td>0.001136</td>\n",
       "      <td>-0.034948</td>\n",
       "      <td>-0.023564</td>\n",
       "      <td>0.033032</td>\n",
       "      <td>-0.005593</td>\n",
       "      <td>NaN</td>\n",
       "      <td>NaN</td>\n",
       "      <td>...</td>\n",
       "      <td>0.023131</td>\n",
       "      <td>0.016585</td>\n",
       "      <td>0.017053</td>\n",
       "      <td>-0.018339</td>\n",
       "      <td>-0.242505</td>\n",
       "      <td>-0.104210</td>\n",
       "      <td>1.000000</td>\n",
       "      <td>0.018604</td>\n",
       "      <td>0.053456</td>\n",
       "      <td>-0.051915</td>\n",
       "    </tr>\n",
       "    <tr>\n",
       "      <th>SurveyEase_Difficult</th>\n",
       "      <td>-0.034541</td>\n",
       "      <td>0.020427</td>\n",
       "      <td>-0.009146</td>\n",
       "      <td>0.000109</td>\n",
       "      <td>-0.014834</td>\n",
       "      <td>-0.005973</td>\n",
       "      <td>0.011819</td>\n",
       "      <td>-0.005640</td>\n",
       "      <td>NaN</td>\n",
       "      <td>NaN</td>\n",
       "      <td>...</td>\n",
       "      <td>0.004180</td>\n",
       "      <td>-0.000139</td>\n",
       "      <td>0.000728</td>\n",
       "      <td>-0.055050</td>\n",
       "      <td>-0.150337</td>\n",
       "      <td>0.162818</td>\n",
       "      <td>0.018604</td>\n",
       "      <td>1.000000</td>\n",
       "      <td>-0.191050</td>\n",
       "      <td>-0.090486</td>\n",
       "    </tr>\n",
       "    <tr>\n",
       "      <th>SurveyEase_Easy</th>\n",
       "      <td>0.066213</td>\n",
       "      <td>-0.059342</td>\n",
       "      <td>0.025861</td>\n",
       "      <td>0.008814</td>\n",
       "      <td>0.024431</td>\n",
       "      <td>0.050243</td>\n",
       "      <td>-0.053547</td>\n",
       "      <td>-0.008767</td>\n",
       "      <td>NaN</td>\n",
       "      <td>NaN</td>\n",
       "      <td>...</td>\n",
       "      <td>0.005518</td>\n",
       "      <td>0.021286</td>\n",
       "      <td>0.004585</td>\n",
       "      <td>0.193852</td>\n",
       "      <td>0.234628</td>\n",
       "      <td>-0.162639</td>\n",
       "      <td>0.053456</td>\n",
       "      <td>-0.191050</td>\n",
       "      <td>1.000000</td>\n",
       "      <td>-0.876112</td>\n",
       "    </tr>\n",
       "    <tr>\n",
       "      <th>SurveyEase_Neither easy nor difficult</th>\n",
       "      <td>-0.041351</td>\n",
       "      <td>0.043856</td>\n",
       "      <td>-0.018412</td>\n",
       "      <td>-0.008272</td>\n",
       "      <td>-0.016918</td>\n",
       "      <td>-0.032177</td>\n",
       "      <td>0.030464</td>\n",
       "      <td>0.010308</td>\n",
       "      <td>NaN</td>\n",
       "      <td>NaN</td>\n",
       "      <td>...</td>\n",
       "      <td>0.007325</td>\n",
       "      <td>-0.012180</td>\n",
       "      <td>-0.002063</td>\n",
       "      <td>-0.059382</td>\n",
       "      <td>-0.086912</td>\n",
       "      <td>0.160879</td>\n",
       "      <td>-0.051915</td>\n",
       "      <td>-0.090486</td>\n",
       "      <td>-0.876112</td>\n",
       "      <td>1.000000</td>\n",
       "    </tr>\n",
       "  </tbody>\n",
       "</table>\n",
       "<p>584 rows × 584 columns</p>\n",
       "</div>"
      ],
      "text/plain": [
       "                                       YearsCode  Age1stCode  YearsCodePro  \\\n",
       "YearsCode                               1.000000   -0.298508      0.723345   \n",
       "Age1stCode                             -0.298508    1.000000     -0.122467   \n",
       "YearsCodePro                            0.723345   -0.122467      1.000000   \n",
       "WorkWeekHrs                             0.020197   -0.004925      0.021074   \n",
       "Age                                     0.662355    0.029746      0.581734   \n",
       "...                                          ...         ...           ...   \n",
       "SurveyLength_Too long                  -0.036056    0.071900     -0.009276   \n",
       "SurveyLength_Too short                 -0.024127   -0.035460     -0.015618   \n",
       "SurveyEase_Difficult                   -0.034541    0.020427     -0.009146   \n",
       "SurveyEase_Easy                         0.066213   -0.059342      0.025861   \n",
       "SurveyEase_Neither easy nor difficult  -0.041351    0.043856     -0.018412   \n",
       "\n",
       "                                       WorkWeekHrs       Age  \\\n",
       "YearsCode                                 0.020197  0.662355   \n",
       "Age1stCode                               -0.004925  0.029746   \n",
       "YearsCodePro                              0.021074  0.581734   \n",
       "WorkWeekHrs                               1.000000  0.015170   \n",
       "Age                                       0.015170  1.000000   \n",
       "...                                            ...       ...   \n",
       "SurveyLength_Too long                     0.000307  0.005743   \n",
       "SurveyLength_Too short                    0.001136 -0.034948   \n",
       "SurveyEase_Difficult                      0.000109 -0.014834   \n",
       "SurveyEase_Easy                           0.008814  0.024431   \n",
       "SurveyEase_Neither easy nor difficult    -0.008272 -0.016918   \n",
       "\n",
       "                                       MainBranch_I am a developer by profession  \\\n",
       "YearsCode                                                               0.231078   \n",
       "Age1stCode                                                             -0.080817   \n",
       "YearsCodePro                                                           -0.004761   \n",
       "WorkWeekHrs                                                             0.000468   \n",
       "Age                                                                     0.146278   \n",
       "...                                                                          ...   \n",
       "SurveyLength_Too long                                                   0.005206   \n",
       "SurveyLength_Too short                                                 -0.023564   \n",
       "SurveyEase_Difficult                                                   -0.005973   \n",
       "SurveyEase_Easy                                                         0.050243   \n",
       "SurveyEase_Neither easy nor difficult                                  -0.032177   \n",
       "\n",
       "                                       MainBranch_I am a student who is learning to code  \\\n",
       "YearsCode                                                                      -0.323998   \n",
       "Age1stCode                                                                      0.078135   \n",
       "YearsCodePro                                                                    0.007039   \n",
       "WorkWeekHrs                                                                    -0.001295   \n",
       "Age                                                                            -0.263820   \n",
       "...                                                                                  ...   \n",
       "SurveyLength_Too long                                                          -0.022675   \n",
       "SurveyLength_Too short                                                          0.033032   \n",
       "SurveyEase_Difficult                                                            0.011819   \n",
       "SurveyEase_Easy                                                                -0.053547   \n",
       "SurveyEase_Neither easy nor difficult                                           0.030464   \n",
       "\n",
       "                                       MainBranch_I am not primarily a developer, but I write code sometimes as part of my work  \\\n",
       "YearsCode                                                                       0.054936                                          \n",
       "Age1stCode                                                                      0.023903                                          \n",
       "YearsCodePro                                                                   -0.001578                                          \n",
       "WorkWeekHrs                                                                     0.000894                                          \n",
       "Age                                                                             0.106745                                          \n",
       "...                                                                                  ...                                          \n",
       "SurveyLength_Too long                                                           0.020081                                          \n",
       "SurveyLength_Too short                                                         -0.005593                                          \n",
       "SurveyEase_Difficult                                                           -0.005640                                          \n",
       "SurveyEase_Easy                                                                -0.008767                                          \n",
       "SurveyEase_Neither easy nor difficult                                           0.010308                                          \n",
       "\n",
       "                                       MainBranch_I code primarily as a hobby  \\\n",
       "YearsCode                                                                 NaN   \n",
       "Age1stCode                                                                NaN   \n",
       "YearsCodePro                                                              NaN   \n",
       "WorkWeekHrs                                                               NaN   \n",
       "Age                                                                       NaN   \n",
       "...                                                                       ...   \n",
       "SurveyLength_Too long                                                     NaN   \n",
       "SurveyLength_Too short                                                    NaN   \n",
       "SurveyEase_Difficult                                                      NaN   \n",
       "SurveyEase_Easy                                                           NaN   \n",
       "SurveyEase_Neither easy nor difficult                                     NaN   \n",
       "\n",
       "                                       MainBranch_I used to be a developer by profession, but no longer am  \\\n",
       "YearsCode                                                                            NaN                     \n",
       "Age1stCode                                                                           NaN                     \n",
       "YearsCodePro                                                                         NaN                     \n",
       "WorkWeekHrs                                                                          NaN                     \n",
       "Age                                                                                  NaN                     \n",
       "...                                                                                  ...                     \n",
       "SurveyLength_Too long                                                                NaN                     \n",
       "SurveyLength_Too short                                                               NaN                     \n",
       "SurveyEase_Difficult                                                                 NaN                     \n",
       "SurveyEase_Easy                                                                      NaN                     \n",
       "SurveyEase_Neither easy nor difficult                                                NaN                     \n",
       "\n",
       "                                       ...  Sexuality_Bisexual  \\\n",
       "YearsCode                              ...           -0.038954   \n",
       "Age1stCode                             ...           -0.026862   \n",
       "YearsCodePro                           ...           -0.035299   \n",
       "WorkWeekHrs                            ...           -0.001447   \n",
       "Age                                    ...           -0.054674   \n",
       "...                                    ...                 ...   \n",
       "SurveyLength_Too long                  ...           -0.031227   \n",
       "SurveyLength_Too short                 ...            0.023131   \n",
       "SurveyEase_Difficult                   ...            0.004180   \n",
       "SurveyEase_Easy                        ...            0.005518   \n",
       "SurveyEase_Neither easy nor difficult  ...            0.007325   \n",
       "\n",
       "                                       Sexuality_Gay or Lesbian  \\\n",
       "YearsCode                                             -0.001740   \n",
       "Age1stCode                                            -0.038059   \n",
       "YearsCodePro                                          -0.016166   \n",
       "WorkWeekHrs                                           -0.007765   \n",
       "Age                                                   -0.017910   \n",
       "...                                                         ...   \n",
       "SurveyLength_Too long                                 -0.039152   \n",
       "SurveyLength_Too short                                 0.016585   \n",
       "SurveyEase_Difficult                                  -0.000139   \n",
       "SurveyEase_Easy                                        0.021286   \n",
       "SurveyEase_Neither easy nor difficult                 -0.012180   \n",
       "\n",
       "                                       Sexuality_Queer  \\\n",
       "YearsCode                                    -0.005198   \n",
       "Age1stCode                                   -0.014675   \n",
       "YearsCodePro                                 -0.012201   \n",
       "WorkWeekHrs                                  -0.005282   \n",
       "Age                                          -0.009296   \n",
       "...                                                ...   \n",
       "SurveyLength_Too long                        -0.021294   \n",
       "SurveyLength_Too short                        0.017053   \n",
       "SurveyEase_Difficult                          0.000728   \n",
       "SurveyEase_Easy                               0.004585   \n",
       "SurveyEase_Neither easy nor difficult        -0.002063   \n",
       "\n",
       "                                       Sexuality_Straight / Heterosexual  \\\n",
       "YearsCode                                                       0.087547   \n",
       "Age1stCode                                                     -0.027082   \n",
       "YearsCodePro                                                    0.033538   \n",
       "WorkWeekHrs                                                     0.011471   \n",
       "Age                                                             0.061199   \n",
       "...                                                                  ...   \n",
       "SurveyLength_Too long                                          -0.036615   \n",
       "SurveyLength_Too short                                         -0.018339   \n",
       "SurveyEase_Difficult                                           -0.055050   \n",
       "SurveyEase_Easy                                                 0.193852   \n",
       "SurveyEase_Neither easy nor difficult                          -0.059382   \n",
       "\n",
       "                                       SurveyLength_Appropriate in length  \\\n",
       "YearsCode                                                        0.058922   \n",
       "Age1stCode                                                      -0.065193   \n",
       "YearsCodePro                                                     0.018950   \n",
       "WorkWeekHrs                                                      0.000850   \n",
       "Age                                                              0.009991   \n",
       "...                                                                   ...   \n",
       "SurveyLength_Too long                                           -0.851216   \n",
       "SurveyLength_Too short                                          -0.242505   \n",
       "SurveyEase_Difficult                                            -0.150337   \n",
       "SurveyEase_Easy                                                  0.234628   \n",
       "SurveyEase_Neither easy nor difficult                           -0.086912   \n",
       "\n",
       "                                       SurveyLength_Too long  \\\n",
       "YearsCode                                          -0.036056   \n",
       "Age1stCode                                          0.071900   \n",
       "YearsCodePro                                       -0.009276   \n",
       "WorkWeekHrs                                         0.000307   \n",
       "Age                                                 0.005743   \n",
       "...                                                      ...   \n",
       "SurveyLength_Too long                               1.000000   \n",
       "SurveyLength_Too short                             -0.104210   \n",
       "SurveyEase_Difficult                                0.162818   \n",
       "SurveyEase_Easy                                    -0.162639   \n",
       "SurveyEase_Neither easy nor difficult               0.160879   \n",
       "\n",
       "                                       SurveyLength_Too short  \\\n",
       "YearsCode                                           -0.024127   \n",
       "Age1stCode                                          -0.035460   \n",
       "YearsCodePro                                        -0.015618   \n",
       "WorkWeekHrs                                          0.001136   \n",
       "Age                                                 -0.034948   \n",
       "...                                                       ...   \n",
       "SurveyLength_Too long                               -0.104210   \n",
       "SurveyLength_Too short                               1.000000   \n",
       "SurveyEase_Difficult                                 0.018604   \n",
       "SurveyEase_Easy                                      0.053456   \n",
       "SurveyEase_Neither easy nor difficult               -0.051915   \n",
       "\n",
       "                                       SurveyEase_Difficult  SurveyEase_Easy  \\\n",
       "YearsCode                                         -0.034541         0.066213   \n",
       "Age1stCode                                         0.020427        -0.059342   \n",
       "YearsCodePro                                      -0.009146         0.025861   \n",
       "WorkWeekHrs                                        0.000109         0.008814   \n",
       "Age                                               -0.014834         0.024431   \n",
       "...                                                     ...              ...   \n",
       "SurveyLength_Too long                              0.162818        -0.162639   \n",
       "SurveyLength_Too short                             0.018604         0.053456   \n",
       "SurveyEase_Difficult                               1.000000        -0.191050   \n",
       "SurveyEase_Easy                                   -0.191050         1.000000   \n",
       "SurveyEase_Neither easy nor difficult             -0.090486        -0.876112   \n",
       "\n",
       "                                       SurveyEase_Neither easy nor difficult  \n",
       "YearsCode                                                          -0.041351  \n",
       "Age1stCode                                                          0.043856  \n",
       "YearsCodePro                                                       -0.018412  \n",
       "WorkWeekHrs                                                        -0.008272  \n",
       "Age                                                                -0.016918  \n",
       "...                                                                      ...  \n",
       "SurveyLength_Too long                                               0.160879  \n",
       "SurveyLength_Too short                                             -0.051915  \n",
       "SurveyEase_Difficult                                               -0.090486  \n",
       "SurveyEase_Easy                                                    -0.876112  \n",
       "SurveyEase_Neither easy nor difficult                               1.000000  \n",
       "\n",
       "[584 rows x 584 columns]"
      ]
     },
     "execution_count": 45,
     "metadata": {},
     "output_type": "execute_result"
    }
   ],
   "source": [
    "corr_matrix"
   ]
  },
  {
   "cell_type": "code",
   "execution_count": 46,
   "id": "d42a73a1",
   "metadata": {
    "scrolled": true
   },
   "outputs": [
    {
     "name": "stdout",
     "output_type": "stream",
     "text": [
      "<class 'pandas.core.frame.DataFrame'>\n",
      "Int64Index: 41550 entries, 104144 to 60523\n",
      "Columns: 584 entries, YearsCode to SurveyEase_Neither easy nor difficult\n",
      "dtypes: float64(5), int64(579)\n",
      "memory usage: 185.4 MB\n"
     ]
    }
   ],
   "source": [
    "X.info()"
   ]
  },
  {
   "cell_type": "code",
   "execution_count": 47,
   "id": "3f82d54c",
   "metadata": {},
   "outputs": [
    {
     "data": {
      "text/plain": [
       "nan"
      ]
     },
     "execution_count": 47,
     "metadata": {},
     "output_type": "execute_result"
    }
   ],
   "source": [
    "X['YearsCode'].corr(X['MainBranch_I code primarily as a hobby'])"
   ]
  },
  {
   "cell_type": "code",
   "execution_count": 48,
   "id": "48e1e662",
   "metadata": {},
   "outputs": [
    {
     "data": {
      "text/plain": [
       "array([0, 0, 0, ..., 0, 0, 0], dtype=int64)"
      ]
     },
     "execution_count": 48,
     "metadata": {},
     "output_type": "execute_result"
    }
   ],
   "source": [
    "X['MainBranch_I code primarily as a hobby'].sort_values().values"
   ]
  },
  {
   "cell_type": "code",
   "execution_count": 49,
   "id": "59092e4e",
   "metadata": {},
   "outputs": [
    {
     "data": {
      "text/plain": [
       "Index(['MainBranch_I code primarily as a hobby',\n",
       "       'MainBranch_I used to be a developer by profession, but no longer am',\n",
       "       'MainBranch_None', 'Employment_Not employed, and not looking for work',\n",
       "       'Employment_Retired'],\n",
       "      dtype='object')"
      ]
     },
     "execution_count": 49,
     "metadata": {},
     "output_type": "execute_result"
    }
   ],
   "source": [
    "cols_nan_corr = corr_matrix.columns[corr_matrix.isna().sum() > 5]\n",
    "cols_nan_corr"
   ]
  },
  {
   "cell_type": "code",
   "execution_count": 50,
   "id": "8d082841",
   "metadata": {},
   "outputs": [],
   "source": [
    "# Remove columns with nan correlation\n",
    "X = X.drop(columns = cols_nan_corr)"
   ]
  },
  {
   "cell_type": "code",
   "execution_count": 51,
   "id": "be57c7f3",
   "metadata": {},
   "outputs": [],
   "source": [
    "corr_matrix_upd = X.corr().abs()"
   ]
  },
  {
   "cell_type": "code",
   "execution_count": 52,
   "id": "e8befe28",
   "metadata": {},
   "outputs": [
    {
     "data": {
      "text/plain": [
       "Index([], dtype='object')"
      ]
     },
     "execution_count": 52,
     "metadata": {},
     "output_type": "execute_result"
    }
   ],
   "source": [
    "# There are no nan correlation values\n",
    "corr_matrix_upd.columns[corr_matrix_upd.isna().any()]"
   ]
  },
  {
   "cell_type": "code",
   "execution_count": 53,
   "id": "086b01fd",
   "metadata": {},
   "outputs": [],
   "source": [
    "# Max correlation threshold\n",
    "thresh = 0.6"
   ]
  },
  {
   "cell_type": "code",
   "execution_count": 54,
   "id": "8c67cb7e",
   "metadata": {},
   "outputs": [],
   "source": [
    "# Remove high correlated features"
   ]
  },
  {
   "cell_type": "code",
   "execution_count": 55,
   "id": "7783d814",
   "metadata": {},
   "outputs": [],
   "source": [
    "# Upper tridiagonal matrix\n",
    "upper_trid_corr = corr_matrix_upd.where(np.triu(np.ones(corr_matrix_upd.shape), k=1).astype(np.bool))"
   ]
  },
  {
   "cell_type": "code",
   "execution_count": 56,
   "id": "72576350",
   "metadata": {},
   "outputs": [],
   "source": [
    "# Get trid columns\n",
    "trid_columns = upper_trid_corr.columns"
   ]
  },
  {
   "cell_type": "code",
   "execution_count": 57,
   "id": "84b2d76d",
   "metadata": {},
   "outputs": [],
   "source": [
    "# Get high correlated features\n",
    "high_corr_features = [column for column in trid_columns if any(upper_trid_corr[column] > thresh)]"
   ]
  },
  {
   "cell_type": "code",
   "execution_count": 58,
   "id": "48f0f8bf",
   "metadata": {},
   "outputs": [
    {
     "data": {
      "text/plain": [
       "165"
      ]
     },
     "execution_count": 58,
     "metadata": {},
     "output_type": "execute_result"
    }
   ],
   "source": [
    "len(high_corr_features)"
   ]
  },
  {
   "cell_type": "code",
   "execution_count": 59,
   "id": "cf5a51d1",
   "metadata": {},
   "outputs": [
    {
     "data": {
      "text/plain": [
       "['YearsCodePro',\n",
       " 'Age',\n",
       " 'MainBranch_I am a student who is learning to code',\n",
       " 'Hobbyist_Yes',\n",
       " 'CurrencySymbol_AED',\n",
       " 'CurrencySymbol_AMD',\n",
       " 'CurrencySymbol_ARS',\n",
       " 'CurrencySymbol_AUD',\n",
       " 'CurrencySymbol_AZN',\n",
       " 'CurrencySymbol_BAM',\n",
       " 'CurrencySymbol_BDT',\n",
       " 'CurrencySymbol_BGN',\n",
       " 'CurrencySymbol_BRL',\n",
       " 'CurrencySymbol_BYN',\n",
       " 'CurrencySymbol_CAD',\n",
       " 'CurrencySymbol_CHF',\n",
       " 'CurrencySymbol_CLP',\n",
       " 'CurrencySymbol_CNY',\n",
       " 'CurrencySymbol_COP',\n",
       " 'CurrencySymbol_CRC',\n",
       " 'CurrencySymbol_CZK',\n",
       " 'CurrencySymbol_DKK',\n",
       " 'CurrencySymbol_DOP',\n",
       " 'CurrencySymbol_EGP',\n",
       " 'CurrencySymbol_ETB',\n",
       " 'CurrencySymbol_GBP',\n",
       " 'CurrencySymbol_GEL',\n",
       " 'CurrencySymbol_GHS',\n",
       " 'CurrencySymbol_GTQ',\n",
       " 'CurrencySymbol_HKD',\n",
       " 'CurrencySymbol_HRK',\n",
       " 'CurrencySymbol_HUF',\n",
       " 'CurrencySymbol_IDR',\n",
       " 'CurrencySymbol_ILS',\n",
       " 'CurrencySymbol_INR',\n",
       " 'CurrencySymbol_IRR',\n",
       " 'CurrencySymbol_ISK',\n",
       " 'CurrencySymbol_JOD',\n",
       " 'CurrencySymbol_JPY',\n",
       " 'CurrencySymbol_KES',\n",
       " 'CurrencySymbol_KRW',\n",
       " 'CurrencySymbol_KZT',\n",
       " 'CurrencySymbol_LBP',\n",
       " 'CurrencySymbol_LKR',\n",
       " 'CurrencySymbol_MAD',\n",
       " 'CurrencySymbol_MDL',\n",
       " 'CurrencySymbol_MXN',\n",
       " 'CurrencySymbol_MYR',\n",
       " 'CurrencySymbol_NGN',\n",
       " 'CurrencySymbol_NOK',\n",
       " 'CurrencySymbol_NPR',\n",
       " 'CurrencySymbol_NZD',\n",
       " 'CurrencySymbol_PEN',\n",
       " 'CurrencySymbol_PHP',\n",
       " 'CurrencySymbol_PKR',\n",
       " 'CurrencySymbol_PLN',\n",
       " 'CurrencySymbol_RON',\n",
       " 'CurrencySymbol_RUB',\n",
       " 'CurrencySymbol_SAR',\n",
       " 'CurrencySymbol_SEK',\n",
       " 'CurrencySymbol_SGD',\n",
       " 'CurrencySymbol_THB',\n",
       " 'CurrencySymbol_TND',\n",
       " 'CurrencySymbol_TRY',\n",
       " 'CurrencySymbol_TWD',\n",
       " 'CurrencySymbol_UAH',\n",
       " 'CurrencySymbol_UGX',\n",
       " 'CurrencySymbol_USD',\n",
       " 'CurrencySymbol_UYU',\n",
       " 'CurrencySymbol_VND',\n",
       " 'CurrencySymbol_ZAR',\n",
       " 'CurrencyDesc_Afghan afghani',\n",
       " 'CurrencyDesc_Albanian lek',\n",
       " 'CurrencyDesc_Algerian dinar',\n",
       " 'CurrencyDesc_Argentine peso',\n",
       " 'CurrencyDesc_Armenian dram',\n",
       " 'CurrencyDesc_Australian dollar',\n",
       " 'CurrencyDesc_Azerbaijan manat',\n",
       " 'CurrencyDesc_Bangladeshi taka',\n",
       " 'CurrencyDesc_Belarusian ruble',\n",
       " 'CurrencyDesc_Bosnia and Herzegovina convertible mark',\n",
       " 'CurrencyDesc_Brazilian real',\n",
       " 'CurrencyDesc_Bulgarian lev',\n",
       " 'CurrencyDesc_Canadian dollar',\n",
       " 'CurrencyDesc_Chilean peso',\n",
       " 'CurrencyDesc_Chinese Yuan Renminbi',\n",
       " 'CurrencyDesc_Colombian peso',\n",
       " 'CurrencyDesc_Costa Rican colon',\n",
       " 'CurrencyDesc_Croatian kuna',\n",
       " 'CurrencyDesc_Czech koruna',\n",
       " 'CurrencyDesc_Danish krone',\n",
       " 'CurrencyDesc_Dominican peso',\n",
       " 'CurrencyDesc_Egyptian pound',\n",
       " 'CurrencyDesc_Ethiopian birr',\n",
       " 'CurrencyDesc_European Euro',\n",
       " 'CurrencyDesc_Georgian lari',\n",
       " 'CurrencyDesc_Ghanaian cedi',\n",
       " 'CurrencyDesc_Guatemalan quetzal',\n",
       " 'CurrencyDesc_Hong Kong dollar',\n",
       " 'CurrencyDesc_Hungarian forint',\n",
       " 'CurrencyDesc_Icelandic krona',\n",
       " 'CurrencyDesc_Indian rupee',\n",
       " 'CurrencyDesc_Indonesian rupiah',\n",
       " 'CurrencyDesc_Iranian rial',\n",
       " 'CurrencyDesc_Israeli new shekel',\n",
       " 'CurrencyDesc_Japanese yen',\n",
       " 'CurrencyDesc_Jordanian dinar',\n",
       " 'CurrencyDesc_Kazakhstani tenge',\n",
       " 'CurrencyDesc_Kenyan shilling',\n",
       " 'CurrencyDesc_Lebanese pound',\n",
       " 'CurrencyDesc_Macedonian denar',\n",
       " 'CurrencyDesc_Malaysian ringgit',\n",
       " 'CurrencyDesc_Mexican peso',\n",
       " 'CurrencyDesc_Moldovan leu',\n",
       " 'CurrencyDesc_Moroccan dirham',\n",
       " 'CurrencyDesc_Nepalese rupee',\n",
       " 'CurrencyDesc_New Taiwan dollar',\n",
       " 'CurrencyDesc_New Zealand dollar',\n",
       " 'CurrencyDesc_Nigerian naira',\n",
       " 'CurrencyDesc_Norwegian krone',\n",
       " 'CurrencyDesc_Pakistani rupee',\n",
       " 'CurrencyDesc_Peruvian sol',\n",
       " 'CurrencyDesc_Philippine peso',\n",
       " 'CurrencyDesc_Polish zloty',\n",
       " 'CurrencyDesc_Pound sterling',\n",
       " 'CurrencyDesc_Romanian leu',\n",
       " 'CurrencyDesc_Russian ruble',\n",
       " 'CurrencyDesc_Saudi Arabian riyal',\n",
       " 'CurrencyDesc_Serbian dinar',\n",
       " 'CurrencyDesc_Singapore dollar',\n",
       " 'CurrencyDesc_South African rand',\n",
       " 'CurrencyDesc_South Korean won',\n",
       " 'CurrencyDesc_Sri Lankan rupee',\n",
       " 'CurrencyDesc_Swedish krona',\n",
       " 'CurrencyDesc_Swiss franc',\n",
       " 'CurrencyDesc_Thai baht',\n",
       " 'CurrencyDesc_Tunisian dinar',\n",
       " 'CurrencyDesc_Turkish lira',\n",
       " 'CurrencyDesc_Ugandan shilling',\n",
       " 'CurrencyDesc_Ukrainian hryvnia',\n",
       " 'CurrencyDesc_United Arab Emirates dirham',\n",
       " 'CurrencyDesc_United States dollar',\n",
       " 'CurrencyDesc_Uruguayan peso',\n",
       " 'CurrencyDesc_Vietnamese dong',\n",
       " 'LanguageNextYear_Bash/Shell/PowerShell',\n",
       " 'LanguageNextYear_C#',\n",
       " 'LanguageNextYear_JavaScript',\n",
       " 'LanguageNextYear_Other(s):',\n",
       " 'DatabaseDesireNextYear_Other(s):',\n",
       " 'PlatformDesireNextYear_Linux',\n",
       " 'PlatformDesireNextYear_MacOS',\n",
       " 'PlatformDesireNextYear_Other(s):',\n",
       " 'PlatformDesireNextYear_Slack',\n",
       " 'PlatformDesireNextYear_Windows',\n",
       " 'MiscTechWorkedWith_.NET',\n",
       " 'MiscTechWorkedWith_.NET Core',\n",
       " 'MiscTechWorkedWith_Flutter',\n",
       " 'MiscTechDesireNextYear_.NET',\n",
       " 'MiscTechDesireNextYear_.NET Core',\n",
       " 'MiscTechDesireNextYear_Other(s):',\n",
       " 'MiscTechDesireNextYear_Pandas',\n",
       " 'SOAccount_Yes',\n",
       " 'Gender_Woman',\n",
       " 'SurveyLength_Too long',\n",
       " 'SurveyEase_Neither easy nor difficult']"
      ]
     },
     "execution_count": 59,
     "metadata": {},
     "output_type": "execute_result"
    }
   ],
   "source": [
    "high_corr_features"
   ]
  },
  {
   "cell_type": "code",
   "execution_count": 60,
   "id": "e5199c5a",
   "metadata": {},
   "outputs": [],
   "source": [
    "# No correlation dataframe\n",
    "X_noCorr = X.drop(columns=high_corr_features)"
   ]
  },
  {
   "cell_type": "code",
   "execution_count": 61,
   "id": "34904f43",
   "metadata": {},
   "outputs": [
    {
     "data": {
      "text/html": [
       "<div>\n",
       "<style scoped>\n",
       "    .dataframe tbody tr th:only-of-type {\n",
       "        vertical-align: middle;\n",
       "    }\n",
       "\n",
       "    .dataframe tbody tr th {\n",
       "        vertical-align: top;\n",
       "    }\n",
       "\n",
       "    .dataframe thead th {\n",
       "        text-align: right;\n",
       "    }\n",
       "</style>\n",
       "<table border=\"1\" class=\"dataframe\">\n",
       "  <thead>\n",
       "    <tr style=\"text-align: right;\">\n",
       "      <th></th>\n",
       "      <th>YearsCode</th>\n",
       "      <th>Age1stCode</th>\n",
       "      <th>WorkWeekHrs</th>\n",
       "      <th>MainBranch_I am a developer by profession</th>\n",
       "      <th>MainBranch_I am not primarily a developer, but I write code sometimes as part of my work</th>\n",
       "      <th>Hobbyist_No</th>\n",
       "      <th>Employment_Employed full-time</th>\n",
       "      <th>Employment_Employed part-time</th>\n",
       "      <th>Employment_Independent contractor, freelancer, or self-employed</th>\n",
       "      <th>Employment_Not employed, but looking for work</th>\n",
       "      <th>...</th>\n",
       "      <th>Trans_No</th>\n",
       "      <th>Trans_Yes</th>\n",
       "      <th>Sexuality_Bisexual</th>\n",
       "      <th>Sexuality_Gay or Lesbian</th>\n",
       "      <th>Sexuality_Queer</th>\n",
       "      <th>Sexuality_Straight / Heterosexual</th>\n",
       "      <th>SurveyLength_Appropriate in length</th>\n",
       "      <th>SurveyLength_Too short</th>\n",
       "      <th>SurveyEase_Difficult</th>\n",
       "      <th>SurveyEase_Easy</th>\n",
       "    </tr>\n",
       "  </thead>\n",
       "  <tbody>\n",
       "    <tr>\n",
       "      <th>104144</th>\n",
       "      <td>12.0</td>\n",
       "      <td>14.0</td>\n",
       "      <td>40.0</td>\n",
       "      <td>1</td>\n",
       "      <td>0</td>\n",
       "      <td>0</td>\n",
       "      <td>1</td>\n",
       "      <td>0</td>\n",
       "      <td>0</td>\n",
       "      <td>0</td>\n",
       "      <td>...</td>\n",
       "      <td>1</td>\n",
       "      <td>0</td>\n",
       "      <td>0</td>\n",
       "      <td>0</td>\n",
       "      <td>0</td>\n",
       "      <td>1</td>\n",
       "      <td>0</td>\n",
       "      <td>0</td>\n",
       "      <td>0</td>\n",
       "      <td>1</td>\n",
       "    </tr>\n",
       "    <tr>\n",
       "      <th>120953</th>\n",
       "      <td>5.0</td>\n",
       "      <td>12.0</td>\n",
       "      <td>50.0</td>\n",
       "      <td>1</td>\n",
       "      <td>0</td>\n",
       "      <td>0</td>\n",
       "      <td>1</td>\n",
       "      <td>0</td>\n",
       "      <td>0</td>\n",
       "      <td>0</td>\n",
       "      <td>...</td>\n",
       "      <td>1</td>\n",
       "      <td>0</td>\n",
       "      <td>0</td>\n",
       "      <td>0</td>\n",
       "      <td>0</td>\n",
       "      <td>1</td>\n",
       "      <td>1</td>\n",
       "      <td>0</td>\n",
       "      <td>0</td>\n",
       "      <td>1</td>\n",
       "    </tr>\n",
       "    <tr>\n",
       "      <th>80921</th>\n",
       "      <td>40.0</td>\n",
       "      <td>15.0</td>\n",
       "      <td>45.0</td>\n",
       "      <td>1</td>\n",
       "      <td>0</td>\n",
       "      <td>0</td>\n",
       "      <td>1</td>\n",
       "      <td>0</td>\n",
       "      <td>0</td>\n",
       "      <td>0</td>\n",
       "      <td>...</td>\n",
       "      <td>1</td>\n",
       "      <td>0</td>\n",
       "      <td>0</td>\n",
       "      <td>0</td>\n",
       "      <td>0</td>\n",
       "      <td>1</td>\n",
       "      <td>1</td>\n",
       "      <td>0</td>\n",
       "      <td>0</td>\n",
       "      <td>1</td>\n",
       "    </tr>\n",
       "    <tr>\n",
       "      <th>26036</th>\n",
       "      <td>8.0</td>\n",
       "      <td>12.0</td>\n",
       "      <td>35.0</td>\n",
       "      <td>1</td>\n",
       "      <td>0</td>\n",
       "      <td>0</td>\n",
       "      <td>1</td>\n",
       "      <td>0</td>\n",
       "      <td>0</td>\n",
       "      <td>0</td>\n",
       "      <td>...</td>\n",
       "      <td>1</td>\n",
       "      <td>0</td>\n",
       "      <td>0</td>\n",
       "      <td>0</td>\n",
       "      <td>0</td>\n",
       "      <td>1</td>\n",
       "      <td>1</td>\n",
       "      <td>0</td>\n",
       "      <td>0</td>\n",
       "      <td>1</td>\n",
       "    </tr>\n",
       "    <tr>\n",
       "      <th>104228</th>\n",
       "      <td>9.0</td>\n",
       "      <td>14.0</td>\n",
       "      <td>40.0</td>\n",
       "      <td>1</td>\n",
       "      <td>0</td>\n",
       "      <td>0</td>\n",
       "      <td>1</td>\n",
       "      <td>0</td>\n",
       "      <td>0</td>\n",
       "      <td>0</td>\n",
       "      <td>...</td>\n",
       "      <td>1</td>\n",
       "      <td>0</td>\n",
       "      <td>0</td>\n",
       "      <td>0</td>\n",
       "      <td>0</td>\n",
       "      <td>1</td>\n",
       "      <td>1</td>\n",
       "      <td>0</td>\n",
       "      <td>0</td>\n",
       "      <td>1</td>\n",
       "    </tr>\n",
       "    <tr>\n",
       "      <th>...</th>\n",
       "      <td>...</td>\n",
       "      <td>...</td>\n",
       "      <td>...</td>\n",
       "      <td>...</td>\n",
       "      <td>...</td>\n",
       "      <td>...</td>\n",
       "      <td>...</td>\n",
       "      <td>...</td>\n",
       "      <td>...</td>\n",
       "      <td>...</td>\n",
       "      <td>...</td>\n",
       "      <td>...</td>\n",
       "      <td>...</td>\n",
       "      <td>...</td>\n",
       "      <td>...</td>\n",
       "      <td>...</td>\n",
       "      <td>...</td>\n",
       "      <td>...</td>\n",
       "      <td>...</td>\n",
       "      <td>...</td>\n",
       "      <td>...</td>\n",
       "    </tr>\n",
       "    <tr>\n",
       "      <th>122686</th>\n",
       "      <td>17.0</td>\n",
       "      <td>20.0</td>\n",
       "      <td>40.0</td>\n",
       "      <td>1</td>\n",
       "      <td>0</td>\n",
       "      <td>1</td>\n",
       "      <td>1</td>\n",
       "      <td>0</td>\n",
       "      <td>0</td>\n",
       "      <td>0</td>\n",
       "      <td>...</td>\n",
       "      <td>1</td>\n",
       "      <td>0</td>\n",
       "      <td>0</td>\n",
       "      <td>0</td>\n",
       "      <td>0</td>\n",
       "      <td>1</td>\n",
       "      <td>1</td>\n",
       "      <td>0</td>\n",
       "      <td>0</td>\n",
       "      <td>1</td>\n",
       "    </tr>\n",
       "    <tr>\n",
       "      <th>7024</th>\n",
       "      <td>8.0</td>\n",
       "      <td>11.0</td>\n",
       "      <td>40.0</td>\n",
       "      <td>1</td>\n",
       "      <td>0</td>\n",
       "      <td>0</td>\n",
       "      <td>1</td>\n",
       "      <td>0</td>\n",
       "      <td>0</td>\n",
       "      <td>0</td>\n",
       "      <td>...</td>\n",
       "      <td>1</td>\n",
       "      <td>0</td>\n",
       "      <td>0</td>\n",
       "      <td>0</td>\n",
       "      <td>0</td>\n",
       "      <td>1</td>\n",
       "      <td>0</td>\n",
       "      <td>0</td>\n",
       "      <td>0</td>\n",
       "      <td>1</td>\n",
       "    </tr>\n",
       "    <tr>\n",
       "      <th>21827</th>\n",
       "      <td>20.0</td>\n",
       "      <td>8.0</td>\n",
       "      <td>50.0</td>\n",
       "      <td>1</td>\n",
       "      <td>0</td>\n",
       "      <td>1</td>\n",
       "      <td>1</td>\n",
       "      <td>0</td>\n",
       "      <td>0</td>\n",
       "      <td>0</td>\n",
       "      <td>...</td>\n",
       "      <td>1</td>\n",
       "      <td>0</td>\n",
       "      <td>0</td>\n",
       "      <td>1</td>\n",
       "      <td>0</td>\n",
       "      <td>0</td>\n",
       "      <td>1</td>\n",
       "      <td>0</td>\n",
       "      <td>0</td>\n",
       "      <td>1</td>\n",
       "    </tr>\n",
       "    <tr>\n",
       "      <th>91643</th>\n",
       "      <td>22.0</td>\n",
       "      <td>14.0</td>\n",
       "      <td>40.0</td>\n",
       "      <td>0</td>\n",
       "      <td>1</td>\n",
       "      <td>0</td>\n",
       "      <td>1</td>\n",
       "      <td>0</td>\n",
       "      <td>0</td>\n",
       "      <td>0</td>\n",
       "      <td>...</td>\n",
       "      <td>1</td>\n",
       "      <td>0</td>\n",
       "      <td>0</td>\n",
       "      <td>0</td>\n",
       "      <td>0</td>\n",
       "      <td>1</td>\n",
       "      <td>1</td>\n",
       "      <td>0</td>\n",
       "      <td>0</td>\n",
       "      <td>0</td>\n",
       "    </tr>\n",
       "    <tr>\n",
       "      <th>60523</th>\n",
       "      <td>5.0</td>\n",
       "      <td>24.0</td>\n",
       "      <td>45.0</td>\n",
       "      <td>0</td>\n",
       "      <td>1</td>\n",
       "      <td>0</td>\n",
       "      <td>1</td>\n",
       "      <td>0</td>\n",
       "      <td>0</td>\n",
       "      <td>0</td>\n",
       "      <td>...</td>\n",
       "      <td>1</td>\n",
       "      <td>0</td>\n",
       "      <td>0</td>\n",
       "      <td>0</td>\n",
       "      <td>0</td>\n",
       "      <td>1</td>\n",
       "      <td>0</td>\n",
       "      <td>0</td>\n",
       "      <td>0</td>\n",
       "      <td>1</td>\n",
       "    </tr>\n",
       "  </tbody>\n",
       "</table>\n",
       "<p>41550 rows × 414 columns</p>\n",
       "</div>"
      ],
      "text/plain": [
       "        YearsCode  Age1stCode  WorkWeekHrs  \\\n",
       "104144       12.0        14.0         40.0   \n",
       "120953        5.0        12.0         50.0   \n",
       "80921        40.0        15.0         45.0   \n",
       "26036         8.0        12.0         35.0   \n",
       "104228        9.0        14.0         40.0   \n",
       "...           ...         ...          ...   \n",
       "122686       17.0        20.0         40.0   \n",
       "7024          8.0        11.0         40.0   \n",
       "21827        20.0         8.0         50.0   \n",
       "91643        22.0        14.0         40.0   \n",
       "60523         5.0        24.0         45.0   \n",
       "\n",
       "        MainBranch_I am a developer by profession  \\\n",
       "104144                                          1   \n",
       "120953                                          1   \n",
       "80921                                           1   \n",
       "26036                                           1   \n",
       "104228                                          1   \n",
       "...                                           ...   \n",
       "122686                                          1   \n",
       "7024                                            1   \n",
       "21827                                           1   \n",
       "91643                                           0   \n",
       "60523                                           0   \n",
       "\n",
       "        MainBranch_I am not primarily a developer, but I write code sometimes as part of my work  \\\n",
       "104144                                                  0                                          \n",
       "120953                                                  0                                          \n",
       "80921                                                   0                                          \n",
       "26036                                                   0                                          \n",
       "104228                                                  0                                          \n",
       "...                                                   ...                                          \n",
       "122686                                                  0                                          \n",
       "7024                                                    0                                          \n",
       "21827                                                   0                                          \n",
       "91643                                                   1                                          \n",
       "60523                                                   1                                          \n",
       "\n",
       "        Hobbyist_No  Employment_Employed full-time  \\\n",
       "104144            0                              1   \n",
       "120953            0                              1   \n",
       "80921             0                              1   \n",
       "26036             0                              1   \n",
       "104228            0                              1   \n",
       "...             ...                            ...   \n",
       "122686            1                              1   \n",
       "7024              0                              1   \n",
       "21827             1                              1   \n",
       "91643             0                              1   \n",
       "60523             0                              1   \n",
       "\n",
       "        Employment_Employed part-time  \\\n",
       "104144                              0   \n",
       "120953                              0   \n",
       "80921                               0   \n",
       "26036                               0   \n",
       "104228                              0   \n",
       "...                               ...   \n",
       "122686                              0   \n",
       "7024                                0   \n",
       "21827                               0   \n",
       "91643                               0   \n",
       "60523                               0   \n",
       "\n",
       "        Employment_Independent contractor, freelancer, or self-employed  \\\n",
       "104144                                                  0                 \n",
       "120953                                                  0                 \n",
       "80921                                                   0                 \n",
       "26036                                                   0                 \n",
       "104228                                                  0                 \n",
       "...                                                   ...                 \n",
       "122686                                                  0                 \n",
       "7024                                                    0                 \n",
       "21827                                                   0                 \n",
       "91643                                                   0                 \n",
       "60523                                                   0                 \n",
       "\n",
       "        Employment_Not employed, but looking for work  ...  Trans_No  \\\n",
       "104144                                              0  ...         1   \n",
       "120953                                              0  ...         1   \n",
       "80921                                               0  ...         1   \n",
       "26036                                               0  ...         1   \n",
       "104228                                              0  ...         1   \n",
       "...                                               ...  ...       ...   \n",
       "122686                                              0  ...         1   \n",
       "7024                                                0  ...         1   \n",
       "21827                                               0  ...         1   \n",
       "91643                                               0  ...         1   \n",
       "60523                                               0  ...         1   \n",
       "\n",
       "        Trans_Yes  Sexuality_Bisexual  Sexuality_Gay or Lesbian  \\\n",
       "104144          0                   0                         0   \n",
       "120953          0                   0                         0   \n",
       "80921           0                   0                         0   \n",
       "26036           0                   0                         0   \n",
       "104228          0                   0                         0   \n",
       "...           ...                 ...                       ...   \n",
       "122686          0                   0                         0   \n",
       "7024            0                   0                         0   \n",
       "21827           0                   0                         1   \n",
       "91643           0                   0                         0   \n",
       "60523           0                   0                         0   \n",
       "\n",
       "        Sexuality_Queer  Sexuality_Straight / Heterosexual  \\\n",
       "104144                0                                  1   \n",
       "120953                0                                  1   \n",
       "80921                 0                                  1   \n",
       "26036                 0                                  1   \n",
       "104228                0                                  1   \n",
       "...                 ...                                ...   \n",
       "122686                0                                  1   \n",
       "7024                  0                                  1   \n",
       "21827                 0                                  0   \n",
       "91643                 0                                  1   \n",
       "60523                 0                                  1   \n",
       "\n",
       "        SurveyLength_Appropriate in length  SurveyLength_Too short  \\\n",
       "104144                                   0                       0   \n",
       "120953                                   1                       0   \n",
       "80921                                    1                       0   \n",
       "26036                                    1                       0   \n",
       "104228                                   1                       0   \n",
       "...                                    ...                     ...   \n",
       "122686                                   1                       0   \n",
       "7024                                     0                       0   \n",
       "21827                                    1                       0   \n",
       "91643                                    1                       0   \n",
       "60523                                    0                       0   \n",
       "\n",
       "        SurveyEase_Difficult  SurveyEase_Easy  \n",
       "104144                     0                1  \n",
       "120953                     0                1  \n",
       "80921                      0                1  \n",
       "26036                      0                1  \n",
       "104228                     0                1  \n",
       "...                      ...              ...  \n",
       "122686                     0                1  \n",
       "7024                       0                1  \n",
       "21827                      0                1  \n",
       "91643                      0                0  \n",
       "60523                      0                1  \n",
       "\n",
       "[41550 rows x 414 columns]"
      ]
     },
     "execution_count": 61,
     "metadata": {},
     "output_type": "execute_result"
    }
   ],
   "source": [
    "# We reduced dataframe to lower number of columns\n",
    "X_noCorr"
   ]
  },
  {
   "cell_type": "code",
   "execution_count": 62,
   "id": "482f0b43",
   "metadata": {},
   "outputs": [],
   "source": [
    "# Train test split"
   ]
  },
  {
   "cell_type": "code",
   "execution_count": 63,
   "id": "598fb82b",
   "metadata": {},
   "outputs": [],
   "source": [
    "from sklearn.model_selection import train_test_split"
   ]
  },
  {
   "cell_type": "code",
   "execution_count": 64,
   "id": "3769ed08",
   "metadata": {},
   "outputs": [],
   "source": [
    "X_train, X_test, y_train, y_test = train_test_split(X_noCorr, y, test_size=0.25, random_state=323)"
   ]
  },
  {
   "cell_type": "code",
   "execution_count": 65,
   "id": "0d08913a",
   "metadata": {},
   "outputs": [],
   "source": [
    "from sklearn.preprocessing import MinMaxScaler\n",
    "# Create a scaler\n",
    "min_max_scaler = MinMaxScaler()"
   ]
  },
  {
   "cell_type": "code",
   "execution_count": 66,
   "id": "35cf4b53",
   "metadata": {},
   "outputs": [],
   "source": [
    "# Normlaize data with min_max_scaler\n",
    "x_train_norm = min_max_scaler.fit_transform(X_train)\n",
    "x_test_norm = min_max_scaler.transform(X_test)"
   ]
  },
  {
   "cell_type": "code",
   "execution_count": 67,
   "id": "1bafd87e",
   "metadata": {},
   "outputs": [],
   "source": [
    "# Train and test data shape"
   ]
  },
  {
   "cell_type": "code",
   "execution_count": 68,
   "id": "6982450c",
   "metadata": {},
   "outputs": [
    {
     "data": {
      "text/plain": [
       "(31162, 414)"
      ]
     },
     "execution_count": 68,
     "metadata": {},
     "output_type": "execute_result"
    }
   ],
   "source": [
    "x_train_norm.shape"
   ]
  },
  {
   "cell_type": "code",
   "execution_count": 69,
   "id": "98f6b54a",
   "metadata": {
    "scrolled": true
   },
   "outputs": [
    {
     "data": {
      "text/plain": [
       "(10388, 414)"
      ]
     },
     "execution_count": 69,
     "metadata": {},
     "output_type": "execute_result"
    }
   ],
   "source": [
    "x_test_norm.shape"
   ]
  },
  {
   "cell_type": "code",
   "execution_count": 89,
   "id": "b5cae327",
   "metadata": {},
   "outputs": [],
   "source": [
    "# ROC Curve for further data analysis\n",
    "\n",
    "from sklearn.metrics import roc_curve\n",
    "from sklearn.metrics import roc_auc_score\n",
    "import matplotlib.pyplot as plt\n",
    "\n",
    "def plot_ROC(y_proba, y_test, model_str):\n",
    "    # Predicting proba\n",
    "    # Only positive values\n",
    "    model_probs = y_proba[:, 1]\n",
    "    # Calculation roc_auc for no-skill and model\n",
    "    ns_probs = [0 for _ in range(len(model_probs))]\n",
    "    ns_auc = roc_auc_score(y_test, ns_probs)\n",
    "    model_auc = roc_auc_score(y_test, model_probs)\n",
    "    # Summary\n",
    "    print('No Skill: ROC AUC=%.3f' % (ns_auc))\n",
    "    print(model_str+' ROC AUC=%.3f' % (model_auc))\n",
    "    # ROC curves calculation\n",
    "    ns_fpr, ns_tpr, _ = roc_curve(y_test, ns_probs)\n",
    "    lr_fpr, lr_tpr, _ = roc_curve(y_test, model_probs)\n",
    "    # Plot ROC curve\n",
    "    plt.figure(figsize=(12,4))\n",
    "    plt.plot(ns_fpr, ns_tpr, linestyle='--', label='No Skill')\n",
    "    plt.plot(lr_fpr, lr_tpr, marker='.', label=model_str)\n",
    "    plt.xlabel('False Positive Rate')\n",
    "    plt.ylabel('True Positive Rate')\n",
    "    plt.legend()\n",
    "    plt.show()"
   ]
  },
  {
   "cell_type": "code",
   "execution_count": 90,
   "id": "4a5b76e2",
   "metadata": {},
   "outputs": [],
   "source": [
    "# 1. Logistic regression"
   ]
  },
  {
   "cell_type": "code",
   "execution_count": 91,
   "id": "e595785b",
   "metadata": {},
   "outputs": [],
   "source": [
    "from sklearn.linear_model import LogisticRegression"
   ]
  },
  {
   "cell_type": "code",
   "execution_count": 73,
   "id": "1a8bb131",
   "metadata": {},
   "outputs": [],
   "source": [
    "# Create logistic regression model\n",
    "logistic = LogisticRegression(multi_class='multinomial', solver='lbfgs', max_iter=500, penalty='l2', C=0.5)"
   ]
  },
  {
   "cell_type": "code",
   "execution_count": 74,
   "id": "b32ed2f8",
   "metadata": {},
   "outputs": [
    {
     "data": {
      "text/plain": [
       "LogisticRegression(C=0.5, max_iter=500, multi_class='multinomial')"
      ]
     },
     "execution_count": 74,
     "metadata": {},
     "output_type": "execute_result"
    }
   ],
   "source": [
    "# Fit model\n",
    "logistic.fit(x_train_norm, y_train)"
   ]
  },
  {
   "cell_type": "code",
   "execution_count": 75,
   "id": "bd4fc7cf",
   "metadata": {},
   "outputs": [],
   "source": [
    "# Make a prediction\n",
    "logistic_preds = logistic.predict(x_test_norm)"
   ]
  },
  {
   "cell_type": "code",
   "execution_count": 76,
   "id": "6bf46013",
   "metadata": {},
   "outputs": [],
   "source": [
    "from sklearn.metrics import confusion_matrix, classification_report"
   ]
  },
  {
   "cell_type": "code",
   "execution_count": 77,
   "id": "db25d1e3",
   "metadata": {},
   "outputs": [
    {
     "data": {
      "text/plain": [
       "array([[4403,  833],\n",
       "       [ 858, 4294]], dtype=int64)"
      ]
     },
     "execution_count": 77,
     "metadata": {},
     "output_type": "execute_result"
    }
   ],
   "source": [
    "confusion_matrix(y_test, logistic_preds)"
   ]
  },
  {
   "cell_type": "code",
   "execution_count": 78,
   "id": "eb40b886",
   "metadata": {
    "scrolled": true
   },
   "outputs": [
    {
     "name": "stdout",
     "output_type": "stream",
     "text": [
      "              precision    recall  f1-score   support\n",
      "\n",
      "           0       0.84      0.84      0.84      5236\n",
      "           1       0.84      0.83      0.84      5152\n",
      "\n",
      "    accuracy                           0.84     10388\n",
      "   macro avg       0.84      0.84      0.84     10388\n",
      "weighted avg       0.84      0.84      0.84     10388\n",
      "\n"
     ]
    }
   ],
   "source": [
    "print(classification_report(y_test, logistic_preds))"
   ]
  },
  {
   "cell_type": "code",
   "execution_count": 79,
   "id": "688ea156",
   "metadata": {},
   "outputs": [],
   "source": [
    "# Probability\n",
    "logistic_proba = logistic.predict_proba(x_test_norm)"
   ]
  },
  {
   "cell_type": "code",
   "execution_count": 92,
   "id": "8bb1209f",
   "metadata": {},
   "outputs": [
    {
     "name": "stdout",
     "output_type": "stream",
     "text": [
      "No Skill: ROC AUC=0.500\n",
      "Logistic regression ROC AUC=0.911\n"
     ]
    },
    {
     "data": {
      "image/png": "[encoded data removed]",
      "text/plain": [
       "<Figure size 864x288 with 1 Axes>"
      ]
     },
     "metadata": {
      "needs_background": "light"
     },
     "output_type": "display_data"
    }
   ],
   "source": [
    "# ROC Curve\n",
    "plot_ROC(logistic_proba, y_test, 'Logistic regression')"
   ]
  },
  {
   "cell_type": "code",
   "execution_count": 81,
   "id": "90951875",
   "metadata": {},
   "outputs": [],
   "source": [
    "# 2. Decision tree"
   ]
  },
  {
   "cell_type": "code",
   "execution_count": 82,
   "id": "8c90edd4",
   "metadata": {},
   "outputs": [],
   "source": [
    "from sklearn.tree import DecisionTreeClassifier"
   ]
  },
  {
   "cell_type": "code",
   "execution_count": 131,
   "id": "a3b4067a",
   "metadata": {},
   "outputs": [],
   "source": [
    "tree_model = DecisionTreeClassifier(max_depth=6)"
   ]
  },
  {
   "cell_type": "code",
   "execution_count": 132,
   "id": "00bb4a6d",
   "metadata": {},
   "outputs": [
    {
     "data": {
      "text/plain": [
       "DecisionTreeClassifier(max_depth=6, max_features=200)"
      ]
     },
     "execution_count": 132,
     "metadata": {},
     "output_type": "execute_result"
    }
   ],
   "source": [
    "tree_model.fit(x_train_norm, y_train)"
   ]
  },
  {
   "cell_type": "code",
   "execution_count": 133,
   "id": "abd13103",
   "metadata": {},
   "outputs": [],
   "source": [
    "tree_preds = tree_model.predict(x_test_norm)"
   ]
  },
  {
   "cell_type": "code",
   "execution_count": 134,
   "id": "0f004e6c",
   "metadata": {},
   "outputs": [
    {
     "data": {
      "text/plain": [
       "array([[4448,  788],\n",
       "       [1158, 3994]], dtype=int64)"
      ]
     },
     "execution_count": 134,
     "metadata": {},
     "output_type": "execute_result"
    }
   ],
   "source": [
    "confusion_matrix(y_test, tree_preds)"
   ]
  },
  {
   "cell_type": "code",
   "execution_count": 135,
   "id": "720883be",
   "metadata": {},
   "outputs": [
    {
     "name": "stdout",
     "output_type": "stream",
     "text": [
      "              precision    recall  f1-score   support\n",
      "\n",
      "           0       0.79      0.85      0.82      5236\n",
      "           1       0.84      0.78      0.80      5152\n",
      "\n",
      "    accuracy                           0.81     10388\n",
      "   macro avg       0.81      0.81      0.81     10388\n",
      "weighted avg       0.81      0.81      0.81     10388\n",
      "\n"
     ]
    }
   ],
   "source": [
    "print(classification_report(y_test, tree_preds))"
   ]
  },
  {
   "cell_type": "code",
   "execution_count": 136,
   "id": "a7851c41",
   "metadata": {},
   "outputs": [
    {
     "name": "stdout",
     "output_type": "stream",
     "text": [
      "No Skill: ROC AUC=0.500\n",
      "Decision tree ROC AUC=0.877\n"
     ]
    },
    {
     "data": {
      "image/png": "[encoded data removed]",
      "text/plain": [
       "<Figure size 864x288 with 1 Axes>"
      ]
     },
     "metadata": {
      "needs_background": "light"
     },
     "output_type": "display_data"
    }
   ],
   "source": [
    "# Probability\n",
    "tree_proba = tree_model.predict_proba(x_test_norm)\n",
    "\n",
    "# ROC Curve\n",
    "plot_ROC(tree_proba, y_test, 'Decision tree')"
   ]
  },
  {
   "cell_type": "code",
   "execution_count": 100,
   "id": "0845d291",
   "metadata": {},
   "outputs": [],
   "source": [
    "# 3. Random forest classifier"
   ]
  },
  {
   "cell_type": "code",
   "execution_count": 101,
   "id": "cfdcf882",
   "metadata": {},
   "outputs": [],
   "source": [
    "from sklearn.ensemble import RandomForestClassifier"
   ]
  },
  {
   "cell_type": "code",
   "execution_count": 137,
   "id": "386f4ea9",
   "metadata": {},
   "outputs": [],
   "source": [
    "forest_model = RandomForestClassifier(n_estimators=300)"
   ]
  },
  {
   "cell_type": "code",
   "execution_count": 138,
   "id": "d4097017",
   "metadata": {},
   "outputs": [
    {
     "data": {
      "text/plain": [
       "RandomForestClassifier(n_estimators=300)"
      ]
     },
     "execution_count": 138,
     "metadata": {},
     "output_type": "execute_result"
    }
   ],
   "source": [
    "forest_model.fit(x_train_norm, y_train)"
   ]
  },
  {
   "cell_type": "code",
   "execution_count": 139,
   "id": "e90d492d",
   "metadata": {},
   "outputs": [],
   "source": [
    "y_forest_pred = forest_model.predict(x_test_norm)"
   ]
  },
  {
   "cell_type": "code",
   "execution_count": 140,
   "id": "bce9c4d1",
   "metadata": {},
   "outputs": [
    {
     "data": {
      "text/plain": [
       "array([[4542,  694],\n",
       "       [1014, 4138]], dtype=int64)"
      ]
     },
     "execution_count": 140,
     "metadata": {},
     "output_type": "execute_result"
    }
   ],
   "source": [
    "confusion_matrix(y_test, y_forest_pred)"
   ]
  },
  {
   "cell_type": "code",
   "execution_count": 141,
   "id": "fd51cbf8",
   "metadata": {},
   "outputs": [
    {
     "name": "stdout",
     "output_type": "stream",
     "text": [
      "              precision    recall  f1-score   support\n",
      "\n",
      "           0       0.82      0.87      0.84      5236\n",
      "           1       0.86      0.80      0.83      5152\n",
      "\n",
      "    accuracy                           0.84     10388\n",
      "   macro avg       0.84      0.84      0.84     10388\n",
      "weighted avg       0.84      0.84      0.84     10388\n",
      "\n"
     ]
    }
   ],
   "source": [
    "print(classification_report(y_test, y_forest_pred))"
   ]
  },
  {
   "cell_type": "code",
   "execution_count": 142,
   "id": "cd8a7389",
   "metadata": {},
   "outputs": [
    {
     "name": "stdout",
     "output_type": "stream",
     "text": [
      "No Skill: ROC AUC=0.500\n",
      "Random forest ROC AUC=0.911\n"
     ]
    },
    {
     "data": {
      "image/png": "[encoded data removed]",
      "text/plain": [
       "<Figure size 864x288 with 1 Axes>"
      ]
     },
     "metadata": {
      "needs_background": "light"
     },
     "output_type": "display_data"
    }
   ],
   "source": [
    "# Probability\n",
    "rf_proba = forest_model.predict_proba(x_test_norm)\n",
    "\n",
    "# ROC Curve\n",
    "plot_ROC(rf_proba, y_test, 'Random forest')"
   ]
  },
  {
   "cell_type": "code",
   "execution_count": 143,
   "id": "94cf99be",
   "metadata": {},
   "outputs": [],
   "source": [
    "# 4. XGBoost\n",
    "import xgboost"
   ]
  },
  {
   "cell_type": "code",
   "execution_count": 184,
   "id": "3f3d2557",
   "metadata": {},
   "outputs": [],
   "source": [
    "xgboost_c = xgboost.XGBClassifier(n_estimators=200, reg_alpha=10)"
   ]
  },
  {
   "cell_type": "code",
   "execution_count": 185,
   "id": "14045baf",
   "metadata": {},
   "outputs": [
    {
     "name": "stderr",
     "output_type": "stream",
     "text": [
      "C:\\Users\\Marcin\\Anaconda3\\lib\\site-packages\\xgboost\\sklearn.py:892: UserWarning: The use of label encoder in XGBClassifier is deprecated and will be removed in a future release. To remove this warning, do the following: 1) Pass option use_label_encoder=False when constructing XGBClassifier object; and 2) Encode your labels (y) as integers starting with 0, i.e. 0, 1, 2, ..., [num_class - 1].\n",
      "  warnings.warn(label_encoder_deprecation_msg, UserWarning)\n"
     ]
    },
    {
     "name": "stdout",
     "output_type": "stream",
     "text": [
      "[01:55:48] WARNING: C:/Users/Administrator/workspace/xgboost-win64_release_1.3.0/src/learner.cc:1061: Starting in XGBoost 1.3.0, the default evaluation metric used with the objective 'binary:logistic' was changed from 'error' to 'logloss'. Explicitly set eval_metric if you'd like to restore the old behavior.\n"
     ]
    },
    {
     "data": {
      "text/plain": [
       "XGBClassifier(base_score=0.5, booster='gbtree', colsample_bylevel=1,\n",
       "              colsample_bynode=1, colsample_bytree=1, gamma=0, gpu_id=-1,\n",
       "              importance_type='gain', interaction_constraints='',\n",
       "              learning_rate=0.300000012, max_delta_step=0, max_depth=6,\n",
       "              min_child_weight=1, missing=nan, monotone_constraints='()',\n",
       "              n_estimators=200, n_jobs=12, num_parallel_tree=1, random_state=0,\n",
       "              reg_alpha=10, reg_lambda=1, scale_pos_weight=1, subsample=1,\n",
       "              tree_method='exact', validate_parameters=1, verbosity=None)"
      ]
     },
     "execution_count": 185,
     "metadata": {},
     "output_type": "execute_result"
    }
   ],
   "source": [
    "xgboost_c.fit(x_train_norm, y_train)"
   ]
  },
  {
   "cell_type": "code",
   "execution_count": 186,
   "id": "6ad2ce71",
   "metadata": {},
   "outputs": [],
   "source": [
    "y_xgb_pred = xgboost_c.predict(x_test_norm) "
   ]
  },
  {
   "cell_type": "code",
   "execution_count": 187,
   "id": "33c00e58",
   "metadata": {},
   "outputs": [
    {
     "data": {
      "text/plain": [
       "array([[4461,  775],\n",
       "       [ 905, 4247]], dtype=int64)"
      ]
     },
     "execution_count": 187,
     "metadata": {},
     "output_type": "execute_result"
    }
   ],
   "source": [
    "confusion_matrix(y_test, y_xgb_pred)"
   ]
  },
  {
   "cell_type": "code",
   "execution_count": 188,
   "id": "0513ae86",
   "metadata": {},
   "outputs": [
    {
     "name": "stdout",
     "output_type": "stream",
     "text": [
      "              precision    recall  f1-score   support\n",
      "\n",
      "           0       0.83      0.85      0.84      5236\n",
      "           1       0.85      0.82      0.83      5152\n",
      "\n",
      "    accuracy                           0.84     10388\n",
      "   macro avg       0.84      0.84      0.84     10388\n",
      "weighted avg       0.84      0.84      0.84     10388\n",
      "\n"
     ]
    }
   ],
   "source": [
    "print(classification_report(y_test, y_xgb_pred))"
   ]
  },
  {
   "cell_type": "code",
   "execution_count": 190,
   "id": "df9ebb11",
   "metadata": {},
   "outputs": [
    {
     "name": "stdout",
     "output_type": "stream",
     "text": [
      "No Skill: ROC AUC=0.500\n",
      "XGBoost classifier ROC AUC=0.915\n"
     ]
    },
    {
     "data": {
      "image/png": "[encoded data removed]",
      "text/plain": [
       "<Figure size 864x288 with 1 Axes>"
      ]
     },
     "metadata": {
      "needs_background": "light"
     },
     "output_type": "display_data"
    }
   ],
   "source": [
    "# Probability\n",
    "xgb_proba = xgboost_c.predict_proba(x_test_norm)\n",
    "\n",
    "# ROC Curve\n",
    "plot_ROC(xgb_proba, y_test, 'XGBoost classifier')"
   ]
  },
  {
   "cell_type": "code",
   "execution_count": 191,
   "id": "e6358efb",
   "metadata": {},
   "outputs": [],
   "source": [
    "# PCA"
   ]
  },
  {
   "cell_type": "code",
   "execution_count": 192,
   "id": "10adf43c",
   "metadata": {},
   "outputs": [],
   "source": [
    "from sklearn.decomposition import PCA"
   ]
  },
  {
   "cell_type": "code",
   "execution_count": 193,
   "id": "d6853612",
   "metadata": {},
   "outputs": [],
   "source": [
    "pca = PCA(n_components=100)"
   ]
  },
  {
   "cell_type": "code",
   "execution_count": 194,
   "id": "5c524938",
   "metadata": {},
   "outputs": [],
   "source": [
    "# Transformation\n",
    "x_train_norm_PCA = pca.fit_transform(x_train_norm)"
   ]
  },
  {
   "cell_type": "code",
   "execution_count": 195,
   "id": "8ee6c9eb",
   "metadata": {},
   "outputs": [],
   "source": [
    "x_test_norm_PCA = pca.transform(x_test_norm)"
   ]
  },
  {
   "cell_type": "code",
   "execution_count": 196,
   "id": "f27b3e79",
   "metadata": {},
   "outputs": [
    {
     "data": {
      "text/plain": [
       "(31162, 100)"
      ]
     },
     "execution_count": 196,
     "metadata": {},
     "output_type": "execute_result"
    }
   ],
   "source": [
    "x_train_norm_PCA.shape"
   ]
  },
  {
   "cell_type": "code",
   "execution_count": 197,
   "id": "150db902",
   "metadata": {},
   "outputs": [],
   "source": [
    "# Logistic\n",
    "# Create logistic regression model\n",
    "logistic_pca = LogisticRegression(multi_class='multinomial', solver='lbfgs', max_iter=500, penalty='l2', C=0.5)\n",
    "# Fit model\n",
    "logistic_pca.fit(x_train_norm_PCA, y_train)\n",
    "# Make a prediction\n",
    "y_logistic_preds_pca = logistic_pca.predict(x_test_norm_PCA)"
   ]
  },
  {
   "cell_type": "code",
   "execution_count": 198,
   "id": "6626002f",
   "metadata": {},
   "outputs": [
    {
     "data": {
      "text/plain": [
       "array([[4426,  810],\n",
       "       [1038, 4114]], dtype=int64)"
      ]
     },
     "execution_count": 198,
     "metadata": {},
     "output_type": "execute_result"
    }
   ],
   "source": [
    "confusion_matrix(y_test, y_logistic_preds_pca)"
   ]
  },
  {
   "cell_type": "code",
   "execution_count": 199,
   "id": "695264b4",
   "metadata": {
    "scrolled": true
   },
   "outputs": [
    {
     "name": "stdout",
     "output_type": "stream",
     "text": [
      "              precision    recall  f1-score   support\n",
      "\n",
      "           0       0.81      0.85      0.83      5236\n",
      "           1       0.84      0.80      0.82      5152\n",
      "\n",
      "    accuracy                           0.82     10388\n",
      "   macro avg       0.82      0.82      0.82     10388\n",
      "weighted avg       0.82      0.82      0.82     10388\n",
      "\n"
     ]
    }
   ],
   "source": [
    "print(classification_report(y_test, y_logistic_preds_pca))"
   ]
  },
  {
   "cell_type": "code",
   "execution_count": 201,
   "id": "bbed236e",
   "metadata": {},
   "outputs": [
    {
     "name": "stdout",
     "output_type": "stream",
     "text": [
      "No Skill: ROC AUC=0.500\n",
      "Logistic PCA, classifier ROC AUC=0.897\n"
     ]
    },
    {
     "data": {
      "image/png": "[encoded data removed]",
      "text/plain": [
       "<Figure size 864x288 with 1 Axes>"
      ]
     },
     "metadata": {
      "needs_background": "light"
     },
     "output_type": "display_data"
    }
   ],
   "source": [
    "# Probability\n",
    "logistic_pca_proba = logistic_pca.predict_proba(x_test_norm_PCA)\n",
    "\n",
    "# ROC Curve\n",
    "plot_ROC(logistic_pca_proba, y_test, 'Logistic PCA, classifier')"
   ]
  },
  {
   "cell_type": "code",
   "execution_count": 214,
   "id": "723b0c4a",
   "metadata": {},
   "outputs": [],
   "source": [
    "# Tree\n",
    "from sklearn import tree\n",
    "decision_tree_model = tree.DecisionTreeClassifier(max_depth=8)\n",
    "decision_tree_model.fit(x_train_norm_PCA, y_train)\n",
    "y_pred_tree_PCA = decision_tree_model.predict(x_test_norm_PCA)"
   ]
  },
  {
   "cell_type": "code",
   "execution_count": 215,
   "id": "3c55f9bb",
   "metadata": {},
   "outputs": [
    {
     "data": {
      "text/plain": [
       "array([[3785, 1451],\n",
       "       [1466, 3686]], dtype=int64)"
      ]
     },
     "execution_count": 215,
     "metadata": {},
     "output_type": "execute_result"
    }
   ],
   "source": [
    "confusion_matrix(y_test, y_pred_tree_PCA)"
   ]
  },
  {
   "cell_type": "code",
   "execution_count": 216,
   "id": "9353f7d1",
   "metadata": {},
   "outputs": [
    {
     "name": "stdout",
     "output_type": "stream",
     "text": [
      "              precision    recall  f1-score   support\n",
      "\n",
      "           0       0.72      0.72      0.72      5236\n",
      "           1       0.72      0.72      0.72      5152\n",
      "\n",
      "    accuracy                           0.72     10388\n",
      "   macro avg       0.72      0.72      0.72     10388\n",
      "weighted avg       0.72      0.72      0.72     10388\n",
      "\n"
     ]
    }
   ],
   "source": [
    "print(classification_report(y_test, y_pred_tree_PCA))"
   ]
  },
  {
   "cell_type": "code",
   "execution_count": 217,
   "id": "14d5c30b",
   "metadata": {},
   "outputs": [
    {
     "name": "stdout",
     "output_type": "stream",
     "text": [
      "No Skill: ROC AUC=0.500\n",
      "Decision tree PCA, classifier ROC AUC=0.774\n"
     ]
    },
    {
     "data": {
      "image/png": "[encoded data removed]",
      "text/plain": [
       "<Figure size 864x288 with 1 Axes>"
      ]
     },
     "metadata": {
      "needs_background": "light"
     },
     "output_type": "display_data"
    }
   ],
   "source": [
    "# Probability\n",
    "tree_pca_proba = decision_tree_model.predict_proba(x_test_norm_PCA)\n",
    "\n",
    "# ROC Curve\n",
    "plot_ROC(tree_pca_proba, y_test, 'Decision tree PCA, classifier')"
   ]
  },
  {
   "cell_type": "code",
   "execution_count": 220,
   "id": "11add9fe",
   "metadata": {},
   "outputs": [],
   "source": [
    "# RandomForest\n",
    "rf_model = RandomForestClassifier(n_estimators = 150)\n",
    "rf_model.fit(x_train_norm_PCA, y_train)\n",
    "y_pred_rf_PCA = rf_model.predict(x_test_norm_PCA)"
   ]
  },
  {
   "cell_type": "code",
   "execution_count": 221,
   "id": "6d37df5a",
   "metadata": {},
   "outputs": [
    {
     "data": {
      "text/plain": [
       "array([[4349,  887],\n",
       "       [1188, 3964]], dtype=int64)"
      ]
     },
     "execution_count": 221,
     "metadata": {},
     "output_type": "execute_result"
    }
   ],
   "source": [
    "confusion_matrix(y_test, y_pred_rf_PCA)"
   ]
  },
  {
   "cell_type": "code",
   "execution_count": 222,
   "id": "81cb4161",
   "metadata": {},
   "outputs": [
    {
     "name": "stdout",
     "output_type": "stream",
     "text": [
      "              precision    recall  f1-score   support\n",
      "\n",
      "           0       0.79      0.83      0.81      5236\n",
      "           1       0.82      0.77      0.79      5152\n",
      "\n",
      "    accuracy                           0.80     10388\n",
      "   macro avg       0.80      0.80      0.80     10388\n",
      "weighted avg       0.80      0.80      0.80     10388\n",
      "\n"
     ]
    }
   ],
   "source": [
    "print(classification_report(y_test, y_pred_rf_PCA))"
   ]
  },
  {
   "cell_type": "code",
   "execution_count": 224,
   "id": "c69aa793",
   "metadata": {},
   "outputs": [
    {
     "name": "stdout",
     "output_type": "stream",
     "text": [
      "No Skill: ROC AUC=0.500\n",
      "RF PCA, classifier ROC AUC=0.774\n"
     ]
    },
    {
     "data": {
      "image/png": "[encoded data removed]",
      "text/plain": [
       "<Figure size 864x288 with 1 Axes>"
      ]
     },
     "metadata": {
      "needs_background": "light"
     },
     "output_type": "display_data"
    }
   ],
   "source": [
    "# Probability\n",
    "rf_pca_proba = decision_tree_model.predict_proba(x_test_norm_PCA)\n",
    "\n",
    "# ROC Curve\n",
    "plot_ROC(rf_pca_proba, y_test, 'RF PCA, classifier')"
   ]
  },
  {
   "cell_type": "code",
   "execution_count": 225,
   "id": "694312b6",
   "metadata": {},
   "outputs": [
    {
     "name": "stderr",
     "output_type": "stream",
     "text": [
      "C:\\Users\\Marcin\\Anaconda3\\lib\\site-packages\\xgboost\\sklearn.py:892: UserWarning: The use of label encoder in XGBClassifier is deprecated and will be removed in a future release. To remove this warning, do the following: 1) Pass option use_label_encoder=False when constructing XGBClassifier object; and 2) Encode your labels (y) as integers starting with 0, i.e. 0, 1, 2, ..., [num_class - 1].\n",
      "  warnings.warn(label_encoder_deprecation_msg, UserWarning)\n"
     ]
    },
    {
     "name": "stdout",
     "output_type": "stream",
     "text": [
      "[01:58:51] WARNING: C:/Users/Administrator/workspace/xgboost-win64_release_1.3.0/src/learner.cc:1061: Starting in XGBoost 1.3.0, the default evaluation metric used with the objective 'binary:logistic' was changed from 'error' to 'logloss'. Explicitly set eval_metric if you'd like to restore the old behavior.\n"
     ]
    }
   ],
   "source": [
    "#XGBC\n",
    "xgboost_c = xgboost.XGBClassifier()\n",
    "xgboost_c.fit(x_train_norm_PCA, y_train)\n",
    "y_xgb_pred_PCA = xgboost_c.predict(x_test_norm_PCA)"
   ]
  },
  {
   "cell_type": "code",
   "execution_count": 226,
   "id": "4ee4e1f4",
   "metadata": {},
   "outputs": [
    {
     "data": {
      "text/plain": [
       "array([[4335,  901],\n",
       "       [1063, 4089]], dtype=int64)"
      ]
     },
     "execution_count": 226,
     "metadata": {},
     "output_type": "execute_result"
    }
   ],
   "source": [
    "confusion_matrix(y_test, y_xgb_pred_PCA)"
   ]
  },
  {
   "cell_type": "code",
   "execution_count": 227,
   "id": "a4c541c6",
   "metadata": {},
   "outputs": [
    {
     "name": "stdout",
     "output_type": "stream",
     "text": [
      "              precision    recall  f1-score   support\n",
      "\n",
      "           0       0.80      0.83      0.82      5236\n",
      "           1       0.82      0.79      0.81      5152\n",
      "\n",
      "    accuracy                           0.81     10388\n",
      "   macro avg       0.81      0.81      0.81     10388\n",
      "weighted avg       0.81      0.81      0.81     10388\n",
      "\n"
     ]
    }
   ],
   "source": [
    "print(classification_report(y_test, y_xgb_pred_PCA))"
   ]
  },
  {
   "cell_type": "code",
   "execution_count": 229,
   "id": "ee082023",
   "metadata": {},
   "outputs": [
    {
     "name": "stdout",
     "output_type": "stream",
     "text": [
      "No Skill: ROC AUC=0.500\n",
      "XGB PCA, classifier ROC AUC=0.884\n"
     ]
    },
    {
     "data": {
      "image/png": "[encoded data removed]",
      "text/plain": [
       "<Figure size 864x288 with 1 Axes>"
      ]
     },
     "metadata": {
      "needs_background": "light"
     },
     "output_type": "display_data"
    }
   ],
   "source": [
    "# Probability\n",
    "xgb_pca_proba = xgboost_c.predict_proba(x_test_norm_PCA)\n",
    "\n",
    "# ROC Curve\n",
    "plot_ROC(xgb_pca_proba, y_test, 'XGB PCA, classifier')"
   ]
  }
 ],
 "metadata": {
  "kernelspec": {
   "display_name": "Python 3 (ipykernel)",
   "language": "python",
   "name": "python3"
  },
  "language_info": {
   "codemirror_mode": {
    "name": "ipython",
    "version": 3
   },
   "file_extension": ".py",
   "mimetype": "text/x-python",
   "name": "python",
   "nbconvert_exporter": "python",
   "pygments_lexer": "ipython3",
   "version": "3.10.9"
  }
 },
 "nbformat": 4,
 "nbformat_minor": 5
}
