{
 "cells": [
  {
   "cell_type": "code",
   "execution_count": 326,
   "id": "ba3c3469",
   "metadata": {},
   "outputs": [],
   "source": [
    "import pandas as pd\n",
    "import numpy as np\n",
    "import matplotlib.pyplot as plt\n",
    "import seaborn as sns"
   ]
  },
  {
   "cell_type": "code",
   "execution_count": 327,
   "id": "dd277a06",
   "metadata": {},
   "outputs": [],
   "source": [
    "df2019 = pd.read_csv('survey_results_public2019.csv')"
   ]
  },
  {
   "cell_type": "code",
   "execution_count": 328,
   "id": "556823f3",
   "metadata": {},
   "outputs": [
    {
     "data": {
      "text/html": [
       "<div>\n",
       "<style scoped>\n",
       "    .dataframe tbody tr th:only-of-type {\n",
       "        vertical-align: middle;\n",
       "    }\n",
       "\n",
       "    .dataframe tbody tr th {\n",
       "        vertical-align: top;\n",
       "    }\n",
       "\n",
       "    .dataframe thead th {\n",
       "        text-align: right;\n",
       "    }\n",
       "</style>\n",
       "<table border=\"1\" class=\"dataframe\">\n",
       "  <thead>\n",
       "    <tr style=\"text-align: right;\">\n",
       "      <th></th>\n",
       "      <th>Respondent</th>\n",
       "      <th>MainBranch</th>\n",
       "      <th>Hobbyist</th>\n",
       "      <th>OpenSourcer</th>\n",
       "      <th>OpenSource</th>\n",
       "      <th>Employment</th>\n",
       "      <th>Country</th>\n",
       "      <th>Student</th>\n",
       "      <th>EdLevel</th>\n",
       "      <th>UndergradMajor</th>\n",
       "      <th>...</th>\n",
       "      <th>WelcomeChange</th>\n",
       "      <th>SONewContent</th>\n",
       "      <th>Age</th>\n",
       "      <th>Gender</th>\n",
       "      <th>Trans</th>\n",
       "      <th>Sexuality</th>\n",
       "      <th>Ethnicity</th>\n",
       "      <th>Dependents</th>\n",
       "      <th>SurveyLength</th>\n",
       "      <th>SurveyEase</th>\n",
       "    </tr>\n",
       "  </thead>\n",
       "  <tbody>\n",
       "    <tr>\n",
       "      <th>0</th>\n",
       "      <td>1</td>\n",
       "      <td>I am a student who is learning to code</td>\n",
       "      <td>Yes</td>\n",
       "      <td>Never</td>\n",
       "      <td>The quality of OSS and closed source software ...</td>\n",
       "      <td>Not employed, and not looking for work</td>\n",
       "      <td>United Kingdom</td>\n",
       "      <td>No</td>\n",
       "      <td>Primary/elementary school</td>\n",
       "      <td>NaN</td>\n",
       "      <td>...</td>\n",
       "      <td>Just as welcome now as I felt last year</td>\n",
       "      <td>Tech articles written by other developers;Indu...</td>\n",
       "      <td>14.0</td>\n",
       "      <td>Man</td>\n",
       "      <td>No</td>\n",
       "      <td>Straight / Heterosexual</td>\n",
       "      <td>NaN</td>\n",
       "      <td>No</td>\n",
       "      <td>Appropriate in length</td>\n",
       "      <td>Neither easy nor difficult</td>\n",
       "    </tr>\n",
       "    <tr>\n",
       "      <th>1</th>\n",
       "      <td>2</td>\n",
       "      <td>I am a student who is learning to code</td>\n",
       "      <td>No</td>\n",
       "      <td>Less than once per year</td>\n",
       "      <td>The quality of OSS and closed source software ...</td>\n",
       "      <td>Not employed, but looking for work</td>\n",
       "      <td>Bosnia and Herzegovina</td>\n",
       "      <td>Yes, full-time</td>\n",
       "      <td>Secondary school (e.g. American high school, G...</td>\n",
       "      <td>NaN</td>\n",
       "      <td>...</td>\n",
       "      <td>Just as welcome now as I felt last year</td>\n",
       "      <td>Tech articles written by other developers;Indu...</td>\n",
       "      <td>19.0</td>\n",
       "      <td>Man</td>\n",
       "      <td>No</td>\n",
       "      <td>Straight / Heterosexual</td>\n",
       "      <td>NaN</td>\n",
       "      <td>No</td>\n",
       "      <td>Appropriate in length</td>\n",
       "      <td>Neither easy nor difficult</td>\n",
       "    </tr>\n",
       "    <tr>\n",
       "      <th>2</th>\n",
       "      <td>3</td>\n",
       "      <td>I am not primarily a developer, but I write co...</td>\n",
       "      <td>Yes</td>\n",
       "      <td>Never</td>\n",
       "      <td>The quality of OSS and closed source software ...</td>\n",
       "      <td>Employed full-time</td>\n",
       "      <td>Thailand</td>\n",
       "      <td>No</td>\n",
       "      <td>Bachelor’s degree (BA, BS, B.Eng., etc.)</td>\n",
       "      <td>Web development or web design</td>\n",
       "      <td>...</td>\n",
       "      <td>Just as welcome now as I felt last year</td>\n",
       "      <td>Tech meetups or events in your area;Courses on...</td>\n",
       "      <td>28.0</td>\n",
       "      <td>Man</td>\n",
       "      <td>No</td>\n",
       "      <td>Straight / Heterosexual</td>\n",
       "      <td>NaN</td>\n",
       "      <td>Yes</td>\n",
       "      <td>Appropriate in length</td>\n",
       "      <td>Neither easy nor difficult</td>\n",
       "    </tr>\n",
       "    <tr>\n",
       "      <th>3</th>\n",
       "      <td>4</td>\n",
       "      <td>I am a developer by profession</td>\n",
       "      <td>No</td>\n",
       "      <td>Never</td>\n",
       "      <td>The quality of OSS and closed source software ...</td>\n",
       "      <td>Employed full-time</td>\n",
       "      <td>United States</td>\n",
       "      <td>No</td>\n",
       "      <td>Bachelor’s degree (BA, BS, B.Eng., etc.)</td>\n",
       "      <td>Computer science, computer engineering, or sof...</td>\n",
       "      <td>...</td>\n",
       "      <td>Just as welcome now as I felt last year</td>\n",
       "      <td>Tech articles written by other developers;Indu...</td>\n",
       "      <td>22.0</td>\n",
       "      <td>Man</td>\n",
       "      <td>No</td>\n",
       "      <td>Straight / Heterosexual</td>\n",
       "      <td>White or of European descent</td>\n",
       "      <td>No</td>\n",
       "      <td>Appropriate in length</td>\n",
       "      <td>Easy</td>\n",
       "    </tr>\n",
       "    <tr>\n",
       "      <th>4</th>\n",
       "      <td>5</td>\n",
       "      <td>I am a developer by profession</td>\n",
       "      <td>Yes</td>\n",
       "      <td>Once a month or more often</td>\n",
       "      <td>OSS is, on average, of HIGHER quality than pro...</td>\n",
       "      <td>Employed full-time</td>\n",
       "      <td>Ukraine</td>\n",
       "      <td>No</td>\n",
       "      <td>Bachelor’s degree (BA, BS, B.Eng., etc.)</td>\n",
       "      <td>Computer science, computer engineering, or sof...</td>\n",
       "      <td>...</td>\n",
       "      <td>Just as welcome now as I felt last year</td>\n",
       "      <td>Tech meetups or events in your area;Courses on...</td>\n",
       "      <td>30.0</td>\n",
       "      <td>Man</td>\n",
       "      <td>No</td>\n",
       "      <td>Straight / Heterosexual</td>\n",
       "      <td>White or of European descent;Multiracial</td>\n",
       "      <td>No</td>\n",
       "      <td>Appropriate in length</td>\n",
       "      <td>Easy</td>\n",
       "    </tr>\n",
       "  </tbody>\n",
       "</table>\n",
       "<p>5 rows × 85 columns</p>\n",
       "</div>"
      ],
      "text/plain": [
       "   Respondent                                         MainBranch Hobbyist  \\\n",
       "0           1             I am a student who is learning to code      Yes   \n",
       "1           2             I am a student who is learning to code       No   \n",
       "2           3  I am not primarily a developer, but I write co...      Yes   \n",
       "3           4                     I am a developer by profession       No   \n",
       "4           5                     I am a developer by profession      Yes   \n",
       "\n",
       "                  OpenSourcer  \\\n",
       "0                       Never   \n",
       "1     Less than once per year   \n",
       "2                       Never   \n",
       "3                       Never   \n",
       "4  Once a month or more often   \n",
       "\n",
       "                                          OpenSource  \\\n",
       "0  The quality of OSS and closed source software ...   \n",
       "1  The quality of OSS and closed source software ...   \n",
       "2  The quality of OSS and closed source software ...   \n",
       "3  The quality of OSS and closed source software ...   \n",
       "4  OSS is, on average, of HIGHER quality than pro...   \n",
       "\n",
       "                               Employment                 Country  \\\n",
       "0  Not employed, and not looking for work          United Kingdom   \n",
       "1      Not employed, but looking for work  Bosnia and Herzegovina   \n",
       "2                      Employed full-time                Thailand   \n",
       "3                      Employed full-time           United States   \n",
       "4                      Employed full-time                 Ukraine   \n",
       "\n",
       "          Student                                            EdLevel  \\\n",
       "0              No                          Primary/elementary school   \n",
       "1  Yes, full-time  Secondary school (e.g. American high school, G...   \n",
       "2              No           Bachelor’s degree (BA, BS, B.Eng., etc.)   \n",
       "3              No           Bachelor’s degree (BA, BS, B.Eng., etc.)   \n",
       "4              No           Bachelor’s degree (BA, BS, B.Eng., etc.)   \n",
       "\n",
       "                                      UndergradMajor  ...  \\\n",
       "0                                                NaN  ...   \n",
       "1                                                NaN  ...   \n",
       "2                      Web development or web design  ...   \n",
       "3  Computer science, computer engineering, or sof...  ...   \n",
       "4  Computer science, computer engineering, or sof...  ...   \n",
       "\n",
       "                             WelcomeChange  \\\n",
       "0  Just as welcome now as I felt last year   \n",
       "1  Just as welcome now as I felt last year   \n",
       "2  Just as welcome now as I felt last year   \n",
       "3  Just as welcome now as I felt last year   \n",
       "4  Just as welcome now as I felt last year   \n",
       "\n",
       "                                        SONewContent   Age Gender Trans  \\\n",
       "0  Tech articles written by other developers;Indu...  14.0    Man    No   \n",
       "1  Tech articles written by other developers;Indu...  19.0    Man    No   \n",
       "2  Tech meetups or events in your area;Courses on...  28.0    Man    No   \n",
       "3  Tech articles written by other developers;Indu...  22.0    Man    No   \n",
       "4  Tech meetups or events in your area;Courses on...  30.0    Man    No   \n",
       "\n",
       "                 Sexuality                                 Ethnicity  \\\n",
       "0  Straight / Heterosexual                                       NaN   \n",
       "1  Straight / Heterosexual                                       NaN   \n",
       "2  Straight / Heterosexual                                       NaN   \n",
       "3  Straight / Heterosexual              White or of European descent   \n",
       "4  Straight / Heterosexual  White or of European descent;Multiracial   \n",
       "\n",
       "  Dependents           SurveyLength                  SurveyEase  \n",
       "0         No  Appropriate in length  Neither easy nor difficult  \n",
       "1         No  Appropriate in length  Neither easy nor difficult  \n",
       "2        Yes  Appropriate in length  Neither easy nor difficult  \n",
       "3         No  Appropriate in length                        Easy  \n",
       "4         No  Appropriate in length                        Easy  \n",
       "\n",
       "[5 rows x 85 columns]"
      ]
     },
     "execution_count": 328,
     "metadata": {},
     "output_type": "execute_result"
    }
   ],
   "source": [
    "df2019.head()"
   ]
  },
  {
   "cell_type": "code",
   "execution_count": 329,
   "id": "dcd31556",
   "metadata": {},
   "outputs": [
    {
     "name": "stdout",
     "output_type": "stream",
     "text": [
      "Index(['Respondent', 'MainBranch', 'Hobbyist', 'OpenSourcer', 'OpenSource',\n",
      "       'Employment', 'Country', 'Student', 'EdLevel', 'UndergradMajor',\n",
      "       'EduOther', 'OrgSize', 'DevType', 'YearsCode', 'Age1stCode',\n",
      "       'YearsCodePro', 'CareerSat', 'JobSat', 'MgrIdiot', 'MgrMoney',\n",
      "       'MgrWant', 'JobSeek', 'LastHireDate', 'LastInt', 'FizzBuzz',\n",
      "       'JobFactors', 'ResumeUpdate', 'CurrencySymbol', 'CurrencyDesc',\n",
      "       'CompTotal', 'CompFreq', 'ConvertedComp', 'WorkWeekHrs', 'WorkPlan',\n",
      "       'WorkChallenge', 'WorkRemote', 'WorkLoc', 'ImpSyn', 'CodeRev',\n",
      "       'CodeRevHrs', 'UnitTests', 'PurchaseHow', 'PurchaseWhat',\n",
      "       'LanguageWorkedWith', 'LanguageDesireNextYear', 'DatabaseWorkedWith',\n",
      "       'DatabaseDesireNextYear', 'PlatformWorkedWith',\n",
      "       'PlatformDesireNextYear', 'WebFrameWorkedWith',\n",
      "       'WebFrameDesireNextYear', 'MiscTechWorkedWith',\n",
      "       'MiscTechDesireNextYear', 'DevEnviron', 'OpSys', 'Containers',\n",
      "       'BlockchainOrg', 'BlockchainIs', 'BetterLife', 'ITperson', 'OffOn',\n",
      "       'SocialMedia', 'Extraversion', 'ScreenName', 'SOVisit1st',\n",
      "       'SOVisitFreq', 'SOVisitTo', 'SOFindAnswer', 'SOTimeSaved',\n",
      "       'SOHowMuchTime', 'SOAccount', 'SOPartFreq', 'SOJobs', 'EntTeams',\n",
      "       'SOComm', 'WelcomeChange', 'SONewContent', 'Age', 'Gender', 'Trans',\n",
      "       'Sexuality', 'Ethnicity', 'Dependents', 'SurveyLength', 'SurveyEase'],\n",
      "      dtype='object')\n"
     ]
    }
   ],
   "source": [
    "col2019 = df2019.columns\n",
    "print(col2019)"
   ]
  },
  {
   "cell_type": "code",
   "execution_count": 330,
   "id": "cba002b5",
   "metadata": {},
   "outputs": [],
   "source": [
    "df2020 = pd.read_csv('survey_results_public2020.csv')"
   ]
  },
  {
   "cell_type": "code",
   "execution_count": 331,
   "id": "0460c00b",
   "metadata": {},
   "outputs": [
    {
     "name": "stdout",
     "output_type": "stream",
     "text": [
      "Index(['Respondent', 'MainBranch', 'Hobbyist', 'Age', 'Age1stCode', 'CompFreq',\n",
      "       'CompTotal', 'ConvertedComp', 'Country', 'CurrencyDesc',\n",
      "       'CurrencySymbol', 'DatabaseDesireNextYear', 'DatabaseWorkedWith',\n",
      "       'DevType', 'EdLevel', 'Employment', 'Ethnicity', 'Gender', 'JobFactors',\n",
      "       'JobSat', 'JobSeek', 'LanguageDesireNextYear', 'LanguageWorkedWith',\n",
      "       'MiscTechDesireNextYear', 'MiscTechWorkedWith',\n",
      "       'NEWCollabToolsDesireNextYear', 'NEWCollabToolsWorkedWith', 'NEWDevOps',\n",
      "       'NEWDevOpsImpt', 'NEWEdImpt', 'NEWJobHunt', 'NEWJobHuntResearch',\n",
      "       'NEWLearn', 'NEWOffTopic', 'NEWOnboardGood', 'NEWOtherComms',\n",
      "       'NEWOvertime', 'NEWPurchaseResearch', 'NEWPurpleLink', 'NEWSOSites',\n",
      "       'NEWStuck', 'OpSys', 'OrgSize', 'PlatformDesireNextYear',\n",
      "       'PlatformWorkedWith', 'PurchaseWhat', 'Sexuality', 'SOAccount',\n",
      "       'SOComm', 'SOPartFreq', 'SOVisitFreq', 'SurveyEase', 'SurveyLength',\n",
      "       'Trans', 'UndergradMajor', 'WebframeDesireNextYear',\n",
      "       'WebframeWorkedWith', 'WelcomeChange', 'WorkWeekHrs', 'YearsCode',\n",
      "       'YearsCodePro'],\n",
      "      dtype='object')\n"
     ]
    }
   ],
   "source": [
    "col2020 = df2020.columns\n",
    "print(col2020)"
   ]
  },
  {
   "cell_type": "code",
   "execution_count": 332,
   "id": "c1f972d2",
   "metadata": {},
   "outputs": [
    {
     "data": {
      "text/plain": [
       "61"
      ]
     },
     "execution_count": 332,
     "metadata": {},
     "output_type": "execute_result"
    }
   ],
   "source": [
    "len(col2020)"
   ]
  },
  {
   "cell_type": "code",
   "execution_count": 333,
   "id": "b0c6e61f",
   "metadata": {},
   "outputs": [
    {
     "data": {
      "text/plain": [
       "85"
      ]
     },
     "execution_count": 333,
     "metadata": {},
     "output_type": "execute_result"
    }
   ],
   "source": [
    "len(col2019)"
   ]
  },
  {
   "cell_type": "code",
   "execution_count": 334,
   "id": "c1d77e15",
   "metadata": {},
   "outputs": [],
   "source": [
    "# Look which columns are the same for 2019 and 2020\n",
    "same_cols = []\n",
    "\n",
    "for col in col2019:\n",
    "    if(col in col2020):\n",
    "        same_cols.append(col)"
   ]
  },
  {
   "cell_type": "code",
   "execution_count": 335,
   "id": "08940430",
   "metadata": {},
   "outputs": [
    {
     "data": {
      "text/plain": [
       "['Respondent',\n",
       " 'MainBranch',\n",
       " 'Hobbyist',\n",
       " 'Employment',\n",
       " 'Country',\n",
       " 'EdLevel',\n",
       " 'UndergradMajor',\n",
       " 'OrgSize',\n",
       " 'DevType',\n",
       " 'YearsCode',\n",
       " 'Age1stCode',\n",
       " 'YearsCodePro',\n",
       " 'JobSat',\n",
       " 'JobSeek',\n",
       " 'JobFactors',\n",
       " 'CurrencySymbol',\n",
       " 'CurrencyDesc',\n",
       " 'CompTotal',\n",
       " 'CompFreq',\n",
       " 'ConvertedComp',\n",
       " 'WorkWeekHrs',\n",
       " 'PurchaseWhat',\n",
       " 'LanguageWorkedWith',\n",
       " 'LanguageDesireNextYear',\n",
       " 'DatabaseWorkedWith',\n",
       " 'DatabaseDesireNextYear',\n",
       " 'PlatformWorkedWith',\n",
       " 'PlatformDesireNextYear',\n",
       " 'MiscTechWorkedWith',\n",
       " 'MiscTechDesireNextYear',\n",
       " 'OpSys',\n",
       " 'SOVisitFreq',\n",
       " 'SOAccount',\n",
       " 'SOPartFreq',\n",
       " 'SOComm',\n",
       " 'WelcomeChange',\n",
       " 'Age',\n",
       " 'Gender',\n",
       " 'Trans',\n",
       " 'Sexuality',\n",
       " 'Ethnicity',\n",
       " 'SurveyLength',\n",
       " 'SurveyEase']"
      ]
     },
     "execution_count": 335,
     "metadata": {},
     "output_type": "execute_result"
    }
   ],
   "source": [
    "same_cols"
   ]
  },
  {
   "cell_type": "code",
   "execution_count": 336,
   "id": "6f1cb072",
   "metadata": {},
   "outputs": [
    {
     "data": {
      "text/plain": [
       "43"
      ]
     },
     "execution_count": 336,
     "metadata": {},
     "output_type": "execute_result"
    }
   ],
   "source": [
    "len(same_cols)"
   ]
  },
  {
   "cell_type": "code",
   "execution_count": 337,
   "id": "19a2aefc",
   "metadata": {},
   "outputs": [],
   "source": [
    "# Merge two dataframes"
   ]
  },
  {
   "cell_type": "code",
   "execution_count": 338,
   "id": "8e9d8a5b",
   "metadata": {},
   "outputs": [],
   "source": [
    "df_2019_subset = df2019[same_cols]"
   ]
  },
  {
   "cell_type": "code",
   "execution_count": 339,
   "id": "46681ff6",
   "metadata": {},
   "outputs": [],
   "source": [
    "df_2020_subset = df2020[same_cols]"
   ]
  },
  {
   "cell_type": "code",
   "execution_count": 340,
   "id": "554faa77",
   "metadata": {},
   "outputs": [],
   "source": [
    "frames = [df_2019_subset, df_2020_subset]"
   ]
  },
  {
   "cell_type": "code",
   "execution_count": 341,
   "id": "f3af4818",
   "metadata": {},
   "outputs": [],
   "source": [
    "df = pd.concat(frames)"
   ]
  },
  {
   "cell_type": "code",
   "execution_count": 342,
   "id": "9f12fe3a",
   "metadata": {},
   "outputs": [
    {
     "data": {
      "text/html": [
       "<div>\n",
       "<style scoped>\n",
       "    .dataframe tbody tr th:only-of-type {\n",
       "        vertical-align: middle;\n",
       "    }\n",
       "\n",
       "    .dataframe tbody tr th {\n",
       "        vertical-align: top;\n",
       "    }\n",
       "\n",
       "    .dataframe thead th {\n",
       "        text-align: right;\n",
       "    }\n",
       "</style>\n",
       "<table border=\"1\" class=\"dataframe\">\n",
       "  <thead>\n",
       "    <tr style=\"text-align: right;\">\n",
       "      <th></th>\n",
       "      <th>Respondent</th>\n",
       "      <th>MainBranch</th>\n",
       "      <th>Hobbyist</th>\n",
       "      <th>Employment</th>\n",
       "      <th>Country</th>\n",
       "      <th>EdLevel</th>\n",
       "      <th>UndergradMajor</th>\n",
       "      <th>OrgSize</th>\n",
       "      <th>DevType</th>\n",
       "      <th>YearsCode</th>\n",
       "      <th>...</th>\n",
       "      <th>SOPartFreq</th>\n",
       "      <th>SOComm</th>\n",
       "      <th>WelcomeChange</th>\n",
       "      <th>Age</th>\n",
       "      <th>Gender</th>\n",
       "      <th>Trans</th>\n",
       "      <th>Sexuality</th>\n",
       "      <th>Ethnicity</th>\n",
       "      <th>SurveyLength</th>\n",
       "      <th>SurveyEase</th>\n",
       "    </tr>\n",
       "  </thead>\n",
       "  <tbody>\n",
       "    <tr>\n",
       "      <th>0</th>\n",
       "      <td>1</td>\n",
       "      <td>I am a student who is learning to code</td>\n",
       "      <td>Yes</td>\n",
       "      <td>Not employed, and not looking for work</td>\n",
       "      <td>United Kingdom</td>\n",
       "      <td>Primary/elementary school</td>\n",
       "      <td>NaN</td>\n",
       "      <td>NaN</td>\n",
       "      <td>NaN</td>\n",
       "      <td>4</td>\n",
       "      <td>...</td>\n",
       "      <td>NaN</td>\n",
       "      <td>Neutral</td>\n",
       "      <td>Just as welcome now as I felt last year</td>\n",
       "      <td>14.0</td>\n",
       "      <td>Man</td>\n",
       "      <td>No</td>\n",
       "      <td>Straight / Heterosexual</td>\n",
       "      <td>NaN</td>\n",
       "      <td>Appropriate in length</td>\n",
       "      <td>Neither easy nor difficult</td>\n",
       "    </tr>\n",
       "    <tr>\n",
       "      <th>1</th>\n",
       "      <td>2</td>\n",
       "      <td>I am a student who is learning to code</td>\n",
       "      <td>No</td>\n",
       "      <td>Not employed, but looking for work</td>\n",
       "      <td>Bosnia and Herzegovina</td>\n",
       "      <td>Secondary school (e.g. American high school, G...</td>\n",
       "      <td>NaN</td>\n",
       "      <td>NaN</td>\n",
       "      <td>Developer, desktop or enterprise applications;...</td>\n",
       "      <td>NaN</td>\n",
       "      <td>...</td>\n",
       "      <td>A few times per month or weekly</td>\n",
       "      <td>Yes, somewhat</td>\n",
       "      <td>Just as welcome now as I felt last year</td>\n",
       "      <td>19.0</td>\n",
       "      <td>Man</td>\n",
       "      <td>No</td>\n",
       "      <td>Straight / Heterosexual</td>\n",
       "      <td>NaN</td>\n",
       "      <td>Appropriate in length</td>\n",
       "      <td>Neither easy nor difficult</td>\n",
       "    </tr>\n",
       "    <tr>\n",
       "      <th>2</th>\n",
       "      <td>3</td>\n",
       "      <td>I am not primarily a developer, but I write co...</td>\n",
       "      <td>Yes</td>\n",
       "      <td>Employed full-time</td>\n",
       "      <td>Thailand</td>\n",
       "      <td>Bachelor’s degree (BA, BS, B.Eng., etc.)</td>\n",
       "      <td>Web development or web design</td>\n",
       "      <td>100 to 499 employees</td>\n",
       "      <td>Designer;Developer, back-end;Developer, front-...</td>\n",
       "      <td>3</td>\n",
       "      <td>...</td>\n",
       "      <td>Less than once per month or monthly</td>\n",
       "      <td>Neutral</td>\n",
       "      <td>Just as welcome now as I felt last year</td>\n",
       "      <td>28.0</td>\n",
       "      <td>Man</td>\n",
       "      <td>No</td>\n",
       "      <td>Straight / Heterosexual</td>\n",
       "      <td>NaN</td>\n",
       "      <td>Appropriate in length</td>\n",
       "      <td>Neither easy nor difficult</td>\n",
       "    </tr>\n",
       "    <tr>\n",
       "      <th>3</th>\n",
       "      <td>4</td>\n",
       "      <td>I am a developer by profession</td>\n",
       "      <td>No</td>\n",
       "      <td>Employed full-time</td>\n",
       "      <td>United States</td>\n",
       "      <td>Bachelor’s degree (BA, BS, B.Eng., etc.)</td>\n",
       "      <td>Computer science, computer engineering, or sof...</td>\n",
       "      <td>100 to 499 employees</td>\n",
       "      <td>Developer, full-stack</td>\n",
       "      <td>3</td>\n",
       "      <td>...</td>\n",
       "      <td>Less than once per month or monthly</td>\n",
       "      <td>No, not really</td>\n",
       "      <td>Just as welcome now as I felt last year</td>\n",
       "      <td>22.0</td>\n",
       "      <td>Man</td>\n",
       "      <td>No</td>\n",
       "      <td>Straight / Heterosexual</td>\n",
       "      <td>White or of European descent</td>\n",
       "      <td>Appropriate in length</td>\n",
       "      <td>Easy</td>\n",
       "    </tr>\n",
       "    <tr>\n",
       "      <th>4</th>\n",
       "      <td>5</td>\n",
       "      <td>I am a developer by profession</td>\n",
       "      <td>Yes</td>\n",
       "      <td>Employed full-time</td>\n",
       "      <td>Ukraine</td>\n",
       "      <td>Bachelor’s degree (BA, BS, B.Eng., etc.)</td>\n",
       "      <td>Computer science, computer engineering, or sof...</td>\n",
       "      <td>10,000 or more employees</td>\n",
       "      <td>Academic researcher;Developer, desktop or ente...</td>\n",
       "      <td>16</td>\n",
       "      <td>...</td>\n",
       "      <td>A few times per month or weekly</td>\n",
       "      <td>Yes, definitely</td>\n",
       "      <td>Just as welcome now as I felt last year</td>\n",
       "      <td>30.0</td>\n",
       "      <td>Man</td>\n",
       "      <td>No</td>\n",
       "      <td>Straight / Heterosexual</td>\n",
       "      <td>White or of European descent;Multiracial</td>\n",
       "      <td>Appropriate in length</td>\n",
       "      <td>Easy</td>\n",
       "    </tr>\n",
       "    <tr>\n",
       "      <th>...</th>\n",
       "      <td>...</td>\n",
       "      <td>...</td>\n",
       "      <td>...</td>\n",
       "      <td>...</td>\n",
       "      <td>...</td>\n",
       "      <td>...</td>\n",
       "      <td>...</td>\n",
       "      <td>...</td>\n",
       "      <td>...</td>\n",
       "      <td>...</td>\n",
       "      <td>...</td>\n",
       "      <td>...</td>\n",
       "      <td>...</td>\n",
       "      <td>...</td>\n",
       "      <td>...</td>\n",
       "      <td>...</td>\n",
       "      <td>...</td>\n",
       "      <td>...</td>\n",
       "      <td>...</td>\n",
       "      <td>...</td>\n",
       "      <td>...</td>\n",
       "    </tr>\n",
       "    <tr>\n",
       "      <th>64456</th>\n",
       "      <td>64858</td>\n",
       "      <td>NaN</td>\n",
       "      <td>Yes</td>\n",
       "      <td>Employed full-time</td>\n",
       "      <td>United States</td>\n",
       "      <td>Master’s degree (M.A., M.S., M.Eng., MBA, etc.)</td>\n",
       "      <td>Computer science, computer engineering, or sof...</td>\n",
       "      <td>NaN</td>\n",
       "      <td>Senior executive/VP</td>\n",
       "      <td>10</td>\n",
       "      <td>...</td>\n",
       "      <td>NaN</td>\n",
       "      <td>NaN</td>\n",
       "      <td>NaN</td>\n",
       "      <td>NaN</td>\n",
       "      <td>NaN</td>\n",
       "      <td>NaN</td>\n",
       "      <td>NaN</td>\n",
       "      <td>NaN</td>\n",
       "      <td>NaN</td>\n",
       "      <td>NaN</td>\n",
       "    </tr>\n",
       "    <tr>\n",
       "      <th>64457</th>\n",
       "      <td>64867</td>\n",
       "      <td>NaN</td>\n",
       "      <td>Yes</td>\n",
       "      <td>Employed full-time</td>\n",
       "      <td>Morocco</td>\n",
       "      <td>NaN</td>\n",
       "      <td>NaN</td>\n",
       "      <td>NaN</td>\n",
       "      <td>NaN</td>\n",
       "      <td>NaN</td>\n",
       "      <td>...</td>\n",
       "      <td>NaN</td>\n",
       "      <td>NaN</td>\n",
       "      <td>NaN</td>\n",
       "      <td>NaN</td>\n",
       "      <td>NaN</td>\n",
       "      <td>NaN</td>\n",
       "      <td>NaN</td>\n",
       "      <td>NaN</td>\n",
       "      <td>NaN</td>\n",
       "      <td>NaN</td>\n",
       "    </tr>\n",
       "    <tr>\n",
       "      <th>64458</th>\n",
       "      <td>64898</td>\n",
       "      <td>NaN</td>\n",
       "      <td>Yes</td>\n",
       "      <td>NaN</td>\n",
       "      <td>Viet Nam</td>\n",
       "      <td>Primary/elementary school</td>\n",
       "      <td>NaN</td>\n",
       "      <td>NaN</td>\n",
       "      <td>NaN</td>\n",
       "      <td>NaN</td>\n",
       "      <td>...</td>\n",
       "      <td>NaN</td>\n",
       "      <td>NaN</td>\n",
       "      <td>NaN</td>\n",
       "      <td>NaN</td>\n",
       "      <td>NaN</td>\n",
       "      <td>NaN</td>\n",
       "      <td>NaN</td>\n",
       "      <td>NaN</td>\n",
       "      <td>NaN</td>\n",
       "      <td>NaN</td>\n",
       "    </tr>\n",
       "    <tr>\n",
       "      <th>64459</th>\n",
       "      <td>64925</td>\n",
       "      <td>NaN</td>\n",
       "      <td>Yes</td>\n",
       "      <td>Employed full-time</td>\n",
       "      <td>Poland</td>\n",
       "      <td>NaN</td>\n",
       "      <td>NaN</td>\n",
       "      <td>NaN</td>\n",
       "      <td>NaN</td>\n",
       "      <td>NaN</td>\n",
       "      <td>...</td>\n",
       "      <td>NaN</td>\n",
       "      <td>NaN</td>\n",
       "      <td>NaN</td>\n",
       "      <td>NaN</td>\n",
       "      <td>NaN</td>\n",
       "      <td>NaN</td>\n",
       "      <td>NaN</td>\n",
       "      <td>NaN</td>\n",
       "      <td>NaN</td>\n",
       "      <td>NaN</td>\n",
       "    </tr>\n",
       "    <tr>\n",
       "      <th>64460</th>\n",
       "      <td>65112</td>\n",
       "      <td>NaN</td>\n",
       "      <td>Yes</td>\n",
       "      <td>Employed full-time</td>\n",
       "      <td>Spain</td>\n",
       "      <td>Other doctoral degree (Ph.D., Ed.D., etc.)</td>\n",
       "      <td>Computer science, computer engineering, or sof...</td>\n",
       "      <td>NaN</td>\n",
       "      <td>NaN</td>\n",
       "      <td>NaN</td>\n",
       "      <td>...</td>\n",
       "      <td>NaN</td>\n",
       "      <td>NaN</td>\n",
       "      <td>NaN</td>\n",
       "      <td>NaN</td>\n",
       "      <td>NaN</td>\n",
       "      <td>NaN</td>\n",
       "      <td>NaN</td>\n",
       "      <td>NaN</td>\n",
       "      <td>NaN</td>\n",
       "      <td>NaN</td>\n",
       "    </tr>\n",
       "  </tbody>\n",
       "</table>\n",
       "<p>153344 rows × 43 columns</p>\n",
       "</div>"
      ],
      "text/plain": [
       "       Respondent                                         MainBranch Hobbyist  \\\n",
       "0               1             I am a student who is learning to code      Yes   \n",
       "1               2             I am a student who is learning to code       No   \n",
       "2               3  I am not primarily a developer, but I write co...      Yes   \n",
       "3               4                     I am a developer by profession       No   \n",
       "4               5                     I am a developer by profession      Yes   \n",
       "...           ...                                                ...      ...   \n",
       "64456       64858                                                NaN      Yes   \n",
       "64457       64867                                                NaN      Yes   \n",
       "64458       64898                                                NaN      Yes   \n",
       "64459       64925                                                NaN      Yes   \n",
       "64460       65112                                                NaN      Yes   \n",
       "\n",
       "                                   Employment                 Country  \\\n",
       "0      Not employed, and not looking for work          United Kingdom   \n",
       "1          Not employed, but looking for work  Bosnia and Herzegovina   \n",
       "2                          Employed full-time                Thailand   \n",
       "3                          Employed full-time           United States   \n",
       "4                          Employed full-time                 Ukraine   \n",
       "...                                       ...                     ...   \n",
       "64456                      Employed full-time           United States   \n",
       "64457                      Employed full-time                 Morocco   \n",
       "64458                                     NaN                Viet Nam   \n",
       "64459                      Employed full-time                  Poland   \n",
       "64460                      Employed full-time                   Spain   \n",
       "\n",
       "                                                 EdLevel  \\\n",
       "0                              Primary/elementary school   \n",
       "1      Secondary school (e.g. American high school, G...   \n",
       "2               Bachelor’s degree (BA, BS, B.Eng., etc.)   \n",
       "3               Bachelor’s degree (BA, BS, B.Eng., etc.)   \n",
       "4               Bachelor’s degree (BA, BS, B.Eng., etc.)   \n",
       "...                                                  ...   \n",
       "64456    Master’s degree (M.A., M.S., M.Eng., MBA, etc.)   \n",
       "64457                                                NaN   \n",
       "64458                          Primary/elementary school   \n",
       "64459                                                NaN   \n",
       "64460         Other doctoral degree (Ph.D., Ed.D., etc.)   \n",
       "\n",
       "                                          UndergradMajor  \\\n",
       "0                                                    NaN   \n",
       "1                                                    NaN   \n",
       "2                          Web development or web design   \n",
       "3      Computer science, computer engineering, or sof...   \n",
       "4      Computer science, computer engineering, or sof...   \n",
       "...                                                  ...   \n",
       "64456  Computer science, computer engineering, or sof...   \n",
       "64457                                                NaN   \n",
       "64458                                                NaN   \n",
       "64459                                                NaN   \n",
       "64460  Computer science, computer engineering, or sof...   \n",
       "\n",
       "                        OrgSize  \\\n",
       "0                           NaN   \n",
       "1                           NaN   \n",
       "2          100 to 499 employees   \n",
       "3          100 to 499 employees   \n",
       "4      10,000 or more employees   \n",
       "...                         ...   \n",
       "64456                       NaN   \n",
       "64457                       NaN   \n",
       "64458                       NaN   \n",
       "64459                       NaN   \n",
       "64460                       NaN   \n",
       "\n",
       "                                                 DevType YearsCode  ...  \\\n",
       "0                                                    NaN         4  ...   \n",
       "1      Developer, desktop or enterprise applications;...       NaN  ...   \n",
       "2      Designer;Developer, back-end;Developer, front-...         3  ...   \n",
       "3                                  Developer, full-stack         3  ...   \n",
       "4      Academic researcher;Developer, desktop or ente...        16  ...   \n",
       "...                                                  ...       ...  ...   \n",
       "64456                                Senior executive/VP        10  ...   \n",
       "64457                                                NaN       NaN  ...   \n",
       "64458                                                NaN       NaN  ...   \n",
       "64459                                                NaN       NaN  ...   \n",
       "64460                                                NaN       NaN  ...   \n",
       "\n",
       "                                SOPartFreq           SOComm  \\\n",
       "0                                      NaN          Neutral   \n",
       "1          A few times per month or weekly    Yes, somewhat   \n",
       "2      Less than once per month or monthly          Neutral   \n",
       "3      Less than once per month or monthly   No, not really   \n",
       "4          A few times per month or weekly  Yes, definitely   \n",
       "...                                    ...              ...   \n",
       "64456                                  NaN              NaN   \n",
       "64457                                  NaN              NaN   \n",
       "64458                                  NaN              NaN   \n",
       "64459                                  NaN              NaN   \n",
       "64460                                  NaN              NaN   \n",
       "\n",
       "                                 WelcomeChange   Age Gender Trans  \\\n",
       "0      Just as welcome now as I felt last year  14.0    Man    No   \n",
       "1      Just as welcome now as I felt last year  19.0    Man    No   \n",
       "2      Just as welcome now as I felt last year  28.0    Man    No   \n",
       "3      Just as welcome now as I felt last year  22.0    Man    No   \n",
       "4      Just as welcome now as I felt last year  30.0    Man    No   \n",
       "...                                        ...   ...    ...   ...   \n",
       "64456                                      NaN   NaN    NaN   NaN   \n",
       "64457                                      NaN   NaN    NaN   NaN   \n",
       "64458                                      NaN   NaN    NaN   NaN   \n",
       "64459                                      NaN   NaN    NaN   NaN   \n",
       "64460                                      NaN   NaN    NaN   NaN   \n",
       "\n",
       "                     Sexuality                                 Ethnicity  \\\n",
       "0      Straight / Heterosexual                                       NaN   \n",
       "1      Straight / Heterosexual                                       NaN   \n",
       "2      Straight / Heterosexual                                       NaN   \n",
       "3      Straight / Heterosexual              White or of European descent   \n",
       "4      Straight / Heterosexual  White or of European descent;Multiracial   \n",
       "...                        ...                                       ...   \n",
       "64456                      NaN                                       NaN   \n",
       "64457                      NaN                                       NaN   \n",
       "64458                      NaN                                       NaN   \n",
       "64459                      NaN                                       NaN   \n",
       "64460                      NaN                                       NaN   \n",
       "\n",
       "                SurveyLength                  SurveyEase  \n",
       "0      Appropriate in length  Neither easy nor difficult  \n",
       "1      Appropriate in length  Neither easy nor difficult  \n",
       "2      Appropriate in length  Neither easy nor difficult  \n",
       "3      Appropriate in length                        Easy  \n",
       "4      Appropriate in length                        Easy  \n",
       "...                      ...                         ...  \n",
       "64456                    NaN                         NaN  \n",
       "64457                    NaN                         NaN  \n",
       "64458                    NaN                         NaN  \n",
       "64459                    NaN                         NaN  \n",
       "64460                    NaN                         NaN  \n",
       "\n",
       "[153344 rows x 43 columns]"
      ]
     },
     "execution_count": 342,
     "metadata": {},
     "output_type": "execute_result"
    }
   ],
   "source": [
    "df"
   ]
  },
  {
   "cell_type": "code",
   "execution_count": 343,
   "id": "61f8be03",
   "metadata": {},
   "outputs": [],
   "source": [
    "df = df.reset_index(drop=True)"
   ]
  },
  {
   "cell_type": "code",
   "execution_count": 344,
   "id": "cea88a04",
   "metadata": {},
   "outputs": [
    {
     "data": {
      "text/html": [
       "<div>\n",
       "<style scoped>\n",
       "    .dataframe tbody tr th:only-of-type {\n",
       "        vertical-align: middle;\n",
       "    }\n",
       "\n",
       "    .dataframe tbody tr th {\n",
       "        vertical-align: top;\n",
       "    }\n",
       "\n",
       "    .dataframe thead th {\n",
       "        text-align: right;\n",
       "    }\n",
       "</style>\n",
       "<table border=\"1\" class=\"dataframe\">\n",
       "  <thead>\n",
       "    <tr style=\"text-align: right;\">\n",
       "      <th></th>\n",
       "      <th>Respondent</th>\n",
       "      <th>MainBranch</th>\n",
       "      <th>Hobbyist</th>\n",
       "      <th>Employment</th>\n",
       "      <th>Country</th>\n",
       "      <th>EdLevel</th>\n",
       "      <th>UndergradMajor</th>\n",
       "      <th>OrgSize</th>\n",
       "      <th>DevType</th>\n",
       "      <th>YearsCode</th>\n",
       "      <th>...</th>\n",
       "      <th>SOPartFreq</th>\n",
       "      <th>SOComm</th>\n",
       "      <th>WelcomeChange</th>\n",
       "      <th>Age</th>\n",
       "      <th>Gender</th>\n",
       "      <th>Trans</th>\n",
       "      <th>Sexuality</th>\n",
       "      <th>Ethnicity</th>\n",
       "      <th>SurveyLength</th>\n",
       "      <th>SurveyEase</th>\n",
       "    </tr>\n",
       "  </thead>\n",
       "  <tbody>\n",
       "    <tr>\n",
       "      <th>0</th>\n",
       "      <td>1</td>\n",
       "      <td>I am a student who is learning to code</td>\n",
       "      <td>Yes</td>\n",
       "      <td>Not employed, and not looking for work</td>\n",
       "      <td>United Kingdom</td>\n",
       "      <td>Primary/elementary school</td>\n",
       "      <td>NaN</td>\n",
       "      <td>NaN</td>\n",
       "      <td>NaN</td>\n",
       "      <td>4</td>\n",
       "      <td>...</td>\n",
       "      <td>NaN</td>\n",
       "      <td>Neutral</td>\n",
       "      <td>Just as welcome now as I felt last year</td>\n",
       "      <td>14.0</td>\n",
       "      <td>Man</td>\n",
       "      <td>No</td>\n",
       "      <td>Straight / Heterosexual</td>\n",
       "      <td>NaN</td>\n",
       "      <td>Appropriate in length</td>\n",
       "      <td>Neither easy nor difficult</td>\n",
       "    </tr>\n",
       "    <tr>\n",
       "      <th>1</th>\n",
       "      <td>2</td>\n",
       "      <td>I am a student who is learning to code</td>\n",
       "      <td>No</td>\n",
       "      <td>Not employed, but looking for work</td>\n",
       "      <td>Bosnia and Herzegovina</td>\n",
       "      <td>Secondary school (e.g. American high school, G...</td>\n",
       "      <td>NaN</td>\n",
       "      <td>NaN</td>\n",
       "      <td>Developer, desktop or enterprise applications;...</td>\n",
       "      <td>NaN</td>\n",
       "      <td>...</td>\n",
       "      <td>A few times per month or weekly</td>\n",
       "      <td>Yes, somewhat</td>\n",
       "      <td>Just as welcome now as I felt last year</td>\n",
       "      <td>19.0</td>\n",
       "      <td>Man</td>\n",
       "      <td>No</td>\n",
       "      <td>Straight / Heterosexual</td>\n",
       "      <td>NaN</td>\n",
       "      <td>Appropriate in length</td>\n",
       "      <td>Neither easy nor difficult</td>\n",
       "    </tr>\n",
       "    <tr>\n",
       "      <th>2</th>\n",
       "      <td>3</td>\n",
       "      <td>I am not primarily a developer, but I write co...</td>\n",
       "      <td>Yes</td>\n",
       "      <td>Employed full-time</td>\n",
       "      <td>Thailand</td>\n",
       "      <td>Bachelor’s degree (BA, BS, B.Eng., etc.)</td>\n",
       "      <td>Web development or web design</td>\n",
       "      <td>100 to 499 employees</td>\n",
       "      <td>Designer;Developer, back-end;Developer, front-...</td>\n",
       "      <td>3</td>\n",
       "      <td>...</td>\n",
       "      <td>Less than once per month or monthly</td>\n",
       "      <td>Neutral</td>\n",
       "      <td>Just as welcome now as I felt last year</td>\n",
       "      <td>28.0</td>\n",
       "      <td>Man</td>\n",
       "      <td>No</td>\n",
       "      <td>Straight / Heterosexual</td>\n",
       "      <td>NaN</td>\n",
       "      <td>Appropriate in length</td>\n",
       "      <td>Neither easy nor difficult</td>\n",
       "    </tr>\n",
       "    <tr>\n",
       "      <th>3</th>\n",
       "      <td>4</td>\n",
       "      <td>I am a developer by profession</td>\n",
       "      <td>No</td>\n",
       "      <td>Employed full-time</td>\n",
       "      <td>United States</td>\n",
       "      <td>Bachelor’s degree (BA, BS, B.Eng., etc.)</td>\n",
       "      <td>Computer science, computer engineering, or sof...</td>\n",
       "      <td>100 to 499 employees</td>\n",
       "      <td>Developer, full-stack</td>\n",
       "      <td>3</td>\n",
       "      <td>...</td>\n",
       "      <td>Less than once per month or monthly</td>\n",
       "      <td>No, not really</td>\n",
       "      <td>Just as welcome now as I felt last year</td>\n",
       "      <td>22.0</td>\n",
       "      <td>Man</td>\n",
       "      <td>No</td>\n",
       "      <td>Straight / Heterosexual</td>\n",
       "      <td>White or of European descent</td>\n",
       "      <td>Appropriate in length</td>\n",
       "      <td>Easy</td>\n",
       "    </tr>\n",
       "    <tr>\n",
       "      <th>4</th>\n",
       "      <td>5</td>\n",
       "      <td>I am a developer by profession</td>\n",
       "      <td>Yes</td>\n",
       "      <td>Employed full-time</td>\n",
       "      <td>Ukraine</td>\n",
       "      <td>Bachelor’s degree (BA, BS, B.Eng., etc.)</td>\n",
       "      <td>Computer science, computer engineering, or sof...</td>\n",
       "      <td>10,000 or more employees</td>\n",
       "      <td>Academic researcher;Developer, desktop or ente...</td>\n",
       "      <td>16</td>\n",
       "      <td>...</td>\n",
       "      <td>A few times per month or weekly</td>\n",
       "      <td>Yes, definitely</td>\n",
       "      <td>Just as welcome now as I felt last year</td>\n",
       "      <td>30.0</td>\n",
       "      <td>Man</td>\n",
       "      <td>No</td>\n",
       "      <td>Straight / Heterosexual</td>\n",
       "      <td>White or of European descent;Multiracial</td>\n",
       "      <td>Appropriate in length</td>\n",
       "      <td>Easy</td>\n",
       "    </tr>\n",
       "    <tr>\n",
       "      <th>...</th>\n",
       "      <td>...</td>\n",
       "      <td>...</td>\n",
       "      <td>...</td>\n",
       "      <td>...</td>\n",
       "      <td>...</td>\n",
       "      <td>...</td>\n",
       "      <td>...</td>\n",
       "      <td>...</td>\n",
       "      <td>...</td>\n",
       "      <td>...</td>\n",
       "      <td>...</td>\n",
       "      <td>...</td>\n",
       "      <td>...</td>\n",
       "      <td>...</td>\n",
       "      <td>...</td>\n",
       "      <td>...</td>\n",
       "      <td>...</td>\n",
       "      <td>...</td>\n",
       "      <td>...</td>\n",
       "      <td>...</td>\n",
       "      <td>...</td>\n",
       "    </tr>\n",
       "    <tr>\n",
       "      <th>153339</th>\n",
       "      <td>64858</td>\n",
       "      <td>NaN</td>\n",
       "      <td>Yes</td>\n",
       "      <td>Employed full-time</td>\n",
       "      <td>United States</td>\n",
       "      <td>Master’s degree (M.A., M.S., M.Eng., MBA, etc.)</td>\n",
       "      <td>Computer science, computer engineering, or sof...</td>\n",
       "      <td>NaN</td>\n",
       "      <td>Senior executive/VP</td>\n",
       "      <td>10</td>\n",
       "      <td>...</td>\n",
       "      <td>NaN</td>\n",
       "      <td>NaN</td>\n",
       "      <td>NaN</td>\n",
       "      <td>NaN</td>\n",
       "      <td>NaN</td>\n",
       "      <td>NaN</td>\n",
       "      <td>NaN</td>\n",
       "      <td>NaN</td>\n",
       "      <td>NaN</td>\n",
       "      <td>NaN</td>\n",
       "    </tr>\n",
       "    <tr>\n",
       "      <th>153340</th>\n",
       "      <td>64867</td>\n",
       "      <td>NaN</td>\n",
       "      <td>Yes</td>\n",
       "      <td>Employed full-time</td>\n",
       "      <td>Morocco</td>\n",
       "      <td>NaN</td>\n",
       "      <td>NaN</td>\n",
       "      <td>NaN</td>\n",
       "      <td>NaN</td>\n",
       "      <td>NaN</td>\n",
       "      <td>...</td>\n",
       "      <td>NaN</td>\n",
       "      <td>NaN</td>\n",
       "      <td>NaN</td>\n",
       "      <td>NaN</td>\n",
       "      <td>NaN</td>\n",
       "      <td>NaN</td>\n",
       "      <td>NaN</td>\n",
       "      <td>NaN</td>\n",
       "      <td>NaN</td>\n",
       "      <td>NaN</td>\n",
       "    </tr>\n",
       "    <tr>\n",
       "      <th>153341</th>\n",
       "      <td>64898</td>\n",
       "      <td>NaN</td>\n",
       "      <td>Yes</td>\n",
       "      <td>NaN</td>\n",
       "      <td>Viet Nam</td>\n",
       "      <td>Primary/elementary school</td>\n",
       "      <td>NaN</td>\n",
       "      <td>NaN</td>\n",
       "      <td>NaN</td>\n",
       "      <td>NaN</td>\n",
       "      <td>...</td>\n",
       "      <td>NaN</td>\n",
       "      <td>NaN</td>\n",
       "      <td>NaN</td>\n",
       "      <td>NaN</td>\n",
       "      <td>NaN</td>\n",
       "      <td>NaN</td>\n",
       "      <td>NaN</td>\n",
       "      <td>NaN</td>\n",
       "      <td>NaN</td>\n",
       "      <td>NaN</td>\n",
       "    </tr>\n",
       "    <tr>\n",
       "      <th>153342</th>\n",
       "      <td>64925</td>\n",
       "      <td>NaN</td>\n",
       "      <td>Yes</td>\n",
       "      <td>Employed full-time</td>\n",
       "      <td>Poland</td>\n",
       "      <td>NaN</td>\n",
       "      <td>NaN</td>\n",
       "      <td>NaN</td>\n",
       "      <td>NaN</td>\n",
       "      <td>NaN</td>\n",
       "      <td>...</td>\n",
       "      <td>NaN</td>\n",
       "      <td>NaN</td>\n",
       "      <td>NaN</td>\n",
       "      <td>NaN</td>\n",
       "      <td>NaN</td>\n",
       "      <td>NaN</td>\n",
       "      <td>NaN</td>\n",
       "      <td>NaN</td>\n",
       "      <td>NaN</td>\n",
       "      <td>NaN</td>\n",
       "    </tr>\n",
       "    <tr>\n",
       "      <th>153343</th>\n",
       "      <td>65112</td>\n",
       "      <td>NaN</td>\n",
       "      <td>Yes</td>\n",
       "      <td>Employed full-time</td>\n",
       "      <td>Spain</td>\n",
       "      <td>Other doctoral degree (Ph.D., Ed.D., etc.)</td>\n",
       "      <td>Computer science, computer engineering, or sof...</td>\n",
       "      <td>NaN</td>\n",
       "      <td>NaN</td>\n",
       "      <td>NaN</td>\n",
       "      <td>...</td>\n",
       "      <td>NaN</td>\n",
       "      <td>NaN</td>\n",
       "      <td>NaN</td>\n",
       "      <td>NaN</td>\n",
       "      <td>NaN</td>\n",
       "      <td>NaN</td>\n",
       "      <td>NaN</td>\n",
       "      <td>NaN</td>\n",
       "      <td>NaN</td>\n",
       "      <td>NaN</td>\n",
       "    </tr>\n",
       "  </tbody>\n",
       "</table>\n",
       "<p>153344 rows × 43 columns</p>\n",
       "</div>"
      ],
      "text/plain": [
       "        Respondent                                         MainBranch  \\\n",
       "0                1             I am a student who is learning to code   \n",
       "1                2             I am a student who is learning to code   \n",
       "2                3  I am not primarily a developer, but I write co...   \n",
       "3                4                     I am a developer by profession   \n",
       "4                5                     I am a developer by profession   \n",
       "...            ...                                                ...   \n",
       "153339       64858                                                NaN   \n",
       "153340       64867                                                NaN   \n",
       "153341       64898                                                NaN   \n",
       "153342       64925                                                NaN   \n",
       "153343       65112                                                NaN   \n",
       "\n",
       "       Hobbyist                              Employment  \\\n",
       "0           Yes  Not employed, and not looking for work   \n",
       "1            No      Not employed, but looking for work   \n",
       "2           Yes                      Employed full-time   \n",
       "3            No                      Employed full-time   \n",
       "4           Yes                      Employed full-time   \n",
       "...         ...                                     ...   \n",
       "153339      Yes                      Employed full-time   \n",
       "153340      Yes                      Employed full-time   \n",
       "153341      Yes                                     NaN   \n",
       "153342      Yes                      Employed full-time   \n",
       "153343      Yes                      Employed full-time   \n",
       "\n",
       "                       Country  \\\n",
       "0               United Kingdom   \n",
       "1       Bosnia and Herzegovina   \n",
       "2                     Thailand   \n",
       "3                United States   \n",
       "4                      Ukraine   \n",
       "...                        ...   \n",
       "153339           United States   \n",
       "153340                 Morocco   \n",
       "153341                Viet Nam   \n",
       "153342                  Poland   \n",
       "153343                   Spain   \n",
       "\n",
       "                                                  EdLevel  \\\n",
       "0                               Primary/elementary school   \n",
       "1       Secondary school (e.g. American high school, G...   \n",
       "2                Bachelor’s degree (BA, BS, B.Eng., etc.)   \n",
       "3                Bachelor’s degree (BA, BS, B.Eng., etc.)   \n",
       "4                Bachelor’s degree (BA, BS, B.Eng., etc.)   \n",
       "...                                                   ...   \n",
       "153339    Master’s degree (M.A., M.S., M.Eng., MBA, etc.)   \n",
       "153340                                                NaN   \n",
       "153341                          Primary/elementary school   \n",
       "153342                                                NaN   \n",
       "153343         Other doctoral degree (Ph.D., Ed.D., etc.)   \n",
       "\n",
       "                                           UndergradMajor  \\\n",
       "0                                                     NaN   \n",
       "1                                                     NaN   \n",
       "2                           Web development or web design   \n",
       "3       Computer science, computer engineering, or sof...   \n",
       "4       Computer science, computer engineering, or sof...   \n",
       "...                                                   ...   \n",
       "153339  Computer science, computer engineering, or sof...   \n",
       "153340                                                NaN   \n",
       "153341                                                NaN   \n",
       "153342                                                NaN   \n",
       "153343  Computer science, computer engineering, or sof...   \n",
       "\n",
       "                         OrgSize  \\\n",
       "0                            NaN   \n",
       "1                            NaN   \n",
       "2           100 to 499 employees   \n",
       "3           100 to 499 employees   \n",
       "4       10,000 or more employees   \n",
       "...                          ...   \n",
       "153339                       NaN   \n",
       "153340                       NaN   \n",
       "153341                       NaN   \n",
       "153342                       NaN   \n",
       "153343                       NaN   \n",
       "\n",
       "                                                  DevType YearsCode  ...  \\\n",
       "0                                                     NaN         4  ...   \n",
       "1       Developer, desktop or enterprise applications;...       NaN  ...   \n",
       "2       Designer;Developer, back-end;Developer, front-...         3  ...   \n",
       "3                                   Developer, full-stack         3  ...   \n",
       "4       Academic researcher;Developer, desktop or ente...        16  ...   \n",
       "...                                                   ...       ...  ...   \n",
       "153339                                Senior executive/VP        10  ...   \n",
       "153340                                                NaN       NaN  ...   \n",
       "153341                                                NaN       NaN  ...   \n",
       "153342                                                NaN       NaN  ...   \n",
       "153343                                                NaN       NaN  ...   \n",
       "\n",
       "                                 SOPartFreq           SOComm  \\\n",
       "0                                       NaN          Neutral   \n",
       "1           A few times per month or weekly    Yes, somewhat   \n",
       "2       Less than once per month or monthly          Neutral   \n",
       "3       Less than once per month or monthly   No, not really   \n",
       "4           A few times per month or weekly  Yes, definitely   \n",
       "...                                     ...              ...   \n",
       "153339                                  NaN              NaN   \n",
       "153340                                  NaN              NaN   \n",
       "153341                                  NaN              NaN   \n",
       "153342                                  NaN              NaN   \n",
       "153343                                  NaN              NaN   \n",
       "\n",
       "                                  WelcomeChange   Age Gender Trans  \\\n",
       "0       Just as welcome now as I felt last year  14.0    Man    No   \n",
       "1       Just as welcome now as I felt last year  19.0    Man    No   \n",
       "2       Just as welcome now as I felt last year  28.0    Man    No   \n",
       "3       Just as welcome now as I felt last year  22.0    Man    No   \n",
       "4       Just as welcome now as I felt last year  30.0    Man    No   \n",
       "...                                         ...   ...    ...   ...   \n",
       "153339                                      NaN   NaN    NaN   NaN   \n",
       "153340                                      NaN   NaN    NaN   NaN   \n",
       "153341                                      NaN   NaN    NaN   NaN   \n",
       "153342                                      NaN   NaN    NaN   NaN   \n",
       "153343                                      NaN   NaN    NaN   NaN   \n",
       "\n",
       "                      Sexuality                                 Ethnicity  \\\n",
       "0       Straight / Heterosexual                                       NaN   \n",
       "1       Straight / Heterosexual                                       NaN   \n",
       "2       Straight / Heterosexual                                       NaN   \n",
       "3       Straight / Heterosexual              White or of European descent   \n",
       "4       Straight / Heterosexual  White or of European descent;Multiracial   \n",
       "...                         ...                                       ...   \n",
       "153339                      NaN                                       NaN   \n",
       "153340                      NaN                                       NaN   \n",
       "153341                      NaN                                       NaN   \n",
       "153342                      NaN                                       NaN   \n",
       "153343                      NaN                                       NaN   \n",
       "\n",
       "                 SurveyLength                  SurveyEase  \n",
       "0       Appropriate in length  Neither easy nor difficult  \n",
       "1       Appropriate in length  Neither easy nor difficult  \n",
       "2       Appropriate in length  Neither easy nor difficult  \n",
       "3       Appropriate in length                        Easy  \n",
       "4       Appropriate in length                        Easy  \n",
       "...                       ...                         ...  \n",
       "153339                    NaN                         NaN  \n",
       "153340                    NaN                         NaN  \n",
       "153341                    NaN                         NaN  \n",
       "153342                    NaN                         NaN  \n",
       "153343                    NaN                         NaN  \n",
       "\n",
       "[153344 rows x 43 columns]"
      ]
     },
     "execution_count": 344,
     "metadata": {},
     "output_type": "execute_result"
    }
   ],
   "source": [
    "df"
   ]
  },
  {
   "cell_type": "code",
   "execution_count": 345,
   "id": "90c9d131",
   "metadata": {},
   "outputs": [],
   "source": [
    "# Let's analyse columns one by one"
   ]
  },
  {
   "cell_type": "code",
   "execution_count": 346,
   "id": "b22254b8",
   "metadata": {},
   "outputs": [
    {
     "data": {
      "text/plain": [
       "Index(['Respondent', 'MainBranch', 'Hobbyist', 'Employment', 'Country',\n",
       "       'EdLevel', 'UndergradMajor', 'OrgSize', 'DevType', 'YearsCode',\n",
       "       'Age1stCode', 'YearsCodePro', 'JobSat', 'JobSeek', 'JobFactors',\n",
       "       'CurrencySymbol', 'CurrencyDesc', 'CompTotal', 'CompFreq',\n",
       "       'ConvertedComp', 'WorkWeekHrs', 'PurchaseWhat', 'LanguageWorkedWith',\n",
       "       'LanguageDesireNextYear', 'DatabaseWorkedWith',\n",
       "       'DatabaseDesireNextYear', 'PlatformWorkedWith',\n",
       "       'PlatformDesireNextYear', 'MiscTechWorkedWith',\n",
       "       'MiscTechDesireNextYear', 'OpSys', 'SOVisitFreq', 'SOAccount',\n",
       "       'SOPartFreq', 'SOComm', 'WelcomeChange', 'Age', 'Gender', 'Trans',\n",
       "       'Sexuality', 'Ethnicity', 'SurveyLength', 'SurveyEase'],\n",
       "      dtype='object')"
      ]
     },
     "execution_count": 346,
     "metadata": {},
     "output_type": "execute_result"
    }
   ],
   "source": [
    "df.columns"
   ]
  },
  {
   "cell_type": "code",
   "execution_count": 347,
   "id": "ad546226",
   "metadata": {},
   "outputs": [],
   "source": [
    "# 1. Respondent"
   ]
  },
  {
   "cell_type": "code",
   "execution_count": 348,
   "id": "94d88a08",
   "metadata": {},
   "outputs": [
    {
     "data": {
      "text/plain": [
       "0             1\n",
       "1             2\n",
       "2             3\n",
       "3             4\n",
       "4             5\n",
       "          ...  \n",
       "153339    64858\n",
       "153340    64867\n",
       "153341    64898\n",
       "153342    64925\n",
       "153343    65112\n",
       "Name: Respondent, Length: 153344, dtype: int64"
      ]
     },
     "execution_count": 348,
     "metadata": {},
     "output_type": "execute_result"
    }
   ],
   "source": [
    "df['Respondent']"
   ]
  },
  {
   "cell_type": "code",
   "execution_count": 349,
   "id": "9eb22a7c",
   "metadata": {},
   "outputs": [],
   "source": [
    "# We can remove this column from df\n",
    "df = df.drop(columns=['Respondent'])"
   ]
  },
  {
   "cell_type": "code",
   "execution_count": 350,
   "id": "b160236e",
   "metadata": {},
   "outputs": [
    {
     "data": {
      "text/plain": [
       "0                    I am a student who is learning to code\n",
       "1                    I am a student who is learning to code\n",
       "2         I am not primarily a developer, but I write co...\n",
       "3                            I am a developer by profession\n",
       "4                            I am a developer by profession\n",
       "                                ...                        \n",
       "153339                                                  NaN\n",
       "153340                                                  NaN\n",
       "153341                                                  NaN\n",
       "153342                                                  NaN\n",
       "153343                                                  NaN\n",
       "Name: MainBranch, Length: 153344, dtype: object"
      ]
     },
     "execution_count": 350,
     "metadata": {},
     "output_type": "execute_result"
    }
   ],
   "source": [
    "# 2. MainBranch\n",
    "df['MainBranch']"
   ]
  },
  {
   "cell_type": "code",
   "execution_count": 351,
   "id": "dd03ace4",
   "metadata": {},
   "outputs": [],
   "source": [
    "# In survey -> Nan -> None\n",
    "df['MainBranch'] = df['MainBranch'].fillna('None')"
   ]
  },
  {
   "cell_type": "code",
   "execution_count": 352,
   "id": "98985137",
   "metadata": {
    "scrolled": true
   },
   "outputs": [
    {
     "data": {
      "text/plain": [
       "I am a developer by profession                                                   112872\n",
       "I am a student who is learning to code                                            18159\n",
       "I am not primarily a developer, but I write code sometimes as part of my work     13041\n",
       "I code primarily as a hobby                                                        5654\n",
       "I used to be a developer by profession, but no longer am                           2767\n",
       "None                                                                                851\n",
       "Name: MainBranch, dtype: int64"
      ]
     },
     "execution_count": 352,
     "metadata": {},
     "output_type": "execute_result"
    }
   ],
   "source": [
    "df['MainBranch'].value_counts()"
   ]
  },
  {
   "cell_type": "code",
   "execution_count": 353,
   "id": "210d842d",
   "metadata": {},
   "outputs": [],
   "source": [
    "# One hot encoding\n",
    "# https://e6v4p8w2.rocketcdn.me/wp-content/uploads/2021/02/pandas-one-hot-encoding.001-1024x576.png"
   ]
  },
  {
   "cell_type": "code",
   "execution_count": 354,
   "id": "abcca19c",
   "metadata": {},
   "outputs": [],
   "source": [
    "# One hot encoding \n",
    "df = pd.get_dummies(df, columns=['MainBranch'])"
   ]
  },
  {
   "cell_type": "code",
   "execution_count": 355,
   "id": "1080a641",
   "metadata": {
    "scrolled": true
   },
   "outputs": [
    {
     "data": {
      "text/html": [
       "<div>\n",
       "<style scoped>\n",
       "    .dataframe tbody tr th:only-of-type {\n",
       "        vertical-align: middle;\n",
       "    }\n",
       "\n",
       "    .dataframe tbody tr th {\n",
       "        vertical-align: top;\n",
       "    }\n",
       "\n",
       "    .dataframe thead th {\n",
       "        text-align: right;\n",
       "    }\n",
       "</style>\n",
       "<table border=\"1\" class=\"dataframe\">\n",
       "  <thead>\n",
       "    <tr style=\"text-align: right;\">\n",
       "      <th></th>\n",
       "      <th>Hobbyist</th>\n",
       "      <th>Employment</th>\n",
       "      <th>Country</th>\n",
       "      <th>EdLevel</th>\n",
       "      <th>UndergradMajor</th>\n",
       "      <th>OrgSize</th>\n",
       "      <th>DevType</th>\n",
       "      <th>YearsCode</th>\n",
       "      <th>Age1stCode</th>\n",
       "      <th>YearsCodePro</th>\n",
       "      <th>...</th>\n",
       "      <th>Sexuality</th>\n",
       "      <th>Ethnicity</th>\n",
       "      <th>SurveyLength</th>\n",
       "      <th>SurveyEase</th>\n",
       "      <th>MainBranch_I am a developer by profession</th>\n",
       "      <th>MainBranch_I am a student who is learning to code</th>\n",
       "      <th>MainBranch_I am not primarily a developer, but I write code sometimes as part of my work</th>\n",
       "      <th>MainBranch_I code primarily as a hobby</th>\n",
       "      <th>MainBranch_I used to be a developer by profession, but no longer am</th>\n",
       "      <th>MainBranch_None</th>\n",
       "    </tr>\n",
       "  </thead>\n",
       "  <tbody>\n",
       "    <tr>\n",
       "      <th>0</th>\n",
       "      <td>Yes</td>\n",
       "      <td>Not employed, and not looking for work</td>\n",
       "      <td>United Kingdom</td>\n",
       "      <td>Primary/elementary school</td>\n",
       "      <td>NaN</td>\n",
       "      <td>NaN</td>\n",
       "      <td>NaN</td>\n",
       "      <td>4</td>\n",
       "      <td>10</td>\n",
       "      <td>NaN</td>\n",
       "      <td>...</td>\n",
       "      <td>Straight / Heterosexual</td>\n",
       "      <td>NaN</td>\n",
       "      <td>Appropriate in length</td>\n",
       "      <td>Neither easy nor difficult</td>\n",
       "      <td>0</td>\n",
       "      <td>1</td>\n",
       "      <td>0</td>\n",
       "      <td>0</td>\n",
       "      <td>0</td>\n",
       "      <td>0</td>\n",
       "    </tr>\n",
       "    <tr>\n",
       "      <th>1</th>\n",
       "      <td>No</td>\n",
       "      <td>Not employed, but looking for work</td>\n",
       "      <td>Bosnia and Herzegovina</td>\n",
       "      <td>Secondary school (e.g. American high school, G...</td>\n",
       "      <td>NaN</td>\n",
       "      <td>NaN</td>\n",
       "      <td>Developer, desktop or enterprise applications;...</td>\n",
       "      <td>NaN</td>\n",
       "      <td>17</td>\n",
       "      <td>NaN</td>\n",
       "      <td>...</td>\n",
       "      <td>Straight / Heterosexual</td>\n",
       "      <td>NaN</td>\n",
       "      <td>Appropriate in length</td>\n",
       "      <td>Neither easy nor difficult</td>\n",
       "      <td>0</td>\n",
       "      <td>1</td>\n",
       "      <td>0</td>\n",
       "      <td>0</td>\n",
       "      <td>0</td>\n",
       "      <td>0</td>\n",
       "    </tr>\n",
       "    <tr>\n",
       "      <th>2</th>\n",
       "      <td>Yes</td>\n",
       "      <td>Employed full-time</td>\n",
       "      <td>Thailand</td>\n",
       "      <td>Bachelor’s degree (BA, BS, B.Eng., etc.)</td>\n",
       "      <td>Web development or web design</td>\n",
       "      <td>100 to 499 employees</td>\n",
       "      <td>Designer;Developer, back-end;Developer, front-...</td>\n",
       "      <td>3</td>\n",
       "      <td>22</td>\n",
       "      <td>1</td>\n",
       "      <td>...</td>\n",
       "      <td>Straight / Heterosexual</td>\n",
       "      <td>NaN</td>\n",
       "      <td>Appropriate in length</td>\n",
       "      <td>Neither easy nor difficult</td>\n",
       "      <td>0</td>\n",
       "      <td>0</td>\n",
       "      <td>1</td>\n",
       "      <td>0</td>\n",
       "      <td>0</td>\n",
       "      <td>0</td>\n",
       "    </tr>\n",
       "    <tr>\n",
       "      <th>3</th>\n",
       "      <td>No</td>\n",
       "      <td>Employed full-time</td>\n",
       "      <td>United States</td>\n",
       "      <td>Bachelor’s degree (BA, BS, B.Eng., etc.)</td>\n",
       "      <td>Computer science, computer engineering, or sof...</td>\n",
       "      <td>100 to 499 employees</td>\n",
       "      <td>Developer, full-stack</td>\n",
       "      <td>3</td>\n",
       "      <td>16</td>\n",
       "      <td>Less than 1 year</td>\n",
       "      <td>...</td>\n",
       "      <td>Straight / Heterosexual</td>\n",
       "      <td>White or of European descent</td>\n",
       "      <td>Appropriate in length</td>\n",
       "      <td>Easy</td>\n",
       "      <td>1</td>\n",
       "      <td>0</td>\n",
       "      <td>0</td>\n",
       "      <td>0</td>\n",
       "      <td>0</td>\n",
       "      <td>0</td>\n",
       "    </tr>\n",
       "    <tr>\n",
       "      <th>4</th>\n",
       "      <td>Yes</td>\n",
       "      <td>Employed full-time</td>\n",
       "      <td>Ukraine</td>\n",
       "      <td>Bachelor’s degree (BA, BS, B.Eng., etc.)</td>\n",
       "      <td>Computer science, computer engineering, or sof...</td>\n",
       "      <td>10,000 or more employees</td>\n",
       "      <td>Academic researcher;Developer, desktop or ente...</td>\n",
       "      <td>16</td>\n",
       "      <td>14</td>\n",
       "      <td>9</td>\n",
       "      <td>...</td>\n",
       "      <td>Straight / Heterosexual</td>\n",
       "      <td>White or of European descent;Multiracial</td>\n",
       "      <td>Appropriate in length</td>\n",
       "      <td>Easy</td>\n",
       "      <td>1</td>\n",
       "      <td>0</td>\n",
       "      <td>0</td>\n",
       "      <td>0</td>\n",
       "      <td>0</td>\n",
       "      <td>0</td>\n",
       "    </tr>\n",
       "    <tr>\n",
       "      <th>...</th>\n",
       "      <td>...</td>\n",
       "      <td>...</td>\n",
       "      <td>...</td>\n",
       "      <td>...</td>\n",
       "      <td>...</td>\n",
       "      <td>...</td>\n",
       "      <td>...</td>\n",
       "      <td>...</td>\n",
       "      <td>...</td>\n",
       "      <td>...</td>\n",
       "      <td>...</td>\n",
       "      <td>...</td>\n",
       "      <td>...</td>\n",
       "      <td>...</td>\n",
       "      <td>...</td>\n",
       "      <td>...</td>\n",
       "      <td>...</td>\n",
       "      <td>...</td>\n",
       "      <td>...</td>\n",
       "      <td>...</td>\n",
       "      <td>...</td>\n",
       "    </tr>\n",
       "    <tr>\n",
       "      <th>153339</th>\n",
       "      <td>Yes</td>\n",
       "      <td>Employed full-time</td>\n",
       "      <td>United States</td>\n",
       "      <td>Master’s degree (M.A., M.S., M.Eng., MBA, etc.)</td>\n",
       "      <td>Computer science, computer engineering, or sof...</td>\n",
       "      <td>NaN</td>\n",
       "      <td>Senior executive/VP</td>\n",
       "      <td>10</td>\n",
       "      <td>16</td>\n",
       "      <td>Less than 1 year</td>\n",
       "      <td>...</td>\n",
       "      <td>NaN</td>\n",
       "      <td>NaN</td>\n",
       "      <td>NaN</td>\n",
       "      <td>NaN</td>\n",
       "      <td>0</td>\n",
       "      <td>0</td>\n",
       "      <td>0</td>\n",
       "      <td>0</td>\n",
       "      <td>0</td>\n",
       "      <td>1</td>\n",
       "    </tr>\n",
       "    <tr>\n",
       "      <th>153340</th>\n",
       "      <td>Yes</td>\n",
       "      <td>Employed full-time</td>\n",
       "      <td>Morocco</td>\n",
       "      <td>NaN</td>\n",
       "      <td>NaN</td>\n",
       "      <td>NaN</td>\n",
       "      <td>NaN</td>\n",
       "      <td>NaN</td>\n",
       "      <td>NaN</td>\n",
       "      <td>NaN</td>\n",
       "      <td>...</td>\n",
       "      <td>NaN</td>\n",
       "      <td>NaN</td>\n",
       "      <td>NaN</td>\n",
       "      <td>NaN</td>\n",
       "      <td>0</td>\n",
       "      <td>0</td>\n",
       "      <td>0</td>\n",
       "      <td>0</td>\n",
       "      <td>0</td>\n",
       "      <td>1</td>\n",
       "    </tr>\n",
       "    <tr>\n",
       "      <th>153341</th>\n",
       "      <td>Yes</td>\n",
       "      <td>NaN</td>\n",
       "      <td>Viet Nam</td>\n",
       "      <td>Primary/elementary school</td>\n",
       "      <td>NaN</td>\n",
       "      <td>NaN</td>\n",
       "      <td>NaN</td>\n",
       "      <td>NaN</td>\n",
       "      <td>NaN</td>\n",
       "      <td>NaN</td>\n",
       "      <td>...</td>\n",
       "      <td>NaN</td>\n",
       "      <td>NaN</td>\n",
       "      <td>NaN</td>\n",
       "      <td>NaN</td>\n",
       "      <td>0</td>\n",
       "      <td>0</td>\n",
       "      <td>0</td>\n",
       "      <td>0</td>\n",
       "      <td>0</td>\n",
       "      <td>1</td>\n",
       "    </tr>\n",
       "    <tr>\n",
       "      <th>153342</th>\n",
       "      <td>Yes</td>\n",
       "      <td>Employed full-time</td>\n",
       "      <td>Poland</td>\n",
       "      <td>NaN</td>\n",
       "      <td>NaN</td>\n",
       "      <td>NaN</td>\n",
       "      <td>NaN</td>\n",
       "      <td>NaN</td>\n",
       "      <td>NaN</td>\n",
       "      <td>NaN</td>\n",
       "      <td>...</td>\n",
       "      <td>NaN</td>\n",
       "      <td>NaN</td>\n",
       "      <td>NaN</td>\n",
       "      <td>NaN</td>\n",
       "      <td>0</td>\n",
       "      <td>0</td>\n",
       "      <td>0</td>\n",
       "      <td>0</td>\n",
       "      <td>0</td>\n",
       "      <td>1</td>\n",
       "    </tr>\n",
       "    <tr>\n",
       "      <th>153343</th>\n",
       "      <td>Yes</td>\n",
       "      <td>Employed full-time</td>\n",
       "      <td>Spain</td>\n",
       "      <td>Other doctoral degree (Ph.D., Ed.D., etc.)</td>\n",
       "      <td>Computer science, computer engineering, or sof...</td>\n",
       "      <td>NaN</td>\n",
       "      <td>NaN</td>\n",
       "      <td>NaN</td>\n",
       "      <td>NaN</td>\n",
       "      <td>NaN</td>\n",
       "      <td>...</td>\n",
       "      <td>NaN</td>\n",
       "      <td>NaN</td>\n",
       "      <td>NaN</td>\n",
       "      <td>NaN</td>\n",
       "      <td>0</td>\n",
       "      <td>0</td>\n",
       "      <td>0</td>\n",
       "      <td>0</td>\n",
       "      <td>0</td>\n",
       "      <td>1</td>\n",
       "    </tr>\n",
       "  </tbody>\n",
       "</table>\n",
       "<p>153344 rows × 47 columns</p>\n",
       "</div>"
      ],
      "text/plain": [
       "       Hobbyist                              Employment  \\\n",
       "0           Yes  Not employed, and not looking for work   \n",
       "1            No      Not employed, but looking for work   \n",
       "2           Yes                      Employed full-time   \n",
       "3            No                      Employed full-time   \n",
       "4           Yes                      Employed full-time   \n",
       "...         ...                                     ...   \n",
       "153339      Yes                      Employed full-time   \n",
       "153340      Yes                      Employed full-time   \n",
       "153341      Yes                                     NaN   \n",
       "153342      Yes                      Employed full-time   \n",
       "153343      Yes                      Employed full-time   \n",
       "\n",
       "                       Country  \\\n",
       "0               United Kingdom   \n",
       "1       Bosnia and Herzegovina   \n",
       "2                     Thailand   \n",
       "3                United States   \n",
       "4                      Ukraine   \n",
       "...                        ...   \n",
       "153339           United States   \n",
       "153340                 Morocco   \n",
       "153341                Viet Nam   \n",
       "153342                  Poland   \n",
       "153343                   Spain   \n",
       "\n",
       "                                                  EdLevel  \\\n",
       "0                               Primary/elementary school   \n",
       "1       Secondary school (e.g. American high school, G...   \n",
       "2                Bachelor’s degree (BA, BS, B.Eng., etc.)   \n",
       "3                Bachelor’s degree (BA, BS, B.Eng., etc.)   \n",
       "4                Bachelor’s degree (BA, BS, B.Eng., etc.)   \n",
       "...                                                   ...   \n",
       "153339    Master’s degree (M.A., M.S., M.Eng., MBA, etc.)   \n",
       "153340                                                NaN   \n",
       "153341                          Primary/elementary school   \n",
       "153342                                                NaN   \n",
       "153343         Other doctoral degree (Ph.D., Ed.D., etc.)   \n",
       "\n",
       "                                           UndergradMajor  \\\n",
       "0                                                     NaN   \n",
       "1                                                     NaN   \n",
       "2                           Web development or web design   \n",
       "3       Computer science, computer engineering, or sof...   \n",
       "4       Computer science, computer engineering, or sof...   \n",
       "...                                                   ...   \n",
       "153339  Computer science, computer engineering, or sof...   \n",
       "153340                                                NaN   \n",
       "153341                                                NaN   \n",
       "153342                                                NaN   \n",
       "153343  Computer science, computer engineering, or sof...   \n",
       "\n",
       "                         OrgSize  \\\n",
       "0                            NaN   \n",
       "1                            NaN   \n",
       "2           100 to 499 employees   \n",
       "3           100 to 499 employees   \n",
       "4       10,000 or more employees   \n",
       "...                          ...   \n",
       "153339                       NaN   \n",
       "153340                       NaN   \n",
       "153341                       NaN   \n",
       "153342                       NaN   \n",
       "153343                       NaN   \n",
       "\n",
       "                                                  DevType YearsCode  \\\n",
       "0                                                     NaN         4   \n",
       "1       Developer, desktop or enterprise applications;...       NaN   \n",
       "2       Designer;Developer, back-end;Developer, front-...         3   \n",
       "3                                   Developer, full-stack         3   \n",
       "4       Academic researcher;Developer, desktop or ente...        16   \n",
       "...                                                   ...       ...   \n",
       "153339                                Senior executive/VP        10   \n",
       "153340                                                NaN       NaN   \n",
       "153341                                                NaN       NaN   \n",
       "153342                                                NaN       NaN   \n",
       "153343                                                NaN       NaN   \n",
       "\n",
       "       Age1stCode      YearsCodePro  ...                Sexuality  \\\n",
       "0              10               NaN  ...  Straight / Heterosexual   \n",
       "1              17               NaN  ...  Straight / Heterosexual   \n",
       "2              22                 1  ...  Straight / Heterosexual   \n",
       "3              16  Less than 1 year  ...  Straight / Heterosexual   \n",
       "4              14                 9  ...  Straight / Heterosexual   \n",
       "...           ...               ...  ...                      ...   \n",
       "153339         16  Less than 1 year  ...                      NaN   \n",
       "153340        NaN               NaN  ...                      NaN   \n",
       "153341        NaN               NaN  ...                      NaN   \n",
       "153342        NaN               NaN  ...                      NaN   \n",
       "153343        NaN               NaN  ...                      NaN   \n",
       "\n",
       "                                       Ethnicity           SurveyLength  \\\n",
       "0                                            NaN  Appropriate in length   \n",
       "1                                            NaN  Appropriate in length   \n",
       "2                                            NaN  Appropriate in length   \n",
       "3                   White or of European descent  Appropriate in length   \n",
       "4       White or of European descent;Multiracial  Appropriate in length   \n",
       "...                                          ...                    ...   \n",
       "153339                                       NaN                    NaN   \n",
       "153340                                       NaN                    NaN   \n",
       "153341                                       NaN                    NaN   \n",
       "153342                                       NaN                    NaN   \n",
       "153343                                       NaN                    NaN   \n",
       "\n",
       "                        SurveyEase MainBranch_I am a developer by profession  \\\n",
       "0       Neither easy nor difficult                                         0   \n",
       "1       Neither easy nor difficult                                         0   \n",
       "2       Neither easy nor difficult                                         0   \n",
       "3                             Easy                                         1   \n",
       "4                             Easy                                         1   \n",
       "...                            ...                                       ...   \n",
       "153339                         NaN                                         0   \n",
       "153340                         NaN                                         0   \n",
       "153341                         NaN                                         0   \n",
       "153342                         NaN                                         0   \n",
       "153343                         NaN                                         0   \n",
       "\n",
       "        MainBranch_I am a student who is learning to code  \\\n",
       "0                                                       1   \n",
       "1                                                       1   \n",
       "2                                                       0   \n",
       "3                                                       0   \n",
       "4                                                       0   \n",
       "...                                                   ...   \n",
       "153339                                                  0   \n",
       "153340                                                  0   \n",
       "153341                                                  0   \n",
       "153342                                                  0   \n",
       "153343                                                  0   \n",
       "\n",
       "       MainBranch_I am not primarily a developer, but I write code sometimes as part of my work  \\\n",
       "0                                                       0                                         \n",
       "1                                                       0                                         \n",
       "2                                                       1                                         \n",
       "3                                                       0                                         \n",
       "4                                                       0                                         \n",
       "...                                                   ...                                         \n",
       "153339                                                  0                                         \n",
       "153340                                                  0                                         \n",
       "153341                                                  0                                         \n",
       "153342                                                  0                                         \n",
       "153343                                                  0                                         \n",
       "\n",
       "        MainBranch_I code primarily as a hobby  \\\n",
       "0                                            0   \n",
       "1                                            0   \n",
       "2                                            0   \n",
       "3                                            0   \n",
       "4                                            0   \n",
       "...                                        ...   \n",
       "153339                                       0   \n",
       "153340                                       0   \n",
       "153341                                       0   \n",
       "153342                                       0   \n",
       "153343                                       0   \n",
       "\n",
       "        MainBranch_I used to be a developer by profession, but no longer am  \\\n",
       "0                                                       0                     \n",
       "1                                                       0                     \n",
       "2                                                       0                     \n",
       "3                                                       0                     \n",
       "4                                                       0                     \n",
       "...                                                   ...                     \n",
       "153339                                                  0                     \n",
       "153340                                                  0                     \n",
       "153341                                                  0                     \n",
       "153342                                                  0                     \n",
       "153343                                                  0                     \n",
       "\n",
       "       MainBranch_None  \n",
       "0                    0  \n",
       "1                    0  \n",
       "2                    0  \n",
       "3                    0  \n",
       "4                    0  \n",
       "...                ...  \n",
       "153339               1  \n",
       "153340               1  \n",
       "153341               1  \n",
       "153342               1  \n",
       "153343               1  \n",
       "\n",
       "[153344 rows x 47 columns]"
      ]
     },
     "execution_count": 355,
     "metadata": {},
     "output_type": "execute_result"
    }
   ],
   "source": [
    "df"
   ]
  },
  {
   "cell_type": "code",
   "execution_count": 356,
   "id": "c1d4494a",
   "metadata": {},
   "outputs": [],
   "source": [
    "# 3. Hobbyist"
   ]
  },
  {
   "cell_type": "code",
   "execution_count": 357,
   "id": "50467b84",
   "metadata": {},
   "outputs": [
    {
     "data": {
      "text/plain": [
       "Yes    121645\n",
       "No      31654\n",
       "Name: Hobbyist, dtype: int64"
      ]
     },
     "execution_count": 357,
     "metadata": {},
     "output_type": "execute_result"
    }
   ],
   "source": [
    "df['Hobbyist'].value_counts()"
   ]
  },
  {
   "cell_type": "code",
   "execution_count": 358,
   "id": "03a11a9e",
   "metadata": {},
   "outputs": [],
   "source": [
    "# One hot encoding \n",
    "df = pd.get_dummies(df, columns=['Hobbyist'])"
   ]
  },
  {
   "cell_type": "code",
   "execution_count": 359,
   "id": "ab04a953",
   "metadata": {},
   "outputs": [],
   "source": [
    "# 4. Employment"
   ]
  },
  {
   "cell_type": "code",
   "execution_count": 360,
   "id": "e4266110",
   "metadata": {},
   "outputs": [
    {
     "data": {
      "text/plain": [
       "Employed full-time                                      109710\n",
       "Independent contractor, freelancer, or self-employed     14183\n",
       "Not employed, but looking for work                        7943\n",
       "Student                                                   7787\n",
       "Employed part-time                                        6686\n",
       "Not employed, and not looking for work                    4125\n",
       "Retired                                                    601\n",
       "Name: Employment, dtype: int64"
      ]
     },
     "execution_count": 360,
     "metadata": {},
     "output_type": "execute_result"
    }
   ],
   "source": [
    "df['Employment'].value_counts()"
   ]
  },
  {
   "cell_type": "code",
   "execution_count": 361,
   "id": "5e431a56",
   "metadata": {},
   "outputs": [],
   "source": [
    "# One hot encoding \n",
    "df = pd.get_dummies(df, columns=['Employment'])"
   ]
  },
  {
   "cell_type": "code",
   "execution_count": 362,
   "id": "9f671379",
   "metadata": {},
   "outputs": [],
   "source": [
    "# 5. Country"
   ]
  },
  {
   "cell_type": "code",
   "execution_count": 363,
   "id": "67b3550b",
   "metadata": {},
   "outputs": [
    {
     "data": {
      "text/plain": [
       "Marshall Islands             1\n",
       "Saint Kitts and Nevis        1\n",
       "Grenada                      1\n",
       "Dominica                     1\n",
       "Kiribati                     1\n",
       "                         ...  \n",
       "Canada                    5586\n",
       "United Kingdom            9633\n",
       "Germany                   9756\n",
       "India                    17464\n",
       "United States            33418\n",
       "Name: Country, Length: 191, dtype: int64"
      ]
     },
     "execution_count": 363,
     "metadata": {},
     "output_type": "execute_result"
    }
   ],
   "source": [
    "df['Country'].value_counts().sort_values()"
   ]
  },
  {
   "cell_type": "code",
   "execution_count": 364,
   "id": "1a11cfe9",
   "metadata": {},
   "outputs": [
    {
     "data": {
      "text/plain": [
       "Honduras                              48\n",
       "Senegal                               47\n",
       "Mauritius                             44\n",
       "Rwanda                                43\n",
       "Syrian Arab Republic                  42\n",
       "                                      ..\n",
       "Tonga                                  1\n",
       "Micronesia, Federated States of...     1\n",
       "Sao Tome and Principe                  1\n",
       "Saint Lucia                            1\n",
       "Marshall Islands                       1\n",
       "Name: Country, Length: 81, dtype: int64"
      ]
     },
     "execution_count": 364,
     "metadata": {},
     "output_type": "execute_result"
    }
   ],
   "source": [
    "# Remove countries with no many answers (less than 50)\n",
    "df['Country'].value_counts()[df['Country'].value_counts() < 50]"
   ]
  },
  {
   "cell_type": "code",
   "execution_count": 365,
   "id": "01948e8d",
   "metadata": {},
   "outputs": [],
   "source": [
    "countries_to_remove = df['Country'].value_counts()[df['Country'].value_counts() < 50].index"
   ]
  },
  {
   "cell_type": "code",
   "execution_count": 366,
   "id": "639d49ca",
   "metadata": {},
   "outputs": [
    {
     "data": {
      "text/plain": [
       "Index(['Honduras', 'Senegal', 'Mauritius', 'Rwanda', 'Syrian Arab Republic',\n",
       "       'Jamaica', 'Kuwait', 'Madagascar', 'Kyrgyzstan', 'Kosovo', 'Zambia',\n",
       "       'Qatar', 'Somalia', 'Nomadic', 'Montenegro', 'Mongolia', 'Bahrain',\n",
       "       'Yemen', 'Trinidad and Tobago', 'Maldives', 'Oman', 'Andorra',\n",
       "       'Libyan Arab Jamahiriya', 'Congo, Republic of the...', 'Swaziland',\n",
       "       'Democratic Republic of the Congo', 'Benin', 'Mozambique', 'Togo',\n",
       "       'Angola', 'Namibia', 'Botswana', 'Tajikistan', 'Mauritania',\n",
       "       'Antigua and Barbuda', 'Turkmenistan', 'Malawi', 'Burkina Faso',\n",
       "       'Lao People's Democratic Republic', 'Haiti', 'Bhutan', 'Isle of Man',\n",
       "       'Barbados', 'Sierra Leone', 'Guinea', 'Guyana', 'Belize', 'Bahamas',\n",
       "       'Niger', 'Monaco', 'Fiji', 'Cape Verde', 'Burundi',\n",
       "       'Saint Vincent and the Grenadines', 'Gambia', 'Lesotho', 'San Marino',\n",
       "       'Liechtenstein', 'Brunei Darussalam', 'Djibouti', 'Mali', 'Gabon',\n",
       "       'Papua New Guinea', 'Eritrea', 'Democratic People's Republic of Korea',\n",
       "       'Timor-Leste', 'Seychelles', 'Chad', 'North Korea', 'Liberia',\n",
       "       'Solomon Islands', 'Saint Kitts and Nevis', 'Grenada', 'Dominica',\n",
       "       'Kiribati', 'Nauru', 'Tonga', 'Micronesia, Federated States of...',\n",
       "       'Sao Tome and Principe', 'Saint Lucia', 'Marshall Islands'],\n",
       "      dtype='object')"
      ]
     },
     "execution_count": 366,
     "metadata": {},
     "output_type": "execute_result"
    }
   ],
   "source": [
    "countries_to_remove"
   ]
  },
  {
   "cell_type": "code",
   "execution_count": 367,
   "id": "913b5478",
   "metadata": {},
   "outputs": [],
   "source": [
    "# Remove rows with country from above list\n",
    "df = df[~df['Country'].isin(countries_to_remove)]"
   ]
  },
  {
   "cell_type": "code",
   "execution_count": 368,
   "id": "c099358d",
   "metadata": {},
   "outputs": [],
   "source": [
    "df = pd.get_dummies(df, columns=['Country'])"
   ]
  },
  {
   "cell_type": "code",
   "execution_count": 369,
   "id": "8b59d7e7",
   "metadata": {},
   "outputs": [
    {
     "data": {
      "text/plain": [
       "Bachelor’s degree (BA, BS, B.Eng., etc.)                                              38893\n",
       "Bachelor’s degree (B.A., B.S., B.Eng., etc.)                                          26314\n",
       "Master’s degree (MA, MS, M.Eng., MBA, etc.)                                           19482\n",
       "Some college/university study without earning a degree                                17605\n",
       "Secondary school (e.g. American high school, German Realschule or Gymnasium, etc.)    13316\n",
       "Master’s degree (M.A., M.S., M.Eng., MBA, etc.)                                       13026\n",
       "Associate degree                                                                       2914\n",
       "Other doctoral degree (Ph.D, Ed.D., etc.)                                              2427\n",
       "Primary/elementary school                                                              2333\n",
       "Professional degree (JD, MD, etc.)                                                     1982\n",
       "Associate degree (A.A., A.S., etc.)                                                    1825\n",
       "Other doctoral degree (Ph.D., Ed.D., etc.)                                             1679\n",
       "I never completed any formal education                                                 1025\n",
       "Name: EdLevel, dtype: int64"
      ]
     },
     "execution_count": 369,
     "metadata": {},
     "output_type": "execute_result"
    }
   ],
   "source": [
    "# 6. EdLevel  ?? agregation ??\n",
    "df['EdLevel'].value_counts()"
   ]
  },
  {
   "cell_type": "code",
   "execution_count": 370,
   "id": "8e17e46c",
   "metadata": {},
   "outputs": [],
   "source": [
    "# One hot encoding \n",
    "df = pd.get_dummies(df, columns=['EdLevel'])"
   ]
  },
  {
   "cell_type": "code",
   "execution_count": 371,
   "id": "897131df",
   "metadata": {},
   "outputs": [
    {
     "data": {
      "text/plain": [
       "Computer science, computer engineering, or software engineering                   78259\n",
       "Information systems, information technology, or system administration              9206\n",
       "Another engineering discipline (ex. civil, electrical, mechanical)                 6195\n",
       "Web development or web design                                                      5171\n",
       "Mathematics or statistics                                                          4796\n",
       "Another engineering discipline (such as civil, electrical, mechanical, etc.)       4729\n",
       "A natural science (ex. biology, chemistry, physics)                                3221\n",
       "A natural science (such as biology, chemistry, physics, etc.)                      2194\n",
       "A business discipline (ex. accounting, finance, marketing)                         1830\n",
       "A humanities discipline (ex. literature, history, philosophy)                      1568\n",
       "I never declared a major                                                           1420\n",
       "A business discipline (such as accounting, finance, marketing, etc.)               1363\n",
       "A social science (ex. anthropology, psychology, political science)                 1347\n",
       "Fine arts or performing arts (ex. graphic design, music, studio art)               1228\n",
       "A humanities discipline (such as literature, history, philosophy, etc.)            1003\n",
       "A social science (such as anthropology, psychology, political science, etc.)        930\n",
       "Fine arts or performing arts (such as graphic design, music, studio art, etc.)      721\n",
       "A health science (ex. nursing, pharmacy, radiology)                                 319\n",
       "A health science (such as nursing, pharmacy, radiology, etc.)                       246\n",
       "Name: UndergradMajor, dtype: int64"
      ]
     },
     "execution_count": 371,
     "metadata": {},
     "output_type": "execute_result"
    }
   ],
   "source": [
    "# 7. UndergradMajor           ----------------------- ??? Consider removing ???\n",
    "df['UndergradMajor'].value_counts()"
   ]
  },
  {
   "cell_type": "code",
   "execution_count": 372,
   "id": "d7f62a93",
   "metadata": {},
   "outputs": [],
   "source": [
    "# One hot encoding \n",
    "df = pd.get_dummies(df, columns=['UndergradMajor'])"
   ]
  },
  {
   "cell_type": "code",
   "execution_count": 373,
   "id": "10c6f9dc",
   "metadata": {},
   "outputs": [],
   "source": [
    "# 8. OrgSize ?? consider numerical ??"
   ]
  },
  {
   "cell_type": "code",
   "execution_count": 374,
   "id": "7d31e38b",
   "metadata": {},
   "outputs": [
    {
     "data": {
      "text/plain": [
       "20 to 99 employees                                    24660\n",
       "100 to 499 employees                                  21049\n",
       "10,000 or more employees                              16267\n",
       "1,000 to 4,999 employees                              12317\n",
       "10 to 19 employees                                    10788\n",
       "500 to 999 employees                                   7423\n",
       "2-9 employees                                          7329\n",
       "Just me - I am a freelancer, sole proprietor, etc.     6481\n",
       "5,000 to 9,999 employees                               4781\n",
       "2 to 9 employees                                       4351\n",
       "Name: OrgSize, dtype: int64"
      ]
     },
     "execution_count": 374,
     "metadata": {},
     "output_type": "execute_result"
    }
   ],
   "source": [
    "df['OrgSize'].value_counts()"
   ]
  },
  {
   "cell_type": "code",
   "execution_count": 375,
   "id": "f375f802",
   "metadata": {},
   "outputs": [],
   "source": [
    "# One hot encoding \n",
    "df = pd.get_dummies(df, columns=['OrgSize'])"
   ]
  },
  {
   "cell_type": "code",
   "execution_count": 376,
   "id": "48c06ca7",
   "metadata": {},
   "outputs": [],
   "source": [
    "# 9. DevType"
   ]
  },
  {
   "cell_type": "code",
   "execution_count": 377,
   "id": "8f98c883",
   "metadata": {
    "scrolled": false
   },
   "outputs": [
    {
     "data": {
      "text/plain": [
       "Developer, full-stack                                                                                                                                                                                                          12795\n",
       "Developer, back-end                                                                                                                                                                                                             7978\n",
       "Developer, back-end;Developer, front-end;Developer, full-stack                                                                                                                                                                  4607\n",
       "Developer, front-end                                                                                                                                                                                                            3595\n",
       "Developer, back-end;Developer, full-stack                                                                                                                                                                                       3509\n",
       "                                                                                                                                                                                                                               ...  \n",
       "Data or business analyst;Data scientist or machine learning specialist;Database administrator;Designer;Developer, embedded applications or devices;Developer, front-end;Developer, QA or test;Educator;System administrator        1\n",
       "Developer, game or graphics;Scientist;Student;System administrator                                                                                                                                                                 1\n",
       "Data or business analyst;Designer;Developer, full-stack;Educator;Product manager                                                                                                                                                   1\n",
       "Academic researcher;Data scientist or machine learning specialist;Developer, desktop or enterprise applications;Scientist;Student;System administrator                                                                             1\n",
       "Designer;Developer, desktop or enterprise applications;Developer, embedded applications or devices;Developer, front-end;Developer, mobile;Engineer, data                                                                           1\n",
       "Name: DevType, Length: 17913, dtype: int64"
      ]
     },
     "execution_count": 377,
     "metadata": {},
     "output_type": "execute_result"
    }
   ],
   "source": [
    "df['DevType'].value_counts()"
   ]
  },
  {
   "cell_type": "code",
   "execution_count": 378,
   "id": "58150974",
   "metadata": {},
   "outputs": [],
   "source": [
    "# Separated with commas"
   ]
  },
  {
   "cell_type": "code",
   "execution_count": 379,
   "id": "468bcd18",
   "metadata": {},
   "outputs": [],
   "source": [
    "dev_list = list(df.DevType.str.get_dummies(sep=';').columns)"
   ]
  },
  {
   "cell_type": "code",
   "execution_count": 380,
   "id": "c4fed943",
   "metadata": {},
   "outputs": [
    {
     "data": {
      "text/plain": [
       "['Academic researcher',\n",
       " 'Data or business analyst',\n",
       " 'Data scientist or machine learning specialist',\n",
       " 'Database administrator',\n",
       " 'Designer',\n",
       " 'DevOps specialist',\n",
       " 'Developer, QA or test',\n",
       " 'Developer, back-end',\n",
       " 'Developer, desktop or enterprise applications',\n",
       " 'Developer, embedded applications or devices',\n",
       " 'Developer, front-end',\n",
       " 'Developer, full-stack',\n",
       " 'Developer, game or graphics',\n",
       " 'Developer, mobile',\n",
       " 'Educator',\n",
       " 'Engineer, data',\n",
       " 'Engineer, site reliability',\n",
       " 'Engineering manager',\n",
       " 'Marketing or sales professional',\n",
       " 'Product manager',\n",
       " 'Scientist',\n",
       " 'Senior executive/VP',\n",
       " 'Student',\n",
       " 'System administrator']"
      ]
     },
     "execution_count": 380,
     "metadata": {},
     "output_type": "execute_result"
    }
   ],
   "source": [
    "# Single values\n",
    "dev_list"
   ]
  },
  {
   "cell_type": "code",
   "execution_count": 381,
   "id": "d1faf2a8",
   "metadata": {},
   "outputs": [],
   "source": [
    "# Add values to dataframe\n",
    "df = pd.concat([df.drop('DevType', 1), df['DevType'].str.get_dummies(sep=';').add_prefix('DevType_')], 1)"
   ]
  },
  {
   "cell_type": "code",
   "execution_count": 382,
   "id": "2d889dc7",
   "metadata": {},
   "outputs": [],
   "source": [
    "# 10. YearsCode"
   ]
  },
  {
   "cell_type": "code",
   "execution_count": 383,
   "id": "c5341e4f",
   "metadata": {},
   "outputs": [
    {
     "data": {
      "text/plain": [
       "10                    11216\n",
       "5                     11178\n",
       "6                      9933\n",
       "4                      8881\n",
       "7                      8727\n",
       "8                      8704\n",
       "3                      8049\n",
       "15                     6502\n",
       "20                     6168\n",
       "12                     5952\n",
       "2                      5818\n",
       "9                      5658\n",
       "11                     3923\n",
       "14                     3588\n",
       "13                     3486\n",
       "25                     2981\n",
       "18                     2980\n",
       "16                     2787\n",
       "1                      2688\n",
       "30                     2644\n",
       "17                     2399\n",
       "Less than 1 year       2095\n",
       "22                     1803\n",
       "19                     1669\n",
       "35                     1469\n",
       "23                     1313\n",
       "21                     1259\n",
       "24                     1138\n",
       "40                     1029\n",
       "26                      784\n",
       "28                      777\n",
       "27                      742\n",
       "32                      725\n",
       "38                      628\n",
       "33                      589\n",
       "37                      579\n",
       "34                      555\n",
       "36                      554\n",
       "29                      412\n",
       "31                      356\n",
       "39                      323\n",
       "More than 50 years      265\n",
       "42                      242\n",
       "45                      219\n",
       "41                      191\n",
       "43                      175\n",
       "44                      121\n",
       "50                       93\n",
       "46                       71\n",
       "48                       66\n",
       "47                       63\n",
       "49                       46\n",
       "Name: YearsCode, dtype: int64"
      ]
     },
     "execution_count": 383,
     "metadata": {},
     "output_type": "execute_result"
    }
   ],
   "source": [
    "df['YearsCode'].value_counts()"
   ]
  },
  {
   "cell_type": "code",
   "execution_count": 384,
   "id": "f7fb1f86",
   "metadata": {},
   "outputs": [],
   "source": [
    "# It's numerical column, so just replace some strings. "
   ]
  },
  {
   "cell_type": "code",
   "execution_count": 385,
   "id": "b3e91a09",
   "metadata": {},
   "outputs": [],
   "source": [
    "# Let's assume that More than 50 years is 50 years and less than one year is 0.5 year"
   ]
  },
  {
   "cell_type": "code",
   "execution_count": 386,
   "id": "e9c7b414",
   "metadata": {},
   "outputs": [],
   "source": [
    "def replace_string_years(row):\n",
    "    if('More than 50 years' in str(row)):\n",
    "        return 55.0\n",
    "    elif('Less than 1 year' in str(row)):\n",
    "        return 0.5\n",
    "    else:\n",
    "        return float(row)"
   ]
  },
  {
   "cell_type": "code",
   "execution_count": 387,
   "id": "0b7033ef",
   "metadata": {},
   "outputs": [],
   "source": [
    "df['YearsCode'] = df['YearsCode'].apply(lambda row: replace_string_years(row))"
   ]
  },
  {
   "cell_type": "code",
   "execution_count": 388,
   "id": "237f7081",
   "metadata": {},
   "outputs": [
    {
     "data": {
      "text/plain": [
       "10.0    11216\n",
       "5.0     11178\n",
       "6.0      9933\n",
       "4.0      8881\n",
       "7.0      8727\n",
       "8.0      8704\n",
       "3.0      8049\n",
       "15.0     6502\n",
       "20.0     6168\n",
       "12.0     5952\n",
       "2.0      5818\n",
       "9.0      5658\n",
       "11.0     3923\n",
       "14.0     3588\n",
       "13.0     3486\n",
       "25.0     2981\n",
       "18.0     2980\n",
       "16.0     2787\n",
       "1.0      2688\n",
       "30.0     2644\n",
       "17.0     2399\n",
       "0.5      2095\n",
       "22.0     1803\n",
       "19.0     1669\n",
       "35.0     1469\n",
       "23.0     1313\n",
       "21.0     1259\n",
       "24.0     1138\n",
       "40.0     1029\n",
       "26.0      784\n",
       "28.0      777\n",
       "27.0      742\n",
       "32.0      725\n",
       "38.0      628\n",
       "33.0      589\n",
       "37.0      579\n",
       "34.0      555\n",
       "36.0      554\n",
       "29.0      412\n",
       "31.0      356\n",
       "39.0      323\n",
       "55.0      265\n",
       "42.0      242\n",
       "45.0      219\n",
       "41.0      191\n",
       "43.0      175\n",
       "44.0      121\n",
       "50.0       93\n",
       "46.0       71\n",
       "48.0       66\n",
       "47.0       63\n",
       "49.0       46\n",
       "Name: YearsCode, dtype: int64"
      ]
     },
     "execution_count": 388,
     "metadata": {},
     "output_type": "execute_result"
    }
   ],
   "source": [
    "df['YearsCode'].value_counts()"
   ]
  },
  {
   "cell_type": "code",
   "execution_count": 389,
   "id": "cbabb55d",
   "metadata": {},
   "outputs": [],
   "source": [
    "# Now we have just numerical values"
   ]
  },
  {
   "cell_type": "code",
   "execution_count": 390,
   "id": "2b419156",
   "metadata": {},
   "outputs": [],
   "source": [
    "# 11. Age1stCode"
   ]
  },
  {
   "cell_type": "code",
   "execution_count": 391,
   "id": "eb914d4f",
   "metadata": {},
   "outputs": [
    {
     "data": {
      "text/plain": [
       "15    14207\n",
       "16    14004\n",
       "14    13897\n",
       "18    13199\n",
       "12    12788\n",
       "      ...  \n",
       "72        1\n",
       "77        1\n",
       "83        1\n",
       "62        1\n",
       "61        1\n",
       "Name: Age1stCode, Length: 74, dtype: int64"
      ]
     },
     "execution_count": 391,
     "metadata": {},
     "output_type": "execute_result"
    }
   ],
   "source": [
    "df['Age1stCode'].value_counts()"
   ]
  },
  {
   "cell_type": "code",
   "execution_count": 392,
   "id": "a1187674",
   "metadata": {},
   "outputs": [
    {
     "ename": "ValueError",
     "evalue": "could not convert string to float: 'Younger than 5 years'",
     "output_type": "error",
     "traceback": [
      "\u001b[1;31m---------------------------------------------------------------------------\u001b[0m",
      "\u001b[1;31mValueError\u001b[0m                                Traceback (most recent call last)",
      "\u001b[1;32m~\\AppData\\Local\\Temp/ipykernel_9596/322691699.py\u001b[0m in \u001b[0;36m<module>\u001b[1;34m\u001b[0m\n\u001b[1;32m----> 1\u001b[1;33m \u001b[0mdf\u001b[0m\u001b[1;33m[\u001b[0m\u001b[1;34m'Age1stCode'\u001b[0m\u001b[1;33m]\u001b[0m \u001b[1;33m=\u001b[0m \u001b[0mdf\u001b[0m\u001b[1;33m[\u001b[0m\u001b[1;34m'Age1stCode'\u001b[0m\u001b[1;33m]\u001b[0m\u001b[1;33m.\u001b[0m\u001b[0mapply\u001b[0m\u001b[1;33m(\u001b[0m\u001b[1;32mlambda\u001b[0m \u001b[0mrow\u001b[0m\u001b[1;33m:\u001b[0m \u001b[0mfloat\u001b[0m\u001b[1;33m(\u001b[0m\u001b[0mrow\u001b[0m\u001b[1;33m)\u001b[0m\u001b[1;33m)\u001b[0m\u001b[1;33m\u001b[0m\u001b[1;33m\u001b[0m\u001b[0m\n\u001b[0m",
      "\u001b[1;32m~\\Anaconda3\\lib\\site-packages\\pandas\\core\\series.py\u001b[0m in \u001b[0;36mapply\u001b[1;34m(self, func, convert_dtype, args, **kwds)\u001b[0m\n\u001b[0;32m   4211\u001b[0m             \u001b[1;32melse\u001b[0m\u001b[1;33m:\u001b[0m\u001b[1;33m\u001b[0m\u001b[1;33m\u001b[0m\u001b[0m\n\u001b[0;32m   4212\u001b[0m                 \u001b[0mvalues\u001b[0m \u001b[1;33m=\u001b[0m \u001b[0mself\u001b[0m\u001b[1;33m.\u001b[0m\u001b[0mastype\u001b[0m\u001b[1;33m(\u001b[0m\u001b[0mobject\u001b[0m\u001b[1;33m)\u001b[0m\u001b[1;33m.\u001b[0m\u001b[0m_values\u001b[0m\u001b[1;33m\u001b[0m\u001b[1;33m\u001b[0m\u001b[0m\n\u001b[1;32m-> 4213\u001b[1;33m                 \u001b[0mmapped\u001b[0m \u001b[1;33m=\u001b[0m \u001b[0mlib\u001b[0m\u001b[1;33m.\u001b[0m\u001b[0mmap_infer\u001b[0m\u001b[1;33m(\u001b[0m\u001b[0mvalues\u001b[0m\u001b[1;33m,\u001b[0m \u001b[0mf\u001b[0m\u001b[1;33m,\u001b[0m \u001b[0mconvert\u001b[0m\u001b[1;33m=\u001b[0m\u001b[0mconvert_dtype\u001b[0m\u001b[1;33m)\u001b[0m\u001b[1;33m\u001b[0m\u001b[1;33m\u001b[0m\u001b[0m\n\u001b[0m\u001b[0;32m   4214\u001b[0m \u001b[1;33m\u001b[0m\u001b[0m\n\u001b[0;32m   4215\u001b[0m         \u001b[1;32mif\u001b[0m \u001b[0mlen\u001b[0m\u001b[1;33m(\u001b[0m\u001b[0mmapped\u001b[0m\u001b[1;33m)\u001b[0m \u001b[1;32mand\u001b[0m \u001b[0misinstance\u001b[0m\u001b[1;33m(\u001b[0m\u001b[0mmapped\u001b[0m\u001b[1;33m[\u001b[0m\u001b[1;36m0\u001b[0m\u001b[1;33m]\u001b[0m\u001b[1;33m,\u001b[0m \u001b[0mSeries\u001b[0m\u001b[1;33m)\u001b[0m\u001b[1;33m:\u001b[0m\u001b[1;33m\u001b[0m\u001b[1;33m\u001b[0m\u001b[0m\n",
      "\u001b[1;32mpandas\\_libs\\lib.pyx\u001b[0m in \u001b[0;36mpandas._libs.lib.map_infer\u001b[1;34m()\u001b[0m\n",
      "\u001b[1;32m~\\AppData\\Local\\Temp/ipykernel_9596/322691699.py\u001b[0m in \u001b[0;36m<lambda>\u001b[1;34m(row)\u001b[0m\n\u001b[1;32m----> 1\u001b[1;33m \u001b[0mdf\u001b[0m\u001b[1;33m[\u001b[0m\u001b[1;34m'Age1stCode'\u001b[0m\u001b[1;33m]\u001b[0m \u001b[1;33m=\u001b[0m \u001b[0mdf\u001b[0m\u001b[1;33m[\u001b[0m\u001b[1;34m'Age1stCode'\u001b[0m\u001b[1;33m]\u001b[0m\u001b[1;33m.\u001b[0m\u001b[0mapply\u001b[0m\u001b[1;33m(\u001b[0m\u001b[1;32mlambda\u001b[0m \u001b[0mrow\u001b[0m\u001b[1;33m:\u001b[0m \u001b[0mfloat\u001b[0m\u001b[1;33m(\u001b[0m\u001b[0mrow\u001b[0m\u001b[1;33m)\u001b[0m\u001b[1;33m)\u001b[0m\u001b[1;33m\u001b[0m\u001b[1;33m\u001b[0m\u001b[0m\n\u001b[0m",
      "\u001b[1;31mValueError\u001b[0m: could not convert string to float: 'Younger than 5 years'"
     ]
    }
   ],
   "source": [
    "df['Age1stCode'] = df['Age1stCode'].apply(lambda row: float(row))"
   ]
  },
  {
   "cell_type": "code",
   "execution_count": 393,
   "id": "54ebdc1c",
   "metadata": {},
   "outputs": [
    {
     "ename": "TypeError",
     "evalue": "argument of type 'float' is not iterable",
     "output_type": "error",
     "traceback": [
      "\u001b[1;31m---------------------------------------------------------------------------\u001b[0m",
      "\u001b[1;31mTypeError\u001b[0m                                 Traceback (most recent call last)",
      "\u001b[1;32m~\\AppData\\Local\\Temp/ipykernel_9596/947114272.py\u001b[0m in \u001b[0;36m<module>\u001b[1;34m\u001b[0m\n\u001b[1;32m----> 1\u001b[1;33m \u001b[0mdf\u001b[0m\u001b[1;33m[\u001b[0m\u001b[1;34m'Age1stCode'\u001b[0m\u001b[1;33m]\u001b[0m \u001b[1;33m=\u001b[0m \u001b[0mdf\u001b[0m\u001b[1;33m[\u001b[0m\u001b[1;34m'Age1stCode'\u001b[0m\u001b[1;33m]\u001b[0m\u001b[1;33m.\u001b[0m\u001b[0mapply\u001b[0m\u001b[1;33m(\u001b[0m\u001b[1;32mlambda\u001b[0m \u001b[0mrow\u001b[0m\u001b[1;33m:\u001b[0m \u001b[0mfloat\u001b[0m\u001b[1;33m(\u001b[0m\u001b[0mrow\u001b[0m\u001b[1;33m)\u001b[0m \u001b[1;32mif\u001b[0m \u001b[1;32mnot\u001b[0m \u001b[1;34m'Younger than 5 years'\u001b[0m \u001b[1;32min\u001b[0m \u001b[0mrow\u001b[0m \u001b[1;32melse\u001b[0m \u001b[0mrow\u001b[0m\u001b[1;33m.\u001b[0m\u001b[0mreplace\u001b[0m\u001b[1;33m(\u001b[0m\u001b[1;34m'Younger than 5 years'\u001b[0m\u001b[1;33m,\u001b[0m \u001b[1;34m'3'\u001b[0m\u001b[1;33m)\u001b[0m\u001b[1;33m)\u001b[0m\u001b[1;33m\u001b[0m\u001b[1;33m\u001b[0m\u001b[0m\n\u001b[0m",
      "\u001b[1;32m~\\Anaconda3\\lib\\site-packages\\pandas\\core\\series.py\u001b[0m in \u001b[0;36mapply\u001b[1;34m(self, func, convert_dtype, args, **kwds)\u001b[0m\n\u001b[0;32m   4211\u001b[0m             \u001b[1;32melse\u001b[0m\u001b[1;33m:\u001b[0m\u001b[1;33m\u001b[0m\u001b[1;33m\u001b[0m\u001b[0m\n\u001b[0;32m   4212\u001b[0m                 \u001b[0mvalues\u001b[0m \u001b[1;33m=\u001b[0m \u001b[0mself\u001b[0m\u001b[1;33m.\u001b[0m\u001b[0mastype\u001b[0m\u001b[1;33m(\u001b[0m\u001b[0mobject\u001b[0m\u001b[1;33m)\u001b[0m\u001b[1;33m.\u001b[0m\u001b[0m_values\u001b[0m\u001b[1;33m\u001b[0m\u001b[1;33m\u001b[0m\u001b[0m\n\u001b[1;32m-> 4213\u001b[1;33m                 \u001b[0mmapped\u001b[0m \u001b[1;33m=\u001b[0m \u001b[0mlib\u001b[0m\u001b[1;33m.\u001b[0m\u001b[0mmap_infer\u001b[0m\u001b[1;33m(\u001b[0m\u001b[0mvalues\u001b[0m\u001b[1;33m,\u001b[0m \u001b[0mf\u001b[0m\u001b[1;33m,\u001b[0m \u001b[0mconvert\u001b[0m\u001b[1;33m=\u001b[0m\u001b[0mconvert_dtype\u001b[0m\u001b[1;33m)\u001b[0m\u001b[1;33m\u001b[0m\u001b[1;33m\u001b[0m\u001b[0m\n\u001b[0m\u001b[0;32m   4214\u001b[0m \u001b[1;33m\u001b[0m\u001b[0m\n\u001b[0;32m   4215\u001b[0m         \u001b[1;32mif\u001b[0m \u001b[0mlen\u001b[0m\u001b[1;33m(\u001b[0m\u001b[0mmapped\u001b[0m\u001b[1;33m)\u001b[0m \u001b[1;32mand\u001b[0m \u001b[0misinstance\u001b[0m\u001b[1;33m(\u001b[0m\u001b[0mmapped\u001b[0m\u001b[1;33m[\u001b[0m\u001b[1;36m0\u001b[0m\u001b[1;33m]\u001b[0m\u001b[1;33m,\u001b[0m \u001b[0mSeries\u001b[0m\u001b[1;33m)\u001b[0m\u001b[1;33m:\u001b[0m\u001b[1;33m\u001b[0m\u001b[1;33m\u001b[0m\u001b[0m\n",
      "\u001b[1;32mpandas\\_libs\\lib.pyx\u001b[0m in \u001b[0;36mpandas._libs.lib.map_infer\u001b[1;34m()\u001b[0m\n",
      "\u001b[1;32m~\\AppData\\Local\\Temp/ipykernel_9596/947114272.py\u001b[0m in \u001b[0;36m<lambda>\u001b[1;34m(row)\u001b[0m\n\u001b[1;32m----> 1\u001b[1;33m \u001b[0mdf\u001b[0m\u001b[1;33m[\u001b[0m\u001b[1;34m'Age1stCode'\u001b[0m\u001b[1;33m]\u001b[0m \u001b[1;33m=\u001b[0m \u001b[0mdf\u001b[0m\u001b[1;33m[\u001b[0m\u001b[1;34m'Age1stCode'\u001b[0m\u001b[1;33m]\u001b[0m\u001b[1;33m.\u001b[0m\u001b[0mapply\u001b[0m\u001b[1;33m(\u001b[0m\u001b[1;32mlambda\u001b[0m \u001b[0mrow\u001b[0m\u001b[1;33m:\u001b[0m \u001b[0mfloat\u001b[0m\u001b[1;33m(\u001b[0m\u001b[0mrow\u001b[0m\u001b[1;33m)\u001b[0m \u001b[1;32mif\u001b[0m \u001b[1;32mnot\u001b[0m \u001b[1;34m'Younger than 5 years'\u001b[0m \u001b[1;32min\u001b[0m \u001b[0mrow\u001b[0m \u001b[1;32melse\u001b[0m \u001b[0mrow\u001b[0m\u001b[1;33m.\u001b[0m\u001b[0mreplace\u001b[0m\u001b[1;33m(\u001b[0m\u001b[1;34m'Younger than 5 years'\u001b[0m\u001b[1;33m,\u001b[0m \u001b[1;34m'3'\u001b[0m\u001b[1;33m)\u001b[0m\u001b[1;33m)\u001b[0m\u001b[1;33m\u001b[0m\u001b[1;33m\u001b[0m\u001b[0m\n\u001b[0m",
      "\u001b[1;31mTypeError\u001b[0m: argument of type 'float' is not iterable"
     ]
    }
   ],
   "source": [
    "df['Age1stCode'] = df['Age1stCode'].apply(lambda row: float(row) if not 'Younger than 5 years' in row else row.replace('Younger than 5 years', '3'))"
   ]
  },
  {
   "cell_type": "code",
   "execution_count": 394,
   "id": "bda5dd07",
   "metadata": {},
   "outputs": [],
   "source": [
    "def replaceAge(row):\n",
    "    if('Younger than 5 years' in str(row)):\n",
    "        return 3.0\n",
    "    elif('Older than 85' in str(row)):\n",
    "        return 90\n",
    "    else:\n",
    "        return float(row)  "
   ]
  },
  {
   "cell_type": "code",
   "execution_count": 395,
   "id": "1137ee47",
   "metadata": {},
   "outputs": [],
   "source": [
    "df['Age1stCode'] = df['Age1stCode'].apply(lambda row: replaceAge(row))"
   ]
  },
  {
   "cell_type": "code",
   "execution_count": 396,
   "id": "390cde2e",
   "metadata": {},
   "outputs": [],
   "source": [
    "# Column looks good"
   ]
  },
  {
   "cell_type": "code",
   "execution_count": 397,
   "id": "98de02d3",
   "metadata": {},
   "outputs": [],
   "source": [
    "# 12. YearsCodePro "
   ]
  },
  {
   "cell_type": "code",
   "execution_count": 398,
   "id": "997f0d55",
   "metadata": {},
   "outputs": [
    {
     "data": {
      "text/plain": [
       "2                     12671\n",
       "3                     12508\n",
       "5                     10325\n",
       "4                      9951\n",
       "6                      7216\n",
       "1                      7202\n",
       "10                     7068\n",
       "Less than 1 year       6120\n",
       "7                      5861\n",
       "8                      5649\n",
       "12                     3674\n",
       "15                     3642\n",
       "20                     3466\n",
       "9                      3191\n",
       "11                     2603\n",
       "13                     2274\n",
       "14                     1896\n",
       "18                     1694\n",
       "16                     1398\n",
       "25                     1313\n",
       "19                     1141\n",
       "22                     1134\n",
       "17                     1101\n",
       "30                      921\n",
       "21                      887\n",
       "23                      775\n",
       "24                      597\n",
       "35                      384\n",
       "26                      380\n",
       "28                      351\n",
       "27                      351\n",
       "32                      278\n",
       "40                      229\n",
       "33                      229\n",
       "29                      200\n",
       "31                      194\n",
       "34                      187\n",
       "38                      155\n",
       "36                      146\n",
       "37                      120\n",
       "39                       94\n",
       "More than 50 years       87\n",
       "42                       56\n",
       "45                       49\n",
       "41                       46\n",
       "43                       40\n",
       "44                       31\n",
       "50                       18\n",
       "46                       14\n",
       "48                       13\n",
       "47                       12\n",
       "49                        6\n",
       "Name: YearsCodePro, dtype: int64"
      ]
     },
     "execution_count": 398,
     "metadata": {},
     "output_type": "execute_result"
    }
   ],
   "source": [
    "df['YearsCodePro'].value_counts()"
   ]
  },
  {
   "cell_type": "code",
   "execution_count": 399,
   "id": "7a3e5429",
   "metadata": {},
   "outputs": [],
   "source": [
    "# Replace with implemented function replace_string_years"
   ]
  },
  {
   "cell_type": "code",
   "execution_count": 400,
   "id": "723968cc",
   "metadata": {},
   "outputs": [],
   "source": [
    "df['YearsCodePro'] = df['YearsCodePro'].apply(lambda row: replace_string_years(row))"
   ]
  },
  {
   "cell_type": "code",
   "execution_count": 401,
   "id": "35378dea",
   "metadata": {},
   "outputs": [
    {
     "data": {
      "text/plain": [
       "2.0     12671\n",
       "3.0     12508\n",
       "5.0     10325\n",
       "4.0      9951\n",
       "6.0      7216\n",
       "1.0      7202\n",
       "10.0     7068\n",
       "0.5      6120\n",
       "7.0      5861\n",
       "8.0      5649\n",
       "12.0     3674\n",
       "15.0     3642\n",
       "20.0     3466\n",
       "9.0      3191\n",
       "11.0     2603\n",
       "13.0     2274\n",
       "14.0     1896\n",
       "18.0     1694\n",
       "16.0     1398\n",
       "25.0     1313\n",
       "19.0     1141\n",
       "22.0     1134\n",
       "17.0     1101\n",
       "30.0      921\n",
       "21.0      887\n",
       "23.0      775\n",
       "24.0      597\n",
       "35.0      384\n",
       "26.0      380\n",
       "28.0      351\n",
       "27.0      351\n",
       "32.0      278\n",
       "33.0      229\n",
       "40.0      229\n",
       "29.0      200\n",
       "31.0      194\n",
       "34.0      187\n",
       "38.0      155\n",
       "36.0      146\n",
       "37.0      120\n",
       "39.0       94\n",
       "55.0       87\n",
       "42.0       56\n",
       "45.0       49\n",
       "41.0       46\n",
       "43.0       40\n",
       "44.0       31\n",
       "50.0       18\n",
       "46.0       14\n",
       "48.0       13\n",
       "47.0       12\n",
       "49.0        6\n",
       "Name: YearsCodePro, dtype: int64"
      ]
     },
     "execution_count": 401,
     "metadata": {},
     "output_type": "execute_result"
    }
   ],
   "source": [
    "df['YearsCodePro'].value_counts()"
   ]
  },
  {
   "cell_type": "code",
   "execution_count": 402,
   "id": "fc1f7767",
   "metadata": {},
   "outputs": [],
   "source": [
    "# 13. JobSat"
   ]
  },
  {
   "cell_type": "code",
   "execution_count": 403,
   "id": "cddf0db7",
   "metadata": {},
   "outputs": [
    {
     "data": {
      "text/plain": [
       "Slightly satisfied                    37940\n",
       "Very satisfied                        36893\n",
       "Slightly dissatisfied                 17754\n",
       "Neither satisfied nor dissatisfied    14388\n",
       "Very dissatisfied                      8543\n",
       "Name: JobSat, dtype: int64"
      ]
     },
     "execution_count": 403,
     "metadata": {},
     "output_type": "execute_result"
    }
   ],
   "source": [
    "df['JobSat'].value_counts()"
   ]
  },
  {
   "cell_type": "code",
   "execution_count": 404,
   "id": "543f0d45",
   "metadata": {},
   "outputs": [],
   "source": [
    "# Simple one hot-encoding"
   ]
  },
  {
   "cell_type": "code",
   "execution_count": 405,
   "id": "31b5cd7e",
   "metadata": {},
   "outputs": [],
   "source": [
    "df = pd.get_dummies(df, columns=['JobSat'])"
   ]
  },
  {
   "cell_type": "code",
   "execution_count": 406,
   "id": "18ac49d2",
   "metadata": {},
   "outputs": [],
   "source": [
    "# 14. JobSeek - target variable, leave as it is for now"
   ]
  },
  {
   "cell_type": "code",
   "execution_count": 407,
   "id": "031188cb",
   "metadata": {},
   "outputs": [
    {
     "data": {
      "text/plain": [
       "I’m not actively looking, but I am open to new opportunities    76558\n",
       "I am not interested in new job opportunities                    33955\n",
       "I am actively looking for a job                                 20925\n",
       "Name: JobSeek, dtype: int64"
      ]
     },
     "execution_count": 407,
     "metadata": {},
     "output_type": "execute_result"
    }
   ],
   "source": [
    "df['JobSeek'].value_counts()"
   ]
  },
  {
   "cell_type": "code",
   "execution_count": 408,
   "id": "b8b21ff7",
   "metadata": {},
   "outputs": [],
   "source": [
    "# 15. JobFactors"
   ]
  },
  {
   "cell_type": "code",
   "execution_count": 409,
   "id": "d8125f5f",
   "metadata": {},
   "outputs": [
    {
     "data": {
      "text/plain": [
       "Languages, frameworks, and other technologies I'd be working with;Office environment or company culture;Opportunities for professional development    4966\n",
       "Languages, frameworks, and other technologies I'd be working with;Office environment or company culture;Flex time or a flexible schedule              4921\n",
       "Languages, frameworks, and other technologies I'd be working with;Remote work options;Flex time or a flexible schedule                                4692\n",
       "Office environment or company culture;Opportunities for professional development;Flex time or a flexible schedule                                     3309\n",
       "Languages, frameworks, and other technologies I'd be working with;Opportunities for professional development;Flex time or a flexible schedule         3233\n",
       "                                                                                                                                                      ... \n",
       "Financial performance or funding status of the company or organization;Diversity of the company or organization                                          2\n",
       "Specific department or team I'd be working on;Diversity of the company or organization                                                                   2\n",
       "Diversity of the company or organization;Family friendliness                                                                                             2\n",
       "Diversity of the company or organization;Financial performance or funding status of the company or organization                                          2\n",
       "Diversity of the company or organization;Specific department or team I’d be working on                                                                   1\n",
       "Name: JobFactors, Length: 389, dtype: int64"
      ]
     },
     "execution_count": 409,
     "metadata": {},
     "output_type": "execute_result"
    }
   ],
   "source": [
    "df['JobFactors'].value_counts()"
   ]
  },
  {
   "cell_type": "code",
   "execution_count": 410,
   "id": "d375a5bb",
   "metadata": {},
   "outputs": [],
   "source": [
    "factors_list = list(df.JobFactors.str.get_dummies(sep=';').columns)"
   ]
  },
  {
   "cell_type": "code",
   "execution_count": 411,
   "id": "26b5ef7f",
   "metadata": {},
   "outputs": [
    {
     "data": {
      "text/plain": [
       "['Diversity of the company or organization',\n",
       " 'Family friendliness',\n",
       " 'Financial performance or funding status of the company or organization',\n",
       " 'Flex time or a flexible schedule',\n",
       " 'How widely used or impactful my work output would be',\n",
       " \"Industry that I'd be working in\",\n",
       " 'Industry that I’d be working in',\n",
       " \"Languages, frameworks, and other technologies I'd be working with\",\n",
       " 'Languages, frameworks, and other technologies I’d be working with',\n",
       " 'Office environment or company culture',\n",
       " 'Opportunities for professional development',\n",
       " 'Remote work options',\n",
       " \"Specific department or team I'd be working on\",\n",
       " 'Specific department or team I’d be working on']"
      ]
     },
     "execution_count": 411,
     "metadata": {},
     "output_type": "execute_result"
    }
   ],
   "source": [
    "factors_list"
   ]
  },
  {
   "cell_type": "code",
   "execution_count": 412,
   "id": "ad05aab1",
   "metadata": {},
   "outputs": [],
   "source": [
    "# Add values to dataframe\n",
    "df = pd.concat([df.drop('JobFactors', 1), df['JobFactors'].str.get_dummies(sep=';').add_prefix('JobFactors_')], 1)"
   ]
  },
  {
   "cell_type": "code",
   "execution_count": 413,
   "id": "f8755efc",
   "metadata": {},
   "outputs": [],
   "source": [
    "# 16. CurrencySymbol"
   ]
  },
  {
   "cell_type": "code",
   "execution_count": 414,
   "id": "d17b8f65",
   "metadata": {},
   "outputs": [
    {
     "data": {
      "text/plain": [
       "USD    30426\n",
       "EUR    25308\n",
       "INR    11618\n",
       "GBP     8023\n",
       "CAD     4250\n",
       "       ...  \n",
       "SZL        1\n",
       "KGS        1\n",
       "BND        1\n",
       "MRU        1\n",
       "MVR        1\n",
       "Name: CurrencySymbol, Length: 132, dtype: int64"
      ]
     },
     "execution_count": 414,
     "metadata": {},
     "output_type": "execute_result"
    }
   ],
   "source": [
    "df['CurrencySymbol'].value_counts()"
   ]
  },
  {
   "cell_type": "code",
   "execution_count": 415,
   "id": "0b71c584",
   "metadata": {},
   "outputs": [
    {
     "data": {
      "text/plain": [
       "PYG    49\n",
       "BOB    45\n",
       "MMK    45\n",
       "XAF    41\n",
       "XOF    34\n",
       "TZS    32\n",
       "ANG    30\n",
       "IQD    28\n",
       "VES    27\n",
       "UZS    26\n",
       "SDG    25\n",
       "AOA    22\n",
       "CUP    21\n",
       "NIO    17\n",
       "XPF    16\n",
       "ZMW    12\n",
       "KHR     7\n",
       "BMD     7\n",
       "AWG     7\n",
       "XDR     6\n",
       "non     5\n",
       "BSD     4\n",
       "BWP     4\n",
       "GIP     4\n",
       "DJF     4\n",
       "FJD     3\n",
       "GNF     3\n",
       "BBD     3\n",
       "FKP     3\n",
       "CDF     2\n",
       "YER     2\n",
       "XCD     2\n",
       "WST     2\n",
       "SLL     2\n",
       "SYP     2\n",
       "TTD     2\n",
       "IMP     2\n",
       "BHD     2\n",
       "BZD     2\n",
       "QAR     2\n",
       "SRD     2\n",
       "VUV     2\n",
       "HNL     1\n",
       "MUR     1\n",
       "KYD     1\n",
       "MNT     1\n",
       "LAK     1\n",
       "MOP     1\n",
       "BTN     1\n",
       "LSL     1\n",
       "HTG     1\n",
       "MGA     1\n",
       "GGP     1\n",
       "RWF     1\n",
       "SZL     1\n",
       "KGS     1\n",
       "BND     1\n",
       "MRU     1\n",
       "MVR     1\n",
       "Name: CurrencySymbol, dtype: int64"
      ]
     },
     "execution_count": 415,
     "metadata": {},
     "output_type": "execute_result"
    }
   ],
   "source": [
    "# Remove records with not popular CurrencySymbols \n",
    "df['CurrencySymbol'].value_counts()[df['CurrencySymbol'].value_counts() < 50]"
   ]
  },
  {
   "cell_type": "code",
   "execution_count": 416,
   "id": "e80eb56e",
   "metadata": {},
   "outputs": [],
   "source": [
    "symbols_to_remove = df['CurrencySymbol'].value_counts()[df['CurrencySymbol'].value_counts() < 50].index"
   ]
  },
  {
   "cell_type": "code",
   "execution_count": 417,
   "id": "bc156b2e",
   "metadata": {},
   "outputs": [
    {
     "data": {
      "text/plain": [
       "Index(['PYG', 'BOB', 'MMK', 'XAF', 'XOF', 'TZS', 'ANG', 'IQD', 'VES', 'UZS',\n",
       "       'SDG', 'AOA', 'CUP', 'NIO', 'XPF', 'ZMW', 'KHR', 'BMD', 'AWG', 'XDR',\n",
       "       'non', 'BSD', 'BWP', 'GIP', 'DJF', 'FJD', 'GNF', 'BBD', 'FKP', 'CDF',\n",
       "       'YER', 'XCD', 'WST', 'SLL', 'SYP', 'TTD', 'IMP', 'BHD', 'BZD', 'QAR',\n",
       "       'SRD', 'VUV', 'HNL', 'MUR', 'KYD', 'MNT', 'LAK', 'MOP', 'BTN', 'LSL',\n",
       "       'HTG', 'MGA', 'GGP', 'RWF', 'SZL', 'KGS', 'BND', 'MRU', 'MVR'],\n",
       "      dtype='object')"
      ]
     },
     "execution_count": 417,
     "metadata": {},
     "output_type": "execute_result"
    }
   ],
   "source": [
    "symbols_to_remove"
   ]
  },
  {
   "cell_type": "code",
   "execution_count": 418,
   "id": "874d68e5",
   "metadata": {},
   "outputs": [],
   "source": [
    "# Remove rows with symbols from above list\n",
    "df = df[~df['CurrencySymbol'].isin(symbols_to_remove)]"
   ]
  },
  {
   "cell_type": "code",
   "execution_count": 419,
   "id": "79aac95d",
   "metadata": {},
   "outputs": [
    {
     "data": {
      "text/plain": [
       "USD    30426\n",
       "EUR    25308\n",
       "INR    11618\n",
       "GBP     8023\n",
       "CAD     4250\n",
       "       ...  \n",
       "CRC       65\n",
       "MKD       59\n",
       "AZN       59\n",
       "MDL       57\n",
       "ETB       56\n",
       "Name: CurrencySymbol, Length: 73, dtype: int64"
      ]
     },
     "execution_count": 419,
     "metadata": {},
     "output_type": "execute_result"
    }
   ],
   "source": [
    "df['CurrencySymbol'].value_counts()"
   ]
  },
  {
   "cell_type": "code",
   "execution_count": 420,
   "id": "e5675972",
   "metadata": {},
   "outputs": [],
   "source": [
    "df = pd.get_dummies(df, columns=['CurrencySymbol'])"
   ]
  },
  {
   "cell_type": "code",
   "execution_count": 421,
   "id": "5c5c3884",
   "metadata": {},
   "outputs": [],
   "source": [
    "# 17. CurrencyDesc"
   ]
  },
  {
   "cell_type": "code",
   "execution_count": 422,
   "id": "53c37949",
   "metadata": {},
   "outputs": [
    {
     "data": {
      "text/plain": [
       "United States dollar    30426\n",
       "European Euro           25308\n",
       "Indian rupee            11618\n",
       "Pound sterling           8023\n",
       "Canadian dollar          4250\n",
       "                        ...  \n",
       "Costa Rican colon          65\n",
       "Azerbaijan manat           59\n",
       "Macedonian denar           59\n",
       "Moldovan leu               57\n",
       "Ethiopian birr             56\n",
       "Name: CurrencyDesc, Length: 73, dtype: int64"
      ]
     },
     "execution_count": 422,
     "metadata": {},
     "output_type": "execute_result"
    }
   ],
   "source": [
    "df['CurrencyDesc'].value_counts()"
   ]
  },
  {
   "cell_type": "code",
   "execution_count": 423,
   "id": "f239ed43",
   "metadata": {},
   "outputs": [],
   "source": [
    "# Simple one hot-encoding\n",
    "df = pd.get_dummies(df, columns=['CurrencyDesc'])"
   ]
  },
  {
   "cell_type": "code",
   "execution_count": 424,
   "id": "87f75db4",
   "metadata": {},
   "outputs": [],
   "source": [
    "# 18. CompTotal"
   ]
  },
  {
   "cell_type": "code",
   "execution_count": 425,
   "id": "c646a501",
   "metadata": {},
   "outputs": [
    {
     "data": {
      "text/plain": [
       "60000.0      1981\n",
       "100000.0     1941\n",
       "50000.0      1857\n",
       "80000.0      1670\n",
       "70000.0      1620\n",
       "             ... \n",
       "42045.0         1\n",
       "29214.0         1\n",
       "1345000.0       1\n",
       "2689655.0       1\n",
       "156500.0        1\n",
       "Name: CompTotal, Length: 5627, dtype: int64"
      ]
     },
     "execution_count": 425,
     "metadata": {},
     "output_type": "execute_result"
    }
   ],
   "source": [
    "df['CompTotal'].value_counts()"
   ]
  },
  {
   "cell_type": "code",
   "execution_count": 426,
   "id": "c9b8efbd",
   "metadata": {},
   "outputs": [],
   "source": [
    "# Looks good"
   ]
  },
  {
   "cell_type": "code",
   "execution_count": 427,
   "id": "dc04cb22",
   "metadata": {},
   "outputs": [],
   "source": [
    "# 19. CompFreq"
   ]
  },
  {
   "cell_type": "code",
   "execution_count": 428,
   "id": "77915824",
   "metadata": {},
   "outputs": [
    {
     "data": {
      "text/plain": [
       "Yearly     51204\n",
       "Monthly    47126\n",
       "Weekly      3968\n",
       "Name: CompFreq, dtype: int64"
      ]
     },
     "execution_count": 428,
     "metadata": {},
     "output_type": "execute_result"
    }
   ],
   "source": [
    "df['CompFreq'].value_counts()"
   ]
  },
  {
   "cell_type": "code",
   "execution_count": 429,
   "id": "4a21fee7",
   "metadata": {},
   "outputs": [],
   "source": [
    "# Simple one hot-encoding\n",
    "df = pd.get_dummies(df, columns=['CompFreq'])"
   ]
  },
  {
   "cell_type": "code",
   "execution_count": 430,
   "id": "6490c138",
   "metadata": {},
   "outputs": [],
   "source": [
    "# 20. ConvertedComp"
   ]
  },
  {
   "cell_type": "code",
   "execution_count": 431,
   "id": "70afc916",
   "metadata": {},
   "outputs": [
    {
     "data": {
      "text/plain": [
       "2000000.0    966\n",
       "120000.0     843\n",
       "1000000.0    809\n",
       "100000.0     785\n",
       "150000.0     709\n",
       "            ... \n",
       "88489.0        1\n",
       "24780.0        1\n",
       "54924.0        1\n",
       "9500.0         1\n",
       "50711.0        1\n",
       "Name: ConvertedComp, Length: 13577, dtype: int64"
      ]
     },
     "execution_count": 431,
     "metadata": {},
     "output_type": "execute_result"
    }
   ],
   "source": [
    "df['ConvertedComp'].value_counts()"
   ]
  },
  {
   "cell_type": "code",
   "execution_count": 432,
   "id": "9f308f83",
   "metadata": {},
   "outputs": [],
   "source": [
    "# Looks good"
   ]
  },
  {
   "cell_type": "code",
   "execution_count": 433,
   "id": "640ed4ee",
   "metadata": {},
   "outputs": [],
   "source": [
    "# 21. WorkWeekHrs"
   ]
  },
  {
   "cell_type": "code",
   "execution_count": 434,
   "id": "509219ab",
   "metadata": {},
   "outputs": [
    {
     "data": {
      "text/plain": [
       "40.00     49073\n",
       "45.00     10075\n",
       "50.00      7332\n",
       "35.00      5127\n",
       "38.00      2892\n",
       "          ...  \n",
       "31.10         1\n",
       "16.50         1\n",
       "162.00        1\n",
       "8.20          1\n",
       "33.75         1\n",
       "Name: WorkWeekHrs, Length: 232, dtype: int64"
      ]
     },
     "execution_count": 434,
     "metadata": {},
     "output_type": "execute_result"
    }
   ],
   "source": [
    "df['WorkWeekHrs'].value_counts()"
   ]
  },
  {
   "cell_type": "code",
   "execution_count": 435,
   "id": "9ba02a95",
   "metadata": {},
   "outputs": [],
   "source": [
    "# Looks good"
   ]
  },
  {
   "cell_type": "code",
   "execution_count": 436,
   "id": "411312f5",
   "metadata": {},
   "outputs": [],
   "source": [
    "# 22. PurchaseWhat"
   ]
  },
  {
   "cell_type": "code",
   "execution_count": 437,
   "id": "25631314",
   "metadata": {},
   "outputs": [
    {
     "data": {
      "text/plain": [
       "I have little or no influence       43317\n",
       "I have some influence               39267\n",
       "I have a great deal of influence    17917\n",
       "Name: PurchaseWhat, dtype: int64"
      ]
     },
     "execution_count": 437,
     "metadata": {},
     "output_type": "execute_result"
    }
   ],
   "source": [
    "df['PurchaseWhat'].value_counts()"
   ]
  },
  {
   "cell_type": "code",
   "execution_count": 438,
   "id": "6a43c2e3",
   "metadata": {},
   "outputs": [],
   "source": [
    "# Simple one hot-encoding\n",
    "df = pd.get_dummies(df, columns=['PurchaseWhat'])"
   ]
  },
  {
   "cell_type": "code",
   "execution_count": 439,
   "id": "af7d81b5",
   "metadata": {},
   "outputs": [],
   "source": [
    "# 23. LanguageWorkedWith"
   ]
  },
  {
   "cell_type": "code",
   "execution_count": 440,
   "id": "5fcbb6a3",
   "metadata": {},
   "outputs": [
    {
     "data": {
      "text/plain": [
       "HTML/CSS;JavaScript;PHP;SQL                                                    2522\n",
       "C#;HTML/CSS;JavaScript;SQL                                                     2252\n",
       "HTML/CSS;JavaScript                                                            2124\n",
       "C#;HTML/CSS;JavaScript;SQL;TypeScript                                          1732\n",
       "Java                                                                           1489\n",
       "                                                                               ... \n",
       "C;Elixir;Erlang;Java;JavaScript                                                   1\n",
       "Assembly;Bash/Shell/PowerShell;C++;C#;HTML/CSS;Java;JavaScript;PHP;Python;R       1\n",
       "Assembly;Bash/Shell/PowerShell;C;C++;Go;Java;JavaScript;R;Scala;SQL               1\n",
       "Bash/Shell/PowerShell;C++;C#;Go;Python;Rust;Other(s):                             1\n",
       "Bash/Shell/PowerShell;HTML/CSS;JavaScript;Python;Ruby;TypeScript;Other(s):        1\n",
       "Name: LanguageWorkedWith, Length: 29383, dtype: int64"
      ]
     },
     "execution_count": 440,
     "metadata": {},
     "output_type": "execute_result"
    }
   ],
   "source": [
    "df['LanguageWorkedWith'].value_counts()"
   ]
  },
  {
   "cell_type": "code",
   "execution_count": 441,
   "id": "73d54e69",
   "metadata": {},
   "outputs": [],
   "source": [
    "LanguageWorkedWith_list = list(df.LanguageWorkedWith.str.get_dummies(sep=';').columns)"
   ]
  },
  {
   "cell_type": "code",
   "execution_count": 442,
   "id": "55dd5107",
   "metadata": {},
   "outputs": [
    {
     "data": {
      "text/plain": [
       "['Assembly',\n",
       " 'Bash/Shell/PowerShell',\n",
       " 'C',\n",
       " 'C#',\n",
       " 'C++',\n",
       " 'Clojure',\n",
       " 'Dart',\n",
       " 'Elixir',\n",
       " 'Erlang',\n",
       " 'F#',\n",
       " 'Go',\n",
       " 'HTML/CSS',\n",
       " 'Haskell',\n",
       " 'Java',\n",
       " 'JavaScript',\n",
       " 'Julia',\n",
       " 'Kotlin',\n",
       " 'Objective-C',\n",
       " 'Other(s):',\n",
       " 'PHP',\n",
       " 'Perl',\n",
       " 'Python',\n",
       " 'R',\n",
       " 'Ruby',\n",
       " 'Rust',\n",
       " 'SQL',\n",
       " 'Scala',\n",
       " 'Swift',\n",
       " 'TypeScript',\n",
       " 'VBA',\n",
       " 'WebAssembly']"
      ]
     },
     "execution_count": 442,
     "metadata": {},
     "output_type": "execute_result"
    }
   ],
   "source": [
    "LanguageWorkedWith_list"
   ]
  },
  {
   "cell_type": "code",
   "execution_count": 443,
   "id": "998b2c17",
   "metadata": {},
   "outputs": [],
   "source": [
    "# Add values to dataframe\n",
    "df = pd.concat([df.drop('LanguageWorkedWith', 1), df['LanguageWorkedWith'].str.get_dummies(sep=';').add_prefix('Language_')], 1)"
   ]
  },
  {
   "cell_type": "code",
   "execution_count": 444,
   "id": "f4921ae1",
   "metadata": {},
   "outputs": [],
   "source": [
    "# 24. LanguageDesireNextYear"
   ]
  },
  {
   "cell_type": "code",
   "execution_count": 445,
   "id": "4fadec37",
   "metadata": {},
   "outputs": [
    {
     "data": {
      "text/plain": [
       "Python                                                                        2362\n",
       "HTML/CSS;JavaScript;TypeScript                                                1142\n",
       "HTML/CSS;JavaScript                                                           1101\n",
       "C#                                                                            1063\n",
       "C#;HTML/CSS;JavaScript;SQL;TypeScript                                          964\n",
       "                                                                              ... \n",
       "Bash/Shell/PowerShell;C#;Kotlin;Python;SQL                                       1\n",
       "Assembly;C;C++;C#;Go;WebAssembly                                                 1\n",
       "Bash/Shell/PowerShell;C;Go;Haskell;HTML/CSS;JavaScript;Python;Rust;SQL           1\n",
       "C;C++;Clojure;Python                                                             1\n",
       "Bash/Shell/PowerShell;HTML/CSS;JavaScript;Python;Ruby;TypeScript;Other(s):       1\n",
       "Name: LanguageDesireNextYear, Length: 38114, dtype: int64"
      ]
     },
     "execution_count": 445,
     "metadata": {},
     "output_type": "execute_result"
    }
   ],
   "source": [
    "df['LanguageDesireNextYear'].value_counts()"
   ]
  },
  {
   "cell_type": "code",
   "execution_count": 446,
   "id": "88c96e6d",
   "metadata": {},
   "outputs": [],
   "source": [
    "LanguageDesireNextYear_list = list(df.LanguageDesireNextYear.str.get_dummies(sep=';').columns)"
   ]
  },
  {
   "cell_type": "code",
   "execution_count": 447,
   "id": "0ef8c62a",
   "metadata": {},
   "outputs": [
    {
     "data": {
      "text/plain": [
       "['Assembly',\n",
       " 'Bash/Shell/PowerShell',\n",
       " 'C',\n",
       " 'C#',\n",
       " 'C++',\n",
       " 'Clojure',\n",
       " 'Dart',\n",
       " 'Elixir',\n",
       " 'Erlang',\n",
       " 'F#',\n",
       " 'Go',\n",
       " 'HTML/CSS',\n",
       " 'Haskell',\n",
       " 'Java',\n",
       " 'JavaScript',\n",
       " 'Julia',\n",
       " 'Kotlin',\n",
       " 'Objective-C',\n",
       " 'Other(s):',\n",
       " 'PHP',\n",
       " 'Perl',\n",
       " 'Python',\n",
       " 'R',\n",
       " 'Ruby',\n",
       " 'Rust',\n",
       " 'SQL',\n",
       " 'Scala',\n",
       " 'Swift',\n",
       " 'TypeScript',\n",
       " 'VBA',\n",
       " 'WebAssembly']"
      ]
     },
     "execution_count": 447,
     "metadata": {},
     "output_type": "execute_result"
    }
   ],
   "source": [
    "LanguageDesireNextYear_list"
   ]
  },
  {
   "cell_type": "code",
   "execution_count": 448,
   "id": "220dd6b1",
   "metadata": {},
   "outputs": [],
   "source": [
    "# Add values to dataframe\n",
    "df = pd.concat([df.drop('LanguageDesireNextYear', 1), df['LanguageDesireNextYear'].str.get_dummies(sep=';').add_prefix('LanguageNextYear_')], 1)"
   ]
  },
  {
   "cell_type": "code",
   "execution_count": 449,
   "id": "b62d368b",
   "metadata": {},
   "outputs": [],
   "source": [
    "# 25. DatabaseWorkedWith"
   ]
  },
  {
   "cell_type": "code",
   "execution_count": 450,
   "id": "2cb32f48",
   "metadata": {},
   "outputs": [
    {
     "data": {
      "text/plain": [
       "MySQL                                                                                 9257\n",
       "Microsoft SQL Server                                                                  8398\n",
       "PostgreSQL                                                                            4513\n",
       "SQLite                                                                                3321\n",
       "Microsoft SQL Server;MySQL                                                            2978\n",
       "                                                                                      ... \n",
       "DynamoDB;Elasticsearch;MySQL;Redis;SQLite;Other(s):                                      1\n",
       "Cassandra;MariaDB;MongoDB;Microsoft SQL Server;MySQL;Redis                               1\n",
       "Elasticsearch;IBM DB2;MariaDB;Microsoft SQL Server;MySQL;PostgreSQL;Redis;SQLite         1\n",
       "DynamoDB;Firebase;MariaDB;Oracle;PostgreSQL;Redis;SQLite                                 1\n",
       "Couchbase;Elasticsearch;Microsoft SQL Server;MongoDB;MySQL;Oracle;PostgreSQL;Redis       1\n",
       "Name: DatabaseWorkedWith, Length: 4868, dtype: int64"
      ]
     },
     "execution_count": 450,
     "metadata": {},
     "output_type": "execute_result"
    }
   ],
   "source": [
    "df['DatabaseWorkedWith'].value_counts()"
   ]
  },
  {
   "cell_type": "code",
   "execution_count": 451,
   "id": "85bfe039",
   "metadata": {},
   "outputs": [],
   "source": [
    "DatabaseWorkedWith_list = list(df.DatabaseWorkedWith.str.get_dummies(sep=';').columns)"
   ]
  },
  {
   "cell_type": "code",
   "execution_count": 452,
   "id": "f1df1bac",
   "metadata": {},
   "outputs": [
    {
     "data": {
      "text/plain": [
       "['Cassandra',\n",
       " 'Couchbase',\n",
       " 'DynamoDB',\n",
       " 'Elasticsearch',\n",
       " 'Firebase',\n",
       " 'IBM DB2',\n",
       " 'MariaDB',\n",
       " 'Microsoft SQL Server',\n",
       " 'MongoDB',\n",
       " 'MySQL',\n",
       " 'Oracle',\n",
       " 'Other(s):',\n",
       " 'PostgreSQL',\n",
       " 'Redis',\n",
       " 'SQLite']"
      ]
     },
     "execution_count": 452,
     "metadata": {},
     "output_type": "execute_result"
    }
   ],
   "source": [
    "DatabaseWorkedWith_list"
   ]
  },
  {
   "cell_type": "code",
   "execution_count": 453,
   "id": "4320c1a8",
   "metadata": {},
   "outputs": [],
   "source": [
    "# Add values to dataframe\n",
    "df = pd.concat([df.drop('DatabaseWorkedWith', 1), df['DatabaseWorkedWith'].str.get_dummies(sep=';').add_prefix('DatabaseWorkedWith_')], 1)"
   ]
  },
  {
   "cell_type": "code",
   "execution_count": 454,
   "id": "d739f5cb",
   "metadata": {},
   "outputs": [],
   "source": [
    "# 26. DatabaseDesireNextYear"
   ]
  },
  {
   "cell_type": "code",
   "execution_count": 455,
   "id": "b53a6ddf",
   "metadata": {},
   "outputs": [
    {
     "data": {
      "text/plain": [
       "PostgreSQL                                                                                5801\n",
       "Microsoft SQL Server                                                                      5203\n",
       "MySQL                                                                                     4951\n",
       "MongoDB                                                                                   3838\n",
       "SQLite                                                                                    2459\n",
       "                                                                                          ... \n",
       "Couchbase;DynamoDB;Elasticsearch;Firebase;MariaDB;MongoDB;MySQL;PostgreSQL;Redis             1\n",
       "Cassandra;Couchbase;Elasticsearch;MongoDB;Microsoft SQL Server;Oracle;PostgreSQL;Redis       1\n",
       "Couchbase;DynamoDB;Elasticsearch;Firebase;MongoDB;Oracle;PostgreSQL;Redis                    1\n",
       "IBM DB2;Microsoft SQL Server;MongoDB;MySQL;Oracle;PostgreSQL                                 1\n",
       "Couchbase;Elasticsearch;Firebase;IBM DB2;MongoDB;Oracle;PostgreSQL;SQLite                    1\n",
       "Name: DatabaseDesireNextYear, Length: 5386, dtype: int64"
      ]
     },
     "execution_count": 455,
     "metadata": {},
     "output_type": "execute_result"
    }
   ],
   "source": [
    "df['DatabaseDesireNextYear'].value_counts()"
   ]
  },
  {
   "cell_type": "code",
   "execution_count": 456,
   "id": "754bfb6c",
   "metadata": {},
   "outputs": [],
   "source": [
    "DatabaseDesireNextYear_list = list(df.DatabaseDesireNextYear.str.get_dummies(sep=';').columns)"
   ]
  },
  {
   "cell_type": "code",
   "execution_count": 457,
   "id": "a80a00a5",
   "metadata": {},
   "outputs": [
    {
     "data": {
      "text/plain": [
       "['Cassandra',\n",
       " 'Couchbase',\n",
       " 'DynamoDB',\n",
       " 'Elasticsearch',\n",
       " 'Firebase',\n",
       " 'IBM DB2',\n",
       " 'MariaDB',\n",
       " 'Microsoft SQL Server',\n",
       " 'MongoDB',\n",
       " 'MySQL',\n",
       " 'Oracle',\n",
       " 'Other(s):',\n",
       " 'PostgreSQL',\n",
       " 'Redis',\n",
       " 'SQLite']"
      ]
     },
     "execution_count": 457,
     "metadata": {},
     "output_type": "execute_result"
    }
   ],
   "source": [
    "DatabaseDesireNextYear_list"
   ]
  },
  {
   "cell_type": "code",
   "execution_count": 458,
   "id": "7086fea3",
   "metadata": {},
   "outputs": [],
   "source": [
    "# Add values to dataframe\n",
    "df = pd.concat([df.drop('DatabaseDesireNextYear', 1), df['DatabaseDesireNextYear'].str.get_dummies(sep=';').add_prefix('DatabaseDesireNextYear_')], 1)"
   ]
  },
  {
   "cell_type": "code",
   "execution_count": 459,
   "id": "d3732c79",
   "metadata": {},
   "outputs": [],
   "source": [
    "# 27. PlatformWorkedWith"
   ]
  },
  {
   "cell_type": "code",
   "execution_count": 460,
   "id": "8bd279a8",
   "metadata": {},
   "outputs": [
    {
     "data": {
      "text/plain": [
       "Windows                                                                                             11682\n",
       "Linux;Windows                                                                                        5716\n",
       "Linux                                                                                                5373\n",
       "Android                                                                                              3098\n",
       "Microsoft Azure;Windows                                                                              2186\n",
       "                                                                                                    ...  \n",
       "Android;AWS;Docker;iOS;Kubernetes;Linux;MacOS;Microsoft Azure;WordPress                                 1\n",
       "Android;Arduino;Docker;Google Cloud Platform;Kubernetes;Linux;Raspberry Pi;Windows;WordPress            1\n",
       "AWS;Docker;IBM Cloud or Watson;Linux;Microsoft Azure;Raspberry Pi;Slack                                 1\n",
       "Android;Arduino;AWS;Docker;Heroku;IBM Cloud or Watson;iOS;Linux;MacOS;Raspberry Pi;Slack;Windows        1\n",
       "Android;Google Cloud Platform;Heroku;Linux;MacOS;Microsoft Azure;Slack;Windows;WordPress                1\n",
       "Name: PlatformWorkedWith, Length: 12312, dtype: int64"
      ]
     },
     "execution_count": 460,
     "metadata": {},
     "output_type": "execute_result"
    }
   ],
   "source": [
    "df['PlatformWorkedWith'].value_counts()"
   ]
  },
  {
   "cell_type": "code",
   "execution_count": 461,
   "id": "ce5d117c",
   "metadata": {},
   "outputs": [],
   "source": [
    "PlatformWorkedWith_list = list(df.PlatformWorkedWith.str.get_dummies(sep=';').columns)"
   ]
  },
  {
   "cell_type": "code",
   "execution_count": 462,
   "id": "63e36ff2",
   "metadata": {},
   "outputs": [
    {
     "data": {
      "text/plain": [
       "['AWS',\n",
       " 'Android',\n",
       " 'Arduino',\n",
       " 'Docker',\n",
       " 'Google Cloud Platform',\n",
       " 'Heroku',\n",
       " 'IBM Cloud or Watson',\n",
       " 'Kubernetes',\n",
       " 'Linux',\n",
       " 'MacOS',\n",
       " 'Microsoft Azure',\n",
       " 'Other(s):',\n",
       " 'Raspberry Pi',\n",
       " 'Slack',\n",
       " 'Slack Apps and Integrations',\n",
       " 'Windows',\n",
       " 'WordPress',\n",
       " 'iOS']"
      ]
     },
     "execution_count": 462,
     "metadata": {},
     "output_type": "execute_result"
    }
   ],
   "source": [
    "PlatformWorkedWith_list"
   ]
  },
  {
   "cell_type": "code",
   "execution_count": 463,
   "id": "838ccc78",
   "metadata": {},
   "outputs": [],
   "source": [
    "# Add values to dataframe\n",
    "df = pd.concat([df.drop('PlatformWorkedWith', 1), df['PlatformWorkedWith'].str.get_dummies(sep=';').add_prefix('PlatformWorkedWith_')], 1)"
   ]
  },
  {
   "cell_type": "code",
   "execution_count": 464,
   "id": "93e4cda1",
   "metadata": {},
   "outputs": [],
   "source": [
    "# 28. PlatformDesireNextYear"
   ]
  },
  {
   "cell_type": "code",
   "execution_count": 465,
   "id": "32bfac2c",
   "metadata": {},
   "outputs": [
    {
     "data": {
      "text/plain": [
       "Linux                                                                                 5251\n",
       "Windows                                                                               4673\n",
       "Linux;Windows                                                                         2798\n",
       "Android                                                                               2293\n",
       "Docker;Linux                                                                          1867\n",
       "                                                                                      ... \n",
       "Docker;Google Cloud Platform;IBM Cloud or Watson;iOS;Linux;Slack;Windows;WordPress       1\n",
       "Android;Arduino;AWS;IBM Cloud or Watson;Windows                                          1\n",
       "Android;Arduino;Docker;iOS;Kubernetes;MacOS;Microsoft Azure;Raspberry Pi;Windows         1\n",
       "Android;AWS;Docker;Linux;MacOS;Microsoft Azure;Slack;Windows;WordPress                   1\n",
       "Docker;Google Cloud Platform;iOS;MacOS;Slack                                             1\n",
       "Name: PlatformDesireNextYear, Length: 14577, dtype: int64"
      ]
     },
     "execution_count": 465,
     "metadata": {},
     "output_type": "execute_result"
    }
   ],
   "source": [
    "df['PlatformDesireNextYear'].value_counts()"
   ]
  },
  {
   "cell_type": "code",
   "execution_count": 466,
   "id": "b33ce5b0",
   "metadata": {},
   "outputs": [],
   "source": [
    "PlatformDesireNextYear_list = list(df.PlatformDesireNextYear.str.get_dummies(sep=';').columns)"
   ]
  },
  {
   "cell_type": "code",
   "execution_count": 467,
   "id": "ec6ddd75",
   "metadata": {},
   "outputs": [
    {
     "data": {
      "text/plain": [
       "['AWS',\n",
       " 'Android',\n",
       " 'Arduino',\n",
       " 'Docker',\n",
       " 'Google Cloud Platform',\n",
       " 'Heroku',\n",
       " 'IBM Cloud or Watson',\n",
       " 'Kubernetes',\n",
       " 'Linux',\n",
       " 'MacOS',\n",
       " 'Microsoft Azure',\n",
       " 'Other(s):',\n",
       " 'Raspberry Pi',\n",
       " 'Slack',\n",
       " 'Slack Apps and Integrations',\n",
       " 'Windows',\n",
       " 'WordPress',\n",
       " 'iOS']"
      ]
     },
     "execution_count": 467,
     "metadata": {},
     "output_type": "execute_result"
    }
   ],
   "source": [
    "PlatformDesireNextYear_list"
   ]
  },
  {
   "cell_type": "code",
   "execution_count": 468,
   "id": "334d36cd",
   "metadata": {},
   "outputs": [],
   "source": [
    "# Add values to dataframe\n",
    "df = pd.concat([df.drop('PlatformDesireNextYear', 1), df['PlatformDesireNextYear'].str.get_dummies(sep=';').add_prefix('PlatformDesireNextYear_')], 1)"
   ]
  },
  {
   "cell_type": "code",
   "execution_count": 469,
   "id": "865cc6eb",
   "metadata": {},
   "outputs": [],
   "source": [
    "# 29. MiscTechWorkedWith"
   ]
  },
  {
   "cell_type": "code",
   "execution_count": 470,
   "id": "2d853424",
   "metadata": {},
   "outputs": [
    {
     "data": {
      "text/plain": [
       "Node.js                                                                     17551\n",
       ".NET;.NET Core                                                               7655\n",
       ".NET                                                                         7505\n",
       ".NET;.NET Core;Node.js                                                       3868\n",
       "Pandas                                                                       3042\n",
       "                                                                            ...  \n",
       ".NET;Ansible;Keras;TensorFlow;Teraform                                          1\n",
       "Ansible;Apache Spark;Hadoop;Torch/PyTorch                                       1\n",
       "Flutter;Node.js;React Native;TensorFlow;Torch/PyTorch;Unreal Engine             1\n",
       "Ansible;Apache Spark;Hadoop;Pandas;React Native;TensorFlow;Torch/PyTorch        1\n",
       "Cordova;.NET;.NET Core;Node.js;React Native;Unity 3D;Unreal Engine              1\n",
       "Name: MiscTechWorkedWith, Length: 4753, dtype: int64"
      ]
     },
     "execution_count": 470,
     "metadata": {},
     "output_type": "execute_result"
    }
   ],
   "source": [
    "df['MiscTechWorkedWith'].value_counts()"
   ]
  },
  {
   "cell_type": "code",
   "execution_count": 471,
   "id": "4e45f0c7",
   "metadata": {},
   "outputs": [],
   "source": [
    "MiscTechWorkedWith_list = list(df.MiscTechWorkedWith.str.get_dummies(sep=';').columns)"
   ]
  },
  {
   "cell_type": "code",
   "execution_count": 472,
   "id": "1092c481",
   "metadata": {},
   "outputs": [
    {
     "data": {
      "text/plain": [
       "['.NET',\n",
       " '.NET Core',\n",
       " 'Ansible',\n",
       " 'Apache Spark',\n",
       " 'Chef',\n",
       " 'Cordova',\n",
       " 'CryEngine',\n",
       " 'Flutter',\n",
       " 'Hadoop',\n",
       " 'Keras',\n",
       " 'Node.js',\n",
       " 'Other(s):',\n",
       " 'Pandas',\n",
       " 'Puppet',\n",
       " 'React Native',\n",
       " 'TensorFlow',\n",
       " 'Teraform',\n",
       " 'Torch/PyTorch',\n",
       " 'Unity 3D',\n",
       " 'Unreal Engine',\n",
       " 'Xamarin']"
      ]
     },
     "execution_count": 472,
     "metadata": {},
     "output_type": "execute_result"
    }
   ],
   "source": [
    "MiscTechWorkedWith_list"
   ]
  },
  {
   "cell_type": "code",
   "execution_count": 473,
   "id": "6acc8389",
   "metadata": {},
   "outputs": [],
   "source": [
    "# Add values to dataframe\n",
    "df = pd.concat([df.drop('MiscTechWorkedWith', 1), df['MiscTechWorkedWith'].str.get_dummies(sep=';').add_prefix('MiscTechWorkedWith_')], 1)"
   ]
  },
  {
   "cell_type": "code",
   "execution_count": 474,
   "id": "605c452d",
   "metadata": {},
   "outputs": [],
   "source": [
    "# 30. MiscTechDesireNextYear"
   ]
  },
  {
   "cell_type": "code",
   "execution_count": 475,
   "id": "57c57e1d",
   "metadata": {},
   "outputs": [
    {
     "data": {
      "text/plain": [
       "Node.js                                                                                     10951\n",
       ".NET;.NET Core                                                                               4252\n",
       "Node.js;React Native                                                                         4119\n",
       ".NET Core                                                                                    2537\n",
       "TensorFlow                                                                                   2154\n",
       "                                                                                            ...  \n",
       "Ansible;Chef;Flutter;Hadoop;.NET Core                                                           1\n",
       ".NET;.NET Core;Ansible;Apache Spark;Hadoop;Keras;Node.js;Pandas;TensorFlow;Torch/PyTorch        1\n",
       "Apache Spark;Cordova;Flutter;Hadoop;Node.js;Unreal Engine                                       1\n",
       "Flutter;React Native;TensorFlow;Unity 3D;Xamarin                                                1\n",
       ".NET;.NET Core;Ansible;Teraform;Xamarin                                                         1\n",
       "Name: MiscTechDesireNextYear, Length: 9349, dtype: int64"
      ]
     },
     "execution_count": 475,
     "metadata": {},
     "output_type": "execute_result"
    }
   ],
   "source": [
    "df['MiscTechDesireNextYear'].value_counts()"
   ]
  },
  {
   "cell_type": "code",
   "execution_count": 476,
   "id": "fa379f00",
   "metadata": {},
   "outputs": [],
   "source": [
    "MiscTechDesireNextYear_list = list(df.MiscTechDesireNextYear.str.get_dummies(sep=';').columns)"
   ]
  },
  {
   "cell_type": "code",
   "execution_count": 477,
   "id": "dc360eff",
   "metadata": {},
   "outputs": [
    {
     "data": {
      "text/plain": [
       "['.NET',\n",
       " '.NET Core',\n",
       " 'Ansible',\n",
       " 'Apache Spark',\n",
       " 'Chef',\n",
       " 'Cordova',\n",
       " 'CryEngine',\n",
       " 'Flutter',\n",
       " 'Hadoop',\n",
       " 'Keras',\n",
       " 'Node.js',\n",
       " 'Other(s):',\n",
       " 'Pandas',\n",
       " 'Puppet',\n",
       " 'React Native',\n",
       " 'TensorFlow',\n",
       " 'Teraform',\n",
       " 'Torch/PyTorch',\n",
       " 'Unity 3D',\n",
       " 'Unreal Engine',\n",
       " 'Xamarin']"
      ]
     },
     "execution_count": 477,
     "metadata": {},
     "output_type": "execute_result"
    }
   ],
   "source": [
    "MiscTechDesireNextYear_list"
   ]
  },
  {
   "cell_type": "code",
   "execution_count": 478,
   "id": "9ab5aa32",
   "metadata": {},
   "outputs": [],
   "source": [
    "# Add values to dataframe\n",
    "df = pd.concat([df.drop('MiscTechDesireNextYear', 1), df['MiscTechDesireNextYear'].str.get_dummies(sep=';').add_prefix('MiscTechDesireNextYear_')], 1)"
   ]
  },
  {
   "cell_type": "code",
   "execution_count": 479,
   "id": "fa3f6094",
   "metadata": {},
   "outputs": [],
   "source": [
    "# 31. OpSys"
   ]
  },
  {
   "cell_type": "code",
   "execution_count": 480,
   "id": "d492515e",
   "metadata": {},
   "outputs": [
    {
     "data": {
      "text/plain": [
       "Windows        68053\n",
       "MacOS          37341\n",
       "Linux-based    37017\n",
       "BSD              166\n",
       "Name: OpSys, dtype: int64"
      ]
     },
     "execution_count": 480,
     "metadata": {},
     "output_type": "execute_result"
    }
   ],
   "source": [
    "df['OpSys'].value_counts()"
   ]
  },
  {
   "cell_type": "code",
   "execution_count": 481,
   "id": "13216875",
   "metadata": {},
   "outputs": [],
   "source": [
    "# Simple one hot-encoding\n",
    "df = pd.get_dummies(df, columns=['OpSys'])"
   ]
  },
  {
   "cell_type": "code",
   "execution_count": 482,
   "id": "145accff",
   "metadata": {},
   "outputs": [],
   "source": [
    "# 32. SOVisitFreq"
   ]
  },
  {
   "cell_type": "code",
   "execution_count": 483,
   "id": "0a4697fc",
   "metadata": {},
   "outputs": [
    {
     "data": {
      "text/plain": [
       "Daily or almost daily                                 43772\n",
       "Multiple times per day                                42558\n",
       "A few times per week                                  33202\n",
       "A few times per month or weekly                       18880\n",
       "Less than once per month or monthly                    4628\n",
       "I have never visited Stack Overflow (before today)      694\n",
       "Name: SOVisitFreq, dtype: int64"
      ]
     },
     "execution_count": 483,
     "metadata": {},
     "output_type": "execute_result"
    }
   ],
   "source": [
    "df['SOVisitFreq'].value_counts()"
   ]
  },
  {
   "cell_type": "code",
   "execution_count": 484,
   "id": "8cea36ef",
   "metadata": {},
   "outputs": [],
   "source": [
    "# Simple one hot-encoding\n",
    "df = pd.get_dummies(df, columns=['SOVisitFreq'])"
   ]
  },
  {
   "cell_type": "code",
   "execution_count": 485,
   "id": "6f94465b",
   "metadata": {},
   "outputs": [],
   "source": [
    "# 33. SOAccount"
   ]
  },
  {
   "cell_type": "code",
   "execution_count": 486,
   "id": "2eed97ca",
   "metadata": {},
   "outputs": [
    {
     "data": {
      "text/plain": [
       "Yes                          121208\n",
       "No                            14316\n",
       "Not sure / can't remember      4269\n",
       "Not sure/can't remember        3397\n",
       "Name: SOAccount, dtype: int64"
      ]
     },
     "execution_count": 486,
     "metadata": {},
     "output_type": "execute_result"
    }
   ],
   "source": [
    "df['SOAccount'].value_counts()"
   ]
  },
  {
   "cell_type": "code",
   "execution_count": 487,
   "id": "89f03e67",
   "metadata": {},
   "outputs": [],
   "source": [
    "# Simple one hot-encoding\n",
    "df = pd.get_dummies(df, columns=['SOAccount'])"
   ]
  },
  {
   "cell_type": "code",
   "execution_count": 488,
   "id": "332852a8",
   "metadata": {},
   "outputs": [],
   "source": [
    "# 34. SOPartFreq"
   ]
  },
  {
   "cell_type": "code",
   "execution_count": 489,
   "id": "fefd6775",
   "metadata": {},
   "outputs": [
    {
     "data": {
      "text/plain": [
       "Less than once per month or monthly                   50411\n",
       "I have never participated in Q&A on Stack Overflow    27382\n",
       "A few times per month or weekly                       22185\n",
       "A few times per week                                  11105\n",
       "Daily or almost daily                                  5838\n",
       "Multiple times per day                                 3323\n",
       "Name: SOPartFreq, dtype: int64"
      ]
     },
     "execution_count": 489,
     "metadata": {},
     "output_type": "execute_result"
    }
   ],
   "source": [
    "df['SOPartFreq'].value_counts()"
   ]
  },
  {
   "cell_type": "code",
   "execution_count": 490,
   "id": "f86f3415",
   "metadata": {},
   "outputs": [],
   "source": [
    "# Simple one hot-encoding\n",
    "df = pd.get_dummies(df, columns=['SOPartFreq'])"
   ]
  },
  {
   "cell_type": "code",
   "execution_count": 491,
   "id": "4e69ec18",
   "metadata": {},
   "outputs": [],
   "source": [
    "# 35. SOComm"
   ]
  },
  {
   "cell_type": "code",
   "execution_count": 492,
   "id": "c0a98f1f",
   "metadata": {},
   "outputs": [
    {
     "data": {
      "text/plain": [
       "Yes, somewhat      42211\n",
       "No, not really     34319\n",
       "Neutral            29301\n",
       "Yes, definitely    23933\n",
       "No, not at all     11191\n",
       "Not sure            2163\n",
       "Name: SOComm, dtype: int64"
      ]
     },
     "execution_count": 492,
     "metadata": {},
     "output_type": "execute_result"
    }
   ],
   "source": [
    "df['SOComm'].value_counts()"
   ]
  },
  {
   "cell_type": "code",
   "execution_count": 493,
   "id": "f7b2b7fa",
   "metadata": {},
   "outputs": [],
   "source": [
    "# Simple one hot-encoding\n",
    "df = pd.get_dummies(df, columns=['SOComm'])"
   ]
  },
  {
   "cell_type": "code",
   "execution_count": 494,
   "id": "1eeb9bf2",
   "metadata": {},
   "outputs": [],
   "source": [
    "# 36. WelcomeChange"
   ]
  },
  {
   "cell_type": "code",
   "execution_count": 495,
   "id": "d82b7db6",
   "metadata": {},
   "outputs": [
    {
     "data": {
      "text/plain": [
       "Just as welcome now as I felt last year                    99076\n",
       "Somewhat more welcome now than last year                   13681\n",
       "A lot more welcome now than last year                       7831\n",
       "Somewhat less welcome now than last year                    7280\n",
       "Not applicable - I did not use Stack Overflow last year     4647\n",
       "A lot less welcome now than last year                       4632\n",
       "Name: WelcomeChange, dtype: int64"
      ]
     },
     "execution_count": 495,
     "metadata": {},
     "output_type": "execute_result"
    }
   ],
   "source": [
    "df['WelcomeChange'].value_counts()"
   ]
  },
  {
   "cell_type": "code",
   "execution_count": 496,
   "id": "0eed23e5",
   "metadata": {},
   "outputs": [],
   "source": [
    "# Simple one hot-encoding\n",
    "df = pd.get_dummies(df, columns=['WelcomeChange'])"
   ]
  },
  {
   "cell_type": "code",
   "execution_count": 497,
   "id": "9cbed941",
   "metadata": {},
   "outputs": [],
   "source": [
    "# 37. Age"
   ]
  },
  {
   "cell_type": "code",
   "execution_count": 498,
   "id": "5cddd4af",
   "metadata": {},
   "outputs": [
    {
     "data": {
      "text/plain": [
       "25.0    7278\n",
       "28.0    6733\n",
       "26.0    6701\n",
       "27.0    6683\n",
       "24.0    6611\n",
       "        ... \n",
       "32.5       1\n",
       "39.5       1\n",
       "98.9       1\n",
       "19.8       1\n",
       "34.5       1\n",
       "Name: Age, Length: 144, dtype: int64"
      ]
     },
     "execution_count": 498,
     "metadata": {},
     "output_type": "execute_result"
    }
   ],
   "source": [
    "df['Age'].value_counts()"
   ]
  },
  {
   "cell_type": "code",
   "execution_count": 499,
   "id": "a7872845",
   "metadata": {},
   "outputs": [],
   "source": [
    "# Looks good"
   ]
  },
  {
   "cell_type": "code",
   "execution_count": 500,
   "id": "4b49fb32",
   "metadata": {},
   "outputs": [],
   "source": [
    "# 38. Gender"
   ]
  },
  {
   "cell_type": "code",
   "execution_count": 501,
   "id": "80dc69b3",
   "metadata": {},
   "outputs": [
    {
     "data": {
      "text/plain": [
       "Man                                                            122705\n",
       "Woman                                                           10086\n",
       "Non-binary, genderqueer, or gender non-conforming                 971\n",
       "Man;Non-binary, genderqueer, or gender non-conforming             298\n",
       "Woman;Non-binary, genderqueer, or gender non-conforming           252\n",
       "Woman;Man                                                         197\n",
       "Woman;Man;Non-binary, genderqueer, or gender non-conforming        92\n",
       "Name: Gender, dtype: int64"
      ]
     },
     "execution_count": 501,
     "metadata": {},
     "output_type": "execute_result"
    }
   ],
   "source": [
    "df['Gender'].value_counts()"
   ]
  },
  {
   "cell_type": "code",
   "execution_count": 502,
   "id": "b257f831",
   "metadata": {},
   "outputs": [],
   "source": [
    "Gender_list = list(df['Gender'].str.get_dummies(sep=';'))"
   ]
  },
  {
   "cell_type": "code",
   "execution_count": 503,
   "id": "38c36dbb",
   "metadata": {},
   "outputs": [
    {
     "data": {
      "text/plain": [
       "['Man', 'Non-binary, genderqueer, or gender non-conforming', 'Woman']"
      ]
     },
     "execution_count": 503,
     "metadata": {},
     "output_type": "execute_result"
    }
   ],
   "source": [
    "Gender_list"
   ]
  },
  {
   "cell_type": "code",
   "execution_count": 504,
   "id": "a7d1a9ac",
   "metadata": {},
   "outputs": [],
   "source": [
    "# Add values to dataframe\n",
    "df = pd.concat([df.drop('Gender', 1), df['Gender'].str.get_dummies(sep=';').add_prefix('Gender_')], 1)"
   ]
  },
  {
   "cell_type": "code",
   "execution_count": 505,
   "id": "5d38d747",
   "metadata": {},
   "outputs": [],
   "source": [
    "# 39. Trans"
   ]
  },
  {
   "cell_type": "code",
   "execution_count": 506,
   "id": "9bb5b960",
   "metadata": {},
   "outputs": [
    {
     "data": {
      "text/plain": [
       "No     130216\n",
       "Yes      1461\n",
       "Name: Trans, dtype: int64"
      ]
     },
     "execution_count": 506,
     "metadata": {},
     "output_type": "execute_result"
    }
   ],
   "source": [
    "df['Trans'].value_counts()"
   ]
  },
  {
   "cell_type": "code",
   "execution_count": 507,
   "id": "184980a9",
   "metadata": {},
   "outputs": [],
   "source": [
    "# Simple one hot-encoding\n",
    "df = pd.get_dummies(df, columns=['Trans'])"
   ]
  },
  {
   "cell_type": "code",
   "execution_count": 508,
   "id": "ccb0ab72",
   "metadata": {},
   "outputs": [],
   "source": [
    "# 40. Sexuality"
   ]
  },
  {
   "cell_type": "code",
   "execution_count": 509,
   "id": "38e4ecd4",
   "metadata": {},
   "outputs": [
    {
     "data": {
      "text/plain": [
       "Straight / Heterosexual                                  109278\n",
       "Bisexual                                                   5313\n",
       "Gay or Lesbian                                             2759\n",
       "Bisexual;Straight / Heterosexual                            744\n",
       "Queer                                                       246\n",
       "Bisexual;Queer                                              188\n",
       "Bisexual;Gay or Lesbian                                     151\n",
       "Bisexual;Gay or Lesbian;Straight / Heterosexual             109\n",
       "Gay or Lesbian;Queer                                         90\n",
       "Straight / Heterosexual;Queer                                56\n",
       "Gay or Lesbian;Straight / Heterosexual                       49\n",
       "Bisexual;Gay or Lesbian;Straight / Heterosexual;Queer        35\n",
       "Bisexual;Gay or Lesbian;Queer                                24\n",
       "Bisexual;Straight / Heterosexual;Queer                       10\n",
       "Name: Sexuality, dtype: int64"
      ]
     },
     "execution_count": 509,
     "metadata": {},
     "output_type": "execute_result"
    }
   ],
   "source": [
    "df['Sexuality'].value_counts()"
   ]
  },
  {
   "cell_type": "code",
   "execution_count": 510,
   "id": "16929593",
   "metadata": {},
   "outputs": [],
   "source": [
    "Sexuality_list = list(df.Sexuality.str.get_dummies(sep=';'))"
   ]
  },
  {
   "cell_type": "code",
   "execution_count": 511,
   "id": "5ff8ec0a",
   "metadata": {},
   "outputs": [
    {
     "data": {
      "text/plain": [
       "['Bisexual', 'Gay or Lesbian', 'Queer', 'Straight / Heterosexual']"
      ]
     },
     "execution_count": 511,
     "metadata": {},
     "output_type": "execute_result"
    }
   ],
   "source": [
    "Sexuality_list"
   ]
  },
  {
   "cell_type": "code",
   "execution_count": 512,
   "id": "f4c26fc1",
   "metadata": {},
   "outputs": [],
   "source": [
    "# Add values to dataframe\n",
    "df = pd.concat([df.drop('Sexuality', 1), df['Sexuality'].str.get_dummies(sep=';').add_prefix('Sexuality_')], 1)"
   ]
  },
  {
   "cell_type": "code",
   "execution_count": 513,
   "id": "1f24e69b",
   "metadata": {},
   "outputs": [],
   "source": [
    "# 41. Ethnicity"
   ]
  },
  {
   "cell_type": "code",
   "execution_count": 514,
   "id": "94dd1ebe",
   "metadata": {},
   "outputs": [
    {
     "data": {
      "text/plain": [
       "White or of European descent                                                                                                                     80070\n",
       "South Asian                                                                                                                                      12762\n",
       "East Asian                                                                                                                                        5132\n",
       "Middle Eastern                                                                                                                                    4075\n",
       "Black or of African descent                                                                                                                       3418\n",
       "                                                                                                                                                 ...  \n",
       "Hispanic or Latino/Latina;Middle Eastern;White or of European descent;Biracial                                                                       1\n",
       "East Asian;Hispanic or Latino/Latina;Middle Eastern                                                                                                  1\n",
       "East Asian;South Asian;Biracial;Multiracial                                                                                                          1\n",
       "Native American, Pacific Islander, or Indigenous Australian;South Asian;Multiracial                                                                  1\n",
       "Black or of African descent;East Asian;Hispanic or Latino/Latina;Middle Eastern;South Asian;White or of European descent;Biracial;Multiracial        1\n",
       "Name: Ethnicity, Length: 350, dtype: int64"
      ]
     },
     "execution_count": 514,
     "metadata": {},
     "output_type": "execute_result"
    }
   ],
   "source": [
    "df['Ethnicity'].value_counts()"
   ]
  },
  {
   "cell_type": "code",
   "execution_count": 515,
   "id": "55e12766",
   "metadata": {},
   "outputs": [],
   "source": [
    "# We can drop this column"
   ]
  },
  {
   "cell_type": "code",
   "execution_count": 516,
   "id": "71217526",
   "metadata": {},
   "outputs": [],
   "source": [
    "df = df.drop(columns=['Ethnicity'])"
   ]
  },
  {
   "cell_type": "code",
   "execution_count": 517,
   "id": "ea8835f0",
   "metadata": {},
   "outputs": [],
   "source": [
    "# 42. SurveyLength"
   ]
  },
  {
   "cell_type": "code",
   "execution_count": 518,
   "id": "3e80996e",
   "metadata": {},
   "outputs": [
    {
     "data": {
      "text/plain": [
       "Appropriate in length    95803\n",
       "Too long                 37586\n",
       "Too short                 3897\n",
       "Name: SurveyLength, dtype: int64"
      ]
     },
     "execution_count": 518,
     "metadata": {},
     "output_type": "execute_result"
    }
   ],
   "source": [
    "df['SurveyLength'].value_counts()"
   ]
  },
  {
   "cell_type": "code",
   "execution_count": 519,
   "id": "7fa6654f",
   "metadata": {},
   "outputs": [],
   "source": [
    "# Simple one hot-encoding\n",
    "df = pd.get_dummies(df, columns=['SurveyLength'])"
   ]
  },
  {
   "cell_type": "code",
   "execution_count": 520,
   "id": "10cbea3a",
   "metadata": {},
   "outputs": [],
   "source": [
    "# 43. SurveyEase"
   ]
  },
  {
   "cell_type": "code",
   "execution_count": 521,
   "id": "fbae6754",
   "metadata": {},
   "outputs": [
    {
     "data": {
      "text/plain": [
       "Easy                          92482\n",
       "Neither easy nor difficult    42676\n",
       "Difficult                      2337\n",
       "Name: SurveyEase, dtype: int64"
      ]
     },
     "execution_count": 521,
     "metadata": {},
     "output_type": "execute_result"
    }
   ],
   "source": [
    "df['SurveyEase'].value_counts()"
   ]
  },
  {
   "cell_type": "code",
   "execution_count": 522,
   "id": "94a8c895",
   "metadata": {},
   "outputs": [],
   "source": [
    "# Simple one hot-encoding\n",
    "df = pd.get_dummies(df, columns=['SurveyEase'])"
   ]
  },
  {
   "cell_type": "code",
   "execution_count": 523,
   "id": "4a5ecf3b",
   "metadata": {},
   "outputs": [],
   "source": [
    "# Fill nan values - in the end"
   ]
  },
  {
   "cell_type": "code",
   "execution_count": 524,
   "id": "f5746d9c",
   "metadata": {},
   "outputs": [],
   "source": [
    "count_na = df.isna().sum()"
   ]
  },
  {
   "cell_type": "code",
   "execution_count": 525,
   "id": "8cf85aa6",
   "metadata": {},
   "outputs": [
    {
     "data": {
      "text/plain": [
       "ConvertedComp    61797\n",
       "CompTotal        61614\n",
       "WorkWeekHrs      46954\n",
       "YearsCodePro     32236\n",
       "Age              28142\n",
       "JobSeek          20751\n",
       "Age1stCode        7671\n",
       "YearsCode         7582\n",
       "dtype: int64"
      ]
     },
     "execution_count": 525,
     "metadata": {},
     "output_type": "execute_result"
    }
   ],
   "source": [
    "count_na[count_na > 0].sort_values(ascending=False)"
   ]
  },
  {
   "cell_type": "code",
   "execution_count": 526,
   "id": "c59d936c",
   "metadata": {},
   "outputs": [],
   "source": [
    "# Let's try to fill missing values or remove column"
   ]
  },
  {
   "cell_type": "code",
   "execution_count": 527,
   "id": "abc2760b",
   "metadata": {},
   "outputs": [
    {
     "data": {
      "text/plain": [
       "264532.6144262284"
      ]
     },
     "execution_count": 527,
     "metadata": {},
     "output_type": "execute_result"
    }
   ],
   "source": [
    "# 1. ConvertedComp\n",
    "df['ConvertedComp'].std()"
   ]
  },
  {
   "cell_type": "code",
   "execution_count": 528,
   "id": "060b4bf6",
   "metadata": {},
   "outputs": [],
   "source": [
    "# Standard dev is really big. We have to remove column"
   ]
  },
  {
   "cell_type": "code",
   "execution_count": 529,
   "id": "587a9839",
   "metadata": {},
   "outputs": [],
   "source": [
    "df = df.drop(columns = ['ConvertedComp'])"
   ]
  },
  {
   "cell_type": "code",
   "execution_count": 530,
   "id": "436d49a1",
   "metadata": {},
   "outputs": [],
   "source": [
    "# 2. CompTotal"
   ]
  },
  {
   "cell_type": "code",
   "execution_count": 531,
   "id": "33a2cac5",
   "metadata": {},
   "outputs": [
    {
     "data": {
      "text/plain": [
       "1.2341290997768688e+242"
      ]
     },
     "execution_count": 531,
     "metadata": {},
     "output_type": "execute_result"
    }
   ],
   "source": [
    "df['CompTotal'].mean()"
   ]
  },
  {
   "cell_type": "code",
   "execution_count": 532,
   "id": "c50b3c2c",
   "metadata": {},
   "outputs": [],
   "source": [
    "# Some weird values - remove column\n",
    "df = df.drop(columns = ['CompTotal'])"
   ]
  },
  {
   "cell_type": "code",
   "execution_count": 533,
   "id": "da213ccf",
   "metadata": {},
   "outputs": [
    {
     "data": {
      "text/plain": [
       "31.274136284195844"
      ]
     },
     "execution_count": 533,
     "metadata": {},
     "output_type": "execute_result"
    }
   ],
   "source": [
    "# 3. WorkWeekHrs\n",
    "df['WorkWeekHrs'].std()"
   ]
  },
  {
   "cell_type": "code",
   "execution_count": 534,
   "id": "1c8a4b17",
   "metadata": {
    "scrolled": true
   },
   "outputs": [
    {
     "data": {
      "text/plain": [
       "41.617999529414355"
      ]
     },
     "execution_count": 534,
     "metadata": {},
     "output_type": "execute_result"
    }
   ],
   "source": [
    "df['WorkWeekHrs'].mean()"
   ]
  },
  {
   "cell_type": "code",
   "execution_count": 535,
   "id": "bdedf6f3",
   "metadata": {},
   "outputs": [],
   "source": [
    "# We can fill missing values with mean"
   ]
  },
  {
   "cell_type": "code",
   "execution_count": 536,
   "id": "a4ab962b",
   "metadata": {},
   "outputs": [],
   "source": [
    "df['WorkWeekHrs'] = df['WorkWeekHrs'].fillna(df['WorkWeekHrs'].mean())"
   ]
  },
  {
   "cell_type": "code",
   "execution_count": 537,
   "id": "ca3fd7f9",
   "metadata": {},
   "outputs": [],
   "source": [
    "# 4. YearsCodePro"
   ]
  },
  {
   "cell_type": "code",
   "execution_count": 538,
   "id": "84fbd917",
   "metadata": {},
   "outputs": [
    {
     "data": {
      "text/plain": [
       "7.74967820990784"
      ]
     },
     "execution_count": 538,
     "metadata": {},
     "output_type": "execute_result"
    }
   ],
   "source": [
    "df['YearsCodePro'].std()"
   ]
  },
  {
   "cell_type": "code",
   "execution_count": 539,
   "id": "c47bd380",
   "metadata": {},
   "outputs": [
    {
     "data": {
      "text/plain": [
       "8.33560840800603"
      ]
     },
     "execution_count": 539,
     "metadata": {},
     "output_type": "execute_result"
    }
   ],
   "source": [
    "df['YearsCodePro'].mean()"
   ]
  },
  {
   "cell_type": "code",
   "execution_count": 540,
   "id": "c0e1ab90",
   "metadata": {},
   "outputs": [],
   "source": [
    "# Fill missing values with ffill"
   ]
  },
  {
   "cell_type": "code",
   "execution_count": 541,
   "id": "af92dec6",
   "metadata": {},
   "outputs": [],
   "source": [
    "df['YearsCodePro'] = df['YearsCodePro'].fillna(method='ffill')"
   ]
  },
  {
   "cell_type": "code",
   "execution_count": 542,
   "id": "4f993488",
   "metadata": {},
   "outputs": [],
   "source": [
    "# 5. YearsCode "
   ]
  },
  {
   "cell_type": "code",
   "execution_count": 543,
   "id": "8a9732c1",
   "metadata": {},
   "outputs": [
    {
     "data": {
      "text/plain": [
       "9.428479120365628"
      ]
     },
     "execution_count": 543,
     "metadata": {},
     "output_type": "execute_result"
    }
   ],
   "source": [
    "df['YearsCode'].std()"
   ]
  },
  {
   "cell_type": "code",
   "execution_count": 544,
   "id": "d23e7c00",
   "metadata": {},
   "outputs": [
    {
     "data": {
      "text/plain": [
       "12.126492392270102"
      ]
     },
     "execution_count": 544,
     "metadata": {},
     "output_type": "execute_result"
    }
   ],
   "source": [
    "df['YearsCode'].mean()"
   ]
  },
  {
   "cell_type": "code",
   "execution_count": 545,
   "id": "91a1a5c0",
   "metadata": {},
   "outputs": [],
   "source": [
    "# Fill missing values with ffill"
   ]
  },
  {
   "cell_type": "code",
   "execution_count": 546,
   "id": "12459c84",
   "metadata": {},
   "outputs": [],
   "source": [
    "df['YearsCode'] = df['YearsCode'].fillna(method='ffill')"
   ]
  },
  {
   "cell_type": "code",
   "execution_count": 547,
   "id": "c1ee6d48",
   "metadata": {},
   "outputs": [],
   "source": [
    "# 6. Age"
   ]
  },
  {
   "cell_type": "code",
   "execution_count": 548,
   "id": "583eae92",
   "metadata": {},
   "outputs": [],
   "source": [
    "# Age is too hard to predict, we cannot use mean for it. We can try to use ffill, but if not good results - remove column"
   ]
  },
  {
   "cell_type": "code",
   "execution_count": 549,
   "id": "ed182006",
   "metadata": {},
   "outputs": [],
   "source": [
    "df['Age'] = df['Age'].fillna(method='ffill')"
   ]
  },
  {
   "cell_type": "code",
   "execution_count": 550,
   "id": "362afad0",
   "metadata": {},
   "outputs": [],
   "source": [
    "# 7. JobSeek - out target varaible - we have to remove all rows where JobSeel equal NaN"
   ]
  },
  {
   "cell_type": "code",
   "execution_count": 551,
   "id": "aa4e3a6a",
   "metadata": {},
   "outputs": [
    {
     "data": {
      "text/plain": [
       "I’m not actively looking, but I am open to new opportunities    76248\n",
       "I am not interested in new job opportunities                    33871\n",
       "I am actively looking for a job                                 20776\n",
       "Name: JobSeek, dtype: int64"
      ]
     },
     "execution_count": 551,
     "metadata": {},
     "output_type": "execute_result"
    }
   ],
   "source": [
    "df['JobSeek'].value_counts()"
   ]
  },
  {
   "cell_type": "code",
   "execution_count": 552,
   "id": "c43a9dbc",
   "metadata": {},
   "outputs": [],
   "source": [
    "df = df[df['JobSeek'].notna()]"
   ]
  },
  {
   "cell_type": "code",
   "execution_count": 553,
   "id": "0565ebfc",
   "metadata": {},
   "outputs": [],
   "source": [
    "# 8. Age1stCode - ffill      "
   ]
  },
  {
   "cell_type": "code",
   "execution_count": 554,
   "id": "10ca3be8",
   "metadata": {},
   "outputs": [
    {
     "data": {
      "text/plain": [
       "15.407668086682719"
      ]
     },
     "execution_count": 554,
     "metadata": {},
     "output_type": "execute_result"
    }
   ],
   "source": [
    "df['Age1stCode'].mean()"
   ]
  },
  {
   "cell_type": "code",
   "execution_count": 555,
   "id": "42cc3386",
   "metadata": {
    "scrolled": true
   },
   "outputs": [
    {
     "data": {
      "text/plain": [
       "5.020589934987553"
      ]
     },
     "execution_count": 555,
     "metadata": {},
     "output_type": "execute_result"
    }
   ],
   "source": [
    "df['Age1stCode'].std()"
   ]
  },
  {
   "cell_type": "code",
   "execution_count": 556,
   "id": "c0581aaa",
   "metadata": {},
   "outputs": [],
   "source": [
    "df['Age1stCode'] = df['Age1stCode'].fillna(method='ffill')"
   ]
  },
  {
   "cell_type": "code",
   "execution_count": 557,
   "id": "0005d68e",
   "metadata": {
    "scrolled": true
   },
   "outputs": [
    {
     "data": {
      "text/plain": [
       "YearsCodePro    1\n",
       "dtype: int64"
      ]
     },
     "execution_count": 557,
     "metadata": {},
     "output_type": "execute_result"
    }
   ],
   "source": [
    "count_na = df.isna().sum()\n",
    "count_na[count_na > 0].sort_values(ascending=False)"
   ]
  },
  {
   "cell_type": "code",
   "execution_count": 558,
   "id": "e9e29cc4",
   "metadata": {},
   "outputs": [],
   "source": [
    "# Remove the last missing value\n",
    "df = df.dropna()"
   ]
  },
  {
   "cell_type": "code",
   "execution_count": 560,
   "id": "608d8242",
   "metadata": {},
   "outputs": [
    {
     "name": "stdout",
     "output_type": "stream",
     "text": [
      "<class 'pandas.core.frame.DataFrame'>\n",
      "Int64Index: 130894 entries, 2 to 153036\n",
      "Columns: 585 entries, YearsCode to SurveyEase_Neither easy nor difficult\n",
      "dtypes: float64(5), int64(215), object(1), uint8(364)\n",
      "memory usage: 267.1+ MB\n"
     ]
    }
   ],
   "source": [
    "df.info()"
   ]
  },
  {
   "cell_type": "code",
   "execution_count": 561,
   "id": "4d787780",
   "metadata": {},
   "outputs": [],
   "source": [
    "# Each column is numerical. Only one is object type, but this is target variable and it'll be converted later"
   ]
  },
  {
   "cell_type": "code",
   "execution_count": 562,
   "id": "67d48e93",
   "metadata": {},
   "outputs": [
    {
     "data": {
      "text/html": [
       "<div>\n",
       "<style scoped>\n",
       "    .dataframe tbody tr th:only-of-type {\n",
       "        vertical-align: middle;\n",
       "    }\n",
       "\n",
       "    .dataframe tbody tr th {\n",
       "        vertical-align: top;\n",
       "    }\n",
       "\n",
       "    .dataframe thead th {\n",
       "        text-align: right;\n",
       "    }\n",
       "</style>\n",
       "<table border=\"1\" class=\"dataframe\">\n",
       "  <thead>\n",
       "    <tr style=\"text-align: right;\">\n",
       "      <th></th>\n",
       "      <th>JobSeek</th>\n",
       "    </tr>\n",
       "  </thead>\n",
       "  <tbody>\n",
       "    <tr>\n",
       "      <th>2</th>\n",
       "      <td>I’m not actively looking, but I am open to new...</td>\n",
       "    </tr>\n",
       "    <tr>\n",
       "      <th>3</th>\n",
       "      <td>I am not interested in new job opportunities</td>\n",
       "    </tr>\n",
       "    <tr>\n",
       "      <th>4</th>\n",
       "      <td>I am not interested in new job opportunities</td>\n",
       "    </tr>\n",
       "    <tr>\n",
       "      <th>5</th>\n",
       "      <td>I am not interested in new job opportunities</td>\n",
       "    </tr>\n",
       "    <tr>\n",
       "      <th>6</th>\n",
       "      <td>I’m not actively looking, but I am open to new...</td>\n",
       "    </tr>\n",
       "    <tr>\n",
       "      <th>...</th>\n",
       "      <td>...</td>\n",
       "    </tr>\n",
       "    <tr>\n",
       "      <th>153029</th>\n",
       "      <td>I am not interested in new job opportunities</td>\n",
       "    </tr>\n",
       "    <tr>\n",
       "      <th>153031</th>\n",
       "      <td>I am not interested in new job opportunities</td>\n",
       "    </tr>\n",
       "    <tr>\n",
       "      <th>153033</th>\n",
       "      <td>I am not interested in new job opportunities</td>\n",
       "    </tr>\n",
       "    <tr>\n",
       "      <th>153035</th>\n",
       "      <td>I’m not actively looking, but I am open to new...</td>\n",
       "    </tr>\n",
       "    <tr>\n",
       "      <th>153036</th>\n",
       "      <td>I’m not actively looking, but I am open to new...</td>\n",
       "    </tr>\n",
       "  </tbody>\n",
       "</table>\n",
       "<p>130894 rows × 1 columns</p>\n",
       "</div>"
      ],
      "text/plain": [
       "                                                  JobSeek\n",
       "2       I’m not actively looking, but I am open to new...\n",
       "3            I am not interested in new job opportunities\n",
       "4            I am not interested in new job opportunities\n",
       "5            I am not interested in new job opportunities\n",
       "6       I’m not actively looking, but I am open to new...\n",
       "...                                                   ...\n",
       "153029       I am not interested in new job opportunities\n",
       "153031       I am not interested in new job opportunities\n",
       "153033       I am not interested in new job opportunities\n",
       "153035  I’m not actively looking, but I am open to new...\n",
       "153036  I’m not actively looking, but I am open to new...\n",
       "\n",
       "[130894 rows x 1 columns]"
      ]
     },
     "execution_count": 562,
     "metadata": {},
     "output_type": "execute_result"
    }
   ],
   "source": [
    "df.select_dtypes(include=['object'])"
   ]
  },
  {
   "cell_type": "code",
   "execution_count": 564,
   "id": "e21323ac",
   "metadata": {},
   "outputs": [
    {
     "data": {
      "text/html": [
       "<div>\n",
       "<style scoped>\n",
       "    .dataframe tbody tr th:only-of-type {\n",
       "        vertical-align: middle;\n",
       "    }\n",
       "\n",
       "    .dataframe tbody tr th {\n",
       "        vertical-align: top;\n",
       "    }\n",
       "\n",
       "    .dataframe thead th {\n",
       "        text-align: right;\n",
       "    }\n",
       "</style>\n",
       "<table border=\"1\" class=\"dataframe\">\n",
       "  <thead>\n",
       "    <tr style=\"text-align: right;\">\n",
       "      <th></th>\n",
       "      <th>YearsCode</th>\n",
       "      <th>Age1stCode</th>\n",
       "      <th>YearsCodePro</th>\n",
       "      <th>WorkWeekHrs</th>\n",
       "      <th>Age</th>\n",
       "      <th>MainBranch_I am a developer by profession</th>\n",
       "      <th>MainBranch_I am a student who is learning to code</th>\n",
       "      <th>MainBranch_I am not primarily a developer, but I write code sometimes as part of my work</th>\n",
       "      <th>MainBranch_I code primarily as a hobby</th>\n",
       "      <th>MainBranch_I used to be a developer by profession, but no longer am</th>\n",
       "      <th>...</th>\n",
       "      <th>Sexuality_Bisexual</th>\n",
       "      <th>Sexuality_Gay or Lesbian</th>\n",
       "      <th>Sexuality_Queer</th>\n",
       "      <th>Sexuality_Straight / Heterosexual</th>\n",
       "      <th>SurveyLength_Appropriate in length</th>\n",
       "      <th>SurveyLength_Too long</th>\n",
       "      <th>SurveyLength_Too short</th>\n",
       "      <th>SurveyEase_Difficult</th>\n",
       "      <th>SurveyEase_Easy</th>\n",
       "      <th>SurveyEase_Neither easy nor difficult</th>\n",
       "    </tr>\n",
       "  </thead>\n",
       "  <tbody>\n",
       "    <tr>\n",
       "      <th>count</th>\n",
       "      <td>130894.000000</td>\n",
       "      <td>130894.000000</td>\n",
       "      <td>130894.000000</td>\n",
       "      <td>130894.000000</td>\n",
       "      <td>130894.000000</td>\n",
       "      <td>130894.000000</td>\n",
       "      <td>130894.000000</td>\n",
       "      <td>130894.000000</td>\n",
       "      <td>130894.0</td>\n",
       "      <td>130894.0</td>\n",
       "      <td>...</td>\n",
       "      <td>130894.000000</td>\n",
       "      <td>130894.000000</td>\n",
       "      <td>130894.000000</td>\n",
       "      <td>130894.000000</td>\n",
       "      <td>130894.000000</td>\n",
       "      <td>130894.000000</td>\n",
       "      <td>130894.000000</td>\n",
       "      <td>130894.000000</td>\n",
       "      <td>130894.000000</td>\n",
       "      <td>130894.000000</td>\n",
       "    </tr>\n",
       "    <tr>\n",
       "      <th>mean</th>\n",
       "      <td>12.312532</td>\n",
       "      <td>15.409163</td>\n",
       "      <td>8.294563</td>\n",
       "      <td>41.622677</td>\n",
       "      <td>30.668963</td>\n",
       "      <td>0.799884</td>\n",
       "      <td>0.109050</td>\n",
       "      <td>0.091066</td>\n",
       "      <td>0.0</td>\n",
       "      <td>0.0</td>\n",
       "      <td>...</td>\n",
       "      <td>0.045197</td>\n",
       "      <td>0.022025</td>\n",
       "      <td>0.004576</td>\n",
       "      <td>0.781067</td>\n",
       "      <td>0.670397</td>\n",
       "      <td>0.269439</td>\n",
       "      <td>0.025517</td>\n",
       "      <td>0.016135</td>\n",
       "      <td>0.650427</td>\n",
       "      <td>0.300151</td>\n",
       "    </tr>\n",
       "    <tr>\n",
       "      <th>std</th>\n",
       "      <td>9.244270</td>\n",
       "      <td>5.019940</td>\n",
       "      <td>7.659875</td>\n",
       "      <td>27.909360</td>\n",
       "      <td>8.870148</td>\n",
       "      <td>0.400089</td>\n",
       "      <td>0.311703</td>\n",
       "      <td>0.287704</td>\n",
       "      <td>0.0</td>\n",
       "      <td>0.0</td>\n",
       "      <td>...</td>\n",
       "      <td>0.207736</td>\n",
       "      <td>0.146767</td>\n",
       "      <td>0.067493</td>\n",
       "      <td>0.413525</td>\n",
       "      <td>0.470071</td>\n",
       "      <td>0.443670</td>\n",
       "      <td>0.157689</td>\n",
       "      <td>0.125996</td>\n",
       "      <td>0.476837</td>\n",
       "      <td>0.458325</td>\n",
       "    </tr>\n",
       "    <tr>\n",
       "      <th>min</th>\n",
       "      <td>0.500000</td>\n",
       "      <td>3.000000</td>\n",
       "      <td>0.500000</td>\n",
       "      <td>1.000000</td>\n",
       "      <td>1.000000</td>\n",
       "      <td>0.000000</td>\n",
       "      <td>0.000000</td>\n",
       "      <td>0.000000</td>\n",
       "      <td>0.0</td>\n",
       "      <td>0.0</td>\n",
       "      <td>...</td>\n",
       "      <td>0.000000</td>\n",
       "      <td>0.000000</td>\n",
       "      <td>0.000000</td>\n",
       "      <td>0.000000</td>\n",
       "      <td>0.000000</td>\n",
       "      <td>0.000000</td>\n",
       "      <td>0.000000</td>\n",
       "      <td>0.000000</td>\n",
       "      <td>0.000000</td>\n",
       "      <td>0.000000</td>\n",
       "    </tr>\n",
       "    <tr>\n",
       "      <th>25%</th>\n",
       "      <td>6.000000</td>\n",
       "      <td>12.000000</td>\n",
       "      <td>3.000000</td>\n",
       "      <td>40.000000</td>\n",
       "      <td>24.000000</td>\n",
       "      <td>1.000000</td>\n",
       "      <td>0.000000</td>\n",
       "      <td>0.000000</td>\n",
       "      <td>0.0</td>\n",
       "      <td>0.0</td>\n",
       "      <td>...</td>\n",
       "      <td>0.000000</td>\n",
       "      <td>0.000000</td>\n",
       "      <td>0.000000</td>\n",
       "      <td>1.000000</td>\n",
       "      <td>0.000000</td>\n",
       "      <td>0.000000</td>\n",
       "      <td>0.000000</td>\n",
       "      <td>0.000000</td>\n",
       "      <td>0.000000</td>\n",
       "      <td>0.000000</td>\n",
       "    </tr>\n",
       "    <tr>\n",
       "      <th>50%</th>\n",
       "      <td>10.000000</td>\n",
       "      <td>15.000000</td>\n",
       "      <td>6.000000</td>\n",
       "      <td>40.000000</td>\n",
       "      <td>29.000000</td>\n",
       "      <td>1.000000</td>\n",
       "      <td>0.000000</td>\n",
       "      <td>0.000000</td>\n",
       "      <td>0.0</td>\n",
       "      <td>0.0</td>\n",
       "      <td>...</td>\n",
       "      <td>0.000000</td>\n",
       "      <td>0.000000</td>\n",
       "      <td>0.000000</td>\n",
       "      <td>1.000000</td>\n",
       "      <td>1.000000</td>\n",
       "      <td>0.000000</td>\n",
       "      <td>0.000000</td>\n",
       "      <td>0.000000</td>\n",
       "      <td>1.000000</td>\n",
       "      <td>0.000000</td>\n",
       "    </tr>\n",
       "    <tr>\n",
       "      <th>75%</th>\n",
       "      <td>17.000000</td>\n",
       "      <td>18.000000</td>\n",
       "      <td>11.000000</td>\n",
       "      <td>41.618000</td>\n",
       "      <td>35.000000</td>\n",
       "      <td>1.000000</td>\n",
       "      <td>0.000000</td>\n",
       "      <td>0.000000</td>\n",
       "      <td>0.0</td>\n",
       "      <td>0.0</td>\n",
       "      <td>...</td>\n",
       "      <td>0.000000</td>\n",
       "      <td>0.000000</td>\n",
       "      <td>0.000000</td>\n",
       "      <td>1.000000</td>\n",
       "      <td>1.000000</td>\n",
       "      <td>1.000000</td>\n",
       "      <td>0.000000</td>\n",
       "      <td>0.000000</td>\n",
       "      <td>1.000000</td>\n",
       "      <td>1.000000</td>\n",
       "    </tr>\n",
       "    <tr>\n",
       "      <th>max</th>\n",
       "      <td>55.000000</td>\n",
       "      <td>90.000000</td>\n",
       "      <td>55.000000</td>\n",
       "      <td>4850.000000</td>\n",
       "      <td>279.000000</td>\n",
       "      <td>1.000000</td>\n",
       "      <td>1.000000</td>\n",
       "      <td>1.000000</td>\n",
       "      <td>0.0</td>\n",
       "      <td>0.0</td>\n",
       "      <td>...</td>\n",
       "      <td>1.000000</td>\n",
       "      <td>1.000000</td>\n",
       "      <td>1.000000</td>\n",
       "      <td>1.000000</td>\n",
       "      <td>1.000000</td>\n",
       "      <td>1.000000</td>\n",
       "      <td>1.000000</td>\n",
       "      <td>1.000000</td>\n",
       "      <td>1.000000</td>\n",
       "      <td>1.000000</td>\n",
       "    </tr>\n",
       "  </tbody>\n",
       "</table>\n",
       "<p>8 rows × 584 columns</p>\n",
       "</div>"
      ],
      "text/plain": [
       "           YearsCode     Age1stCode   YearsCodePro    WorkWeekHrs  \\\n",
       "count  130894.000000  130894.000000  130894.000000  130894.000000   \n",
       "mean       12.312532      15.409163       8.294563      41.622677   \n",
       "std         9.244270       5.019940       7.659875      27.909360   \n",
       "min         0.500000       3.000000       0.500000       1.000000   \n",
       "25%         6.000000      12.000000       3.000000      40.000000   \n",
       "50%        10.000000      15.000000       6.000000      40.000000   \n",
       "75%        17.000000      18.000000      11.000000      41.618000   \n",
       "max        55.000000      90.000000      55.000000    4850.000000   \n",
       "\n",
       "                 Age  MainBranch_I am a developer by profession  \\\n",
       "count  130894.000000                              130894.000000   \n",
       "mean       30.668963                                   0.799884   \n",
       "std         8.870148                                   0.400089   \n",
       "min         1.000000                                   0.000000   \n",
       "25%        24.000000                                   1.000000   \n",
       "50%        29.000000                                   1.000000   \n",
       "75%        35.000000                                   1.000000   \n",
       "max       279.000000                                   1.000000   \n",
       "\n",
       "       MainBranch_I am a student who is learning to code  \\\n",
       "count                                      130894.000000   \n",
       "mean                                            0.109050   \n",
       "std                                             0.311703   \n",
       "min                                             0.000000   \n",
       "25%                                             0.000000   \n",
       "50%                                             0.000000   \n",
       "75%                                             0.000000   \n",
       "max                                             1.000000   \n",
       "\n",
       "       MainBranch_I am not primarily a developer, but I write code sometimes as part of my work  \\\n",
       "count                                      130894.000000                                          \n",
       "mean                                            0.091066                                          \n",
       "std                                             0.287704                                          \n",
       "min                                             0.000000                                          \n",
       "25%                                             0.000000                                          \n",
       "50%                                             0.000000                                          \n",
       "75%                                             0.000000                                          \n",
       "max                                             1.000000                                          \n",
       "\n",
       "       MainBranch_I code primarily as a hobby  \\\n",
       "count                                130894.0   \n",
       "mean                                      0.0   \n",
       "std                                       0.0   \n",
       "min                                       0.0   \n",
       "25%                                       0.0   \n",
       "50%                                       0.0   \n",
       "75%                                       0.0   \n",
       "max                                       0.0   \n",
       "\n",
       "       MainBranch_I used to be a developer by profession, but no longer am  \\\n",
       "count                                           130894.0                     \n",
       "mean                                                 0.0                     \n",
       "std                                                  0.0                     \n",
       "min                                                  0.0                     \n",
       "25%                                                  0.0                     \n",
       "50%                                                  0.0                     \n",
       "75%                                                  0.0                     \n",
       "max                                                  0.0                     \n",
       "\n",
       "       ...  Sexuality_Bisexual  Sexuality_Gay or Lesbian  Sexuality_Queer  \\\n",
       "count  ...       130894.000000             130894.000000    130894.000000   \n",
       "mean   ...            0.045197                  0.022025         0.004576   \n",
       "std    ...            0.207736                  0.146767         0.067493   \n",
       "min    ...            0.000000                  0.000000         0.000000   \n",
       "25%    ...            0.000000                  0.000000         0.000000   \n",
       "50%    ...            0.000000                  0.000000         0.000000   \n",
       "75%    ...            0.000000                  0.000000         0.000000   \n",
       "max    ...            1.000000                  1.000000         1.000000   \n",
       "\n",
       "       Sexuality_Straight / Heterosexual  SurveyLength_Appropriate in length  \\\n",
       "count                      130894.000000                       130894.000000   \n",
       "mean                            0.781067                            0.670397   \n",
       "std                             0.413525                            0.470071   \n",
       "min                             0.000000                            0.000000   \n",
       "25%                             1.000000                            0.000000   \n",
       "50%                             1.000000                            1.000000   \n",
       "75%                             1.000000                            1.000000   \n",
       "max                             1.000000                            1.000000   \n",
       "\n",
       "       SurveyLength_Too long  SurveyLength_Too short  SurveyEase_Difficult  \\\n",
       "count          130894.000000           130894.000000         130894.000000   \n",
       "mean                0.269439                0.025517              0.016135   \n",
       "std                 0.443670                0.157689              0.125996   \n",
       "min                 0.000000                0.000000              0.000000   \n",
       "25%                 0.000000                0.000000              0.000000   \n",
       "50%                 0.000000                0.000000              0.000000   \n",
       "75%                 1.000000                0.000000              0.000000   \n",
       "max                 1.000000                1.000000              1.000000   \n",
       "\n",
       "       SurveyEase_Easy  SurveyEase_Neither easy nor difficult  \n",
       "count    130894.000000                          130894.000000  \n",
       "mean          0.650427                               0.300151  \n",
       "std           0.476837                               0.458325  \n",
       "min           0.000000                               0.000000  \n",
       "25%           0.000000                               0.000000  \n",
       "50%           1.000000                               0.000000  \n",
       "75%           1.000000                               1.000000  \n",
       "max           1.000000                               1.000000  \n",
       "\n",
       "[8 rows x 584 columns]"
      ]
     },
     "execution_count": 564,
     "metadata": {},
     "output_type": "execute_result"
    }
   ],
   "source": [
    "df.describe()"
   ]
  },
  {
   "cell_type": "code",
   "execution_count": 563,
   "id": "af02f308",
   "metadata": {},
   "outputs": [],
   "source": [
    "# Save dataframe to csv file \n",
    "df.to_csv('clear_data.csv', sep = ';')"
   ]
  },
  {
   "cell_type": "code",
   "execution_count": 1,
   "id": "b645adf9",
   "metadata": {},
   "outputs": [],
   "source": [
    "# Korelacja\n",
    "# Wykresy\n",
    "\n",
    "# Regresja logistyczna\n",
    "# Drzewa decyzyjne -> lasy losowe\n",
    "# XGboost / neural nets\n",
    "\n",
    "# Macierze pomyłek, porównanie modeli "
   ]
  }
 ],
 "metadata": {
  "kernelspec": {
   "display_name": "Python 3 (ipykernel)",
   "language": "python",
   "name": "python3"
  },
  "language_info": {
   "codemirror_mode": {
    "name": "ipython",
    "version": 3
   },
   "file_extension": ".py",
   "mimetype": "text/x-python",
   "name": "python",
   "nbconvert_exporter": "python",
   "pygments_lexer": "ipython3",
   "version": "3.10.9"
  }
 },
 "nbformat": 4,
 "nbformat_minor": 5
}
